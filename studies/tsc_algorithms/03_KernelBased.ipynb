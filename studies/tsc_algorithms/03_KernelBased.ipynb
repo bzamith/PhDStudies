{
 "cells": [
  {
   "cell_type": "markdown",
   "id": "8e90c526",
   "metadata": {
    "vscode": {
     "languageId": "plaintext"
    }
   },
   "source": [
    "# Time Series Classification Algorithms - (3) Kernel Based"
   ]
  },
  {
   "cell_type": "markdown",
   "id": "b9b4f00f",
   "metadata": {},
   "source": [
    "<div style=\"border: 1px solid #007acc; background-color: #e6f4ff; padding: 10px; border-radius: 5px; color: black;\">\n",
    "  <strong>📘 Info:</strong> I do not claim ownership of the content in this notebook. It is based on official <a href=\"https://www.aeon-toolkit.org/en/latest/examples.html\" target=\"_blank\">aeon tutorials</a>, and parts of the code or text may have been copy-pasted or adapted directly from those or other sources for learning purposes.\n",
    "</div>"
   ]
  },
  {
   "cell_type": "code",
   "execution_count": 1,
   "id": "dc6b4fab",
   "metadata": {},
   "outputs": [],
   "source": [
    "import warnings\n",
    "warnings.filterwarnings('ignore', category=DeprecationWarning)\n",
    "warnings.filterwarnings('ignore', category=FutureWarning)"
   ]
  },
  {
   "cell_type": "code",
   "execution_count": 2,
   "id": "9280334f",
   "metadata": {},
   "outputs": [],
   "source": [
    "from sklearn import metrics\n",
    "\n",
    "import time"
   ]
  },
  {
   "cell_type": "code",
   "execution_count": 3,
   "id": "54e2fee0",
   "metadata": {},
   "outputs": [],
   "source": [
    "from aeon.datasets import load_classification"
   ]
  },
  {
   "cell_type": "code",
   "execution_count": 4,
   "id": "7034aa39",
   "metadata": {},
   "outputs": [],
   "source": [
    "from tslearn.svm import TimeSeriesSVC"
   ]
  },
  {
   "cell_type": "code",
   "execution_count": 5,
   "id": "bb1f28ec",
   "metadata": {},
   "outputs": [],
   "source": [
    "DATASET_NAMES = [\n",
    "    \"MelbournePedestrian\",\n",
    "    \"ArrowHead\",\n",
    "    \"Colposcopy\"\n",
    "]\n",
    "\n",
    "X_train_dict, y_train_dict = {}, {}\n",
    "X_test_dict, y_test_dict = {}, {}\n",
    "\n",
    "accuracy_dict, f1_score_dict, duration_dict = {}, {}, {}\n",
    "\n",
    "for dataset_name in DATASET_NAMES: \n",
    "    X_train_dict[dataset_name], y_train_dict[dataset_name] = load_classification(\n",
    "        dataset_name, split=\"train\"\n",
    "    )\n",
    "    X_test_dict[dataset_name], y_test_dict[dataset_name] = load_classification(\n",
    "        dataset_name, split=\"test\"\n",
    "    )\n",
    "\n",
    "    X_train_dict[dataset_name] = X_train_dict[dataset_name].squeeze(1)\n",
    "    X_test_dict[dataset_name] = X_test_dict[dataset_name].squeeze(1)\n",
    "\n",
    "    accuracy_dict[dataset_name] = {}\n",
    "    f1_score_dict[dataset_name] = {}\n",
    "    duration_dict[dataset_name] = {}"
   ]
  },
  {
   "cell_type": "markdown",
   "id": "445f90aa",
   "metadata": {},
   "source": [
    "```bibtex\n",
    "@inbook{faouzi2024,\n",
    "  author = {Johann Faouzi},\n",
    "  title = {Time Series Classification: A Review of Algorithms and Implementations},\n",
    "  year = {2024},\n",
    "  month = {March},\n",
    "  booktitle = {Advances in Time Series Analysis and Forecasting},\n",
    "  publisher = {IntechOpen},\n",
    "  isbn = {978-0-85466-053-7},\n",
    "  doi = {10.5772/intechopen.1004810},\n",
    "}\n",
    "```\n",
    "\n",
    "\"Kernel methods are popular machine learning algorithms allowing for nonlinear transformations or decision functions, among which support vector machines are probably the most famous ones and have been successfully used in numerous applications.\n",
    "Kernel methods rely on a kernel function measuring similarity between any pair of inputs. A key necessary assumption of kernel methods is that the kernel is positive-definite. However, as mentioned in the previous section, DTW is not a distance because it does not satisfy the triangle inequality, implying that DTW cannot be used to define a positive-definite kernel. Although DTW has been used with kernel methods in several publications with some tricks, the fact that the theoretical assumptions are not satisfied is an important limitation.\n",
    "A true positive-definite kernel for time series, called the global alignment kernel, was proposed. The global alignment kernel is defined as the sum of all the negatively exponentiated costs over all the possible warping paths.\n",
    "The global alignment kernel has the same computational complexity as DTW, that is, $O(nm)$, because the score between two time series can be computed using a recurrence equation Constraint regions such as the Sakoe-Chiba band and the Itakura parallelogram can also be used with global alignment kernels.\" \\cite{faouzi2024}"
   ]
  },
  {
   "cell_type": "markdown",
   "id": "b88f570e",
   "metadata": {},
   "source": [
    "## 1. Support Vector Machines (SVM) with the Global Alignment Kernel (GAK)"
   ]
  },
  {
   "cell_type": "markdown",
   "id": "4ec9455e",
   "metadata": {},
   "source": [
    "```bibtex\n",
    "@inproceedings{cuturi2011,\n",
    "  title = {Fast Global Alignment Kernels},\n",
    "  author = {Marco Cuturi},\n",
    "  booktitle = {Proceedings of the 28th International Conference on Machine Learning (ICML'11)},\n",
    "  year = {2011},\n",
    "  pages = {929--936},\n",
    "  publisher = {Omnipress}\n",
    "}\n",
    "```\n",
    "\n",
    "Proposed by \\cite{cuturi2011}."
   ]
  },
  {
   "cell_type": "markdown",
   "id": "898f6969",
   "metadata": {},
   "source": [
    "\"Support vector machines with the global alignment kernel have been shown to yield better predictive performances than with other pseudo kernels based on DTW for several multivariate time series classification tasks\" \\cite{faouzi2024}"
   ]
  },
  {
   "cell_type": "code",
   "execution_count": 6,
   "id": "afbde767",
   "metadata": {},
   "outputs": [
    {
     "name": "stdout",
     "output_type": "stream",
     "text": [
      "SVM-GAK\n",
      "-------------------------------------------\n",
      "Dataset: MelbournePedestrian\n",
      "Accuracy: 0.82\n",
      "F1-Score: 0.83\n",
      "Duration: 125.40 seconds\n",
      "-------------------------------------------\n",
      "Dataset: ArrowHead\n",
      "Accuracy: 0.58\n",
      "F1-Score: 0.56\n",
      "Duration: 4.76 seconds\n",
      "-------------------------------------------\n",
      "Dataset: Colposcopy\n",
      "Accuracy: 0.46\n",
      "F1-Score: 0.35\n",
      "Duration: 5.52 seconds\n"
     ]
    }
   ],
   "source": [
    "method = \"SVM-GAK\"\n",
    "print(method)\n",
    "\n",
    "for dataset_name in DATASET_NAMES:\n",
    "    start_time = time.time()\n",
    "\n",
    "    svm_gak = TimeSeriesSVC(kernel='gak')\n",
    "    svm_gak.fit(X_train_dict[dataset_name], y_train_dict[dataset_name])\n",
    "    svm_gak_preds = svm_gak.predict(X_test_dict[dataset_name])\n",
    "    accuracy_dict[dataset_name][method] = metrics.accuracy_score(\n",
    "        y_test_dict[dataset_name], svm_gak_preds\n",
    "    )\n",
    "    f1_score_dict[dataset_name][method] = metrics.f1_score(\n",
    "        y_test_dict[dataset_name], svm_gak_preds,\n",
    "        average=\"weighted\"\n",
    "    )\n",
    "\n",
    "    elapsed_time = time.time() - start_time\n",
    "    duration_dict[dataset_name][method] = elapsed_time\n",
    "    print(\"-------------------------------------------\")\n",
    "    print(f\"Dataset: {dataset_name}\")\n",
    "    print(f\"Accuracy: {accuracy_dict[dataset_name][method]:.2f}\")\n",
    "    print(f\"F1-Score: {f1_score_dict[dataset_name][method]:.2f}\")\n",
    "    print(f\"Duration: {duration_dict[dataset_name][method]:.2f} seconds\")"
   ]
  }
 ],
 "metadata": {
  "kernelspec": {
   "display_name": ".venv",
   "language": "python",
   "name": "python3"
  },
  "language_info": {
   "codemirror_mode": {
    "name": "ipython",
    "version": 3
   },
   "file_extension": ".py",
   "mimetype": "text/x-python",
   "name": "python",
   "nbconvert_exporter": "python",
   "pygments_lexer": "ipython3",
   "version": "3.9.6"
  }
 },
 "nbformat": 4,
 "nbformat_minor": 5
}
