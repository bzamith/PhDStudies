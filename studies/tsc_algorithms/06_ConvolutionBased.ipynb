{
 "cells": [
  {
   "cell_type": "markdown",
   "id": "1ec52445",
   "metadata": {},
   "source": [
    "# Time Series Classification Algorithms - (6) Convolution Based"
   ]
  },
  {
   "cell_type": "markdown",
   "id": "8ba64f56",
   "metadata": {},
   "source": [
    "<div style=\"border: 1px solid #007acc; background-color: #e6f4ff; padding: 10px; border-radius: 5px; color: black;\">\n",
    "  <strong>📘 Info:</strong> I do not claim ownership of the content in this notebook. It is based on official <a href=\"https://www.aeon-toolkit.org/en/latest/examples.html\" target=\"_blank\">aeon tutorials</a>, and parts of the code or text may have been copy-pasted or adapted directly from those or other sources for learning purposes.\n",
    "</div>"
   ]
  },
  {
   "cell_type": "code",
   "execution_count": 1,
   "id": "fb63ffa1",
   "metadata": {},
   "outputs": [],
   "source": [
    "import warnings\n",
    "warnings.filterwarnings('ignore', category=DeprecationWarning)\n",
    "warnings.filterwarnings('ignore', category=FutureWarning)"
   ]
  },
  {
   "cell_type": "code",
   "execution_count": null,
   "id": "031eceaf",
   "metadata": {},
   "outputs": [],
   "source": [
    "import matplotlib.pyplot as plt\n",
    "\n",
    "import pandas as pd\n",
    "\n",
    "import seaborn as sns\n",
    "\n",
    "from sklearn import metrics\n",
    "\n",
    "import time"
   ]
  },
  {
   "cell_type": "code",
   "execution_count": 3,
   "id": "3dc4a486",
   "metadata": {},
   "outputs": [],
   "source": [
    "from aeon.datasets import load_classification\n",
    "from aeon.utils.discovery import all_estimators\n",
    "\n",
    "# all_estimators(\"classifier\", tag_filter={\"algorithm_type\": \"convolution\"})"
   ]
  },
  {
   "cell_type": "code",
   "execution_count": 4,
   "id": "d33d6769",
   "metadata": {},
   "outputs": [],
   "source": [
    "from aeon.classification.convolution_based import (\n",
    "    Arsenal,\n",
    "    HydraClassifier,\n",
    "    MiniRocketClassifier,\n",
    "    MultiRocketClassifier,\n",
    "    RocketClassifier,\n",
    ")"
   ]
  },
  {
   "cell_type": "code",
   "execution_count": 5,
   "id": "3d3937e1",
   "metadata": {},
   "outputs": [],
   "source": [
    "DATASET_NAMES = [\n",
    "    \"MelbournePedestrian\",\n",
    "    \"ArrowHead\",\n",
    "    \"Colposcopy\"\n",
    "]\n",
    "\n",
    "X_train_dict, y_train_dict = {}, {}\n",
    "X_test_dict, y_test_dict = {}, {}\n",
    "\n",
    "accuracy_dict, f1_score_dict, duration_dict = {}, {}, {}\n",
    "\n",
    "for dataset_name in DATASET_NAMES: \n",
    "    X_train_dict[dataset_name], y_train_dict[dataset_name] = load_classification(\n",
    "        dataset_name, split=\"train\"\n",
    "    )\n",
    "    X_test_dict[dataset_name], y_test_dict[dataset_name] = load_classification(\n",
    "        dataset_name, split=\"test\"\n",
    "    )\n",
    "\n",
    "    X_train_dict[dataset_name] = X_train_dict[dataset_name].squeeze(1)\n",
    "    X_test_dict[dataset_name] = X_test_dict[dataset_name].squeeze(1)\n",
    "\n",
    "    accuracy_dict[dataset_name] = {}\n",
    "    f1_score_dict[dataset_name] = {}\n",
    "    duration_dict[dataset_name] = {}"
   ]
  },
  {
   "cell_type": "markdown",
   "id": "1df54040",
   "metadata": {},
   "source": [
    "```bibtex\n",
    "@inbook{faouzi2024,\n",
    "  author = {Johann Faouzi},\n",
    "  title = {Time Series Classification: A Review of Algorithms and Implementations},\n",
    "  year = {2024},\n",
    "  month = {March},\n",
    "  booktitle = {Advances in Time Series Analysis and Forecasting},\n",
    "  publisher = {IntechOpen},\n",
    "  isbn = {978-0-85466-053-7},\n",
    "  doi = {10.5772/intechopen.1004810},\n",
    "}\n",
    "```\n",
    "\n",
    "\"Convolutional neural networks, containing several convolutional layers, have been investigated for time series classification. The values of the convolutional layers are trainable parameters that are optimized by stochastic gradient descent or a variant thereof. Convolutional neural networks have a large number of trainable parameters in comparison with more classic algorithms such as logistic regression or support vector machines, thus usually requiring a large sample size to find good values for the trainable parameters.\" \\cite{faouzi2024}\n",
    "\n",
    "```bibtex\n",
    "@article{middlehurst2024,\n",
    "  author = {Middlehurst, Matthew and Sch{\\\"a}fer, Patrick and Bagnall, Anthony},\n",
    "  title = {Bake Off Redux: A Review and Experimental Evaluation of Recent Time Series Classification Algorithms},\n",
    "  journal = {Data Mining and Knowledge Discovery},\n",
    "  volume = {38},\n",
    "  pages = {1958--2031},\n",
    "  year = {2024},\n",
    "  doi = {10.1007/s10618-024-01022-1},\n",
    "  url = {https://doi.org/10.1007/s10618-024-01022-1}\n",
    "}\n",
    "```\n",
    "\n",
    "\"Kernel/Convolution classifiers use convolutions with kernels, which can be seen as subseries used to derive discriminatory features. Each kernel is convolved with a time series through a sliding dot product creating an activation map. Technically, each convolution creates a series to series transform from time series to the activation map. The main difference between convolutions and shapelets is that shapelets are subseries from the training data whereas convolutions are found from the entire space of possible real-values. Convolution based TSC algorithms follow a standard pipeline pattern depicted in figure below.\" \\cite{middlehurst2024}\n",
    "\n",
    "<img src=\"images/06_convolution.png\" style=\"width:600px; border: 1px solid #ccc; border-radius: 5px;\">\n",
    "\n",
    "\"The activation map is formed for each convolution, followed by pooling operations to extract one relevant feature for each operation. The resulting features are then concatenated to form a single feature vector. Finally, a Ridge classifier is trained on the output to classify the data. The relation ﬂowchart for convolution based algorithms is below.\" \\cite{middlehurst2024}\n",
    "\n",
    "<img src=\"images/06_convolution2.png\" style=\"width:600px; border: 1px solid #ccc; border-radius: 5px;\">\n",
    "\n",
    "A convolution is a subseries that is used to create features for a time series. To do this, a convolution is run along a series, and the dot product is calculated. This creates a new series (often called an activation map or feature map) where large values correspond to a close correlation to the convolution.\n",
    "\n",
    "<img src=\"images/06_convolution3.png\" style=\"width:600px; border: 1px solid #ccc; border-radius: 5px;\">\n",
    "\n",
    "https://www.aeon-toolkit.org/en/stable/examples/classification/convolution_based.html#Convolution-based-time-series-classification-in-aeon"
   ]
  },
  {
   "cell_type": "markdown",
   "id": "45a0cfe6",
   "metadata": {},
   "source": [
    "## 1. Random Convolutional Kernel Transform (ROCKET)"
   ]
  },
  {
   "cell_type": "markdown",
   "id": "9cea7ad1",
   "metadata": {},
   "source": [
    "```bibtex\n",
    "@article{dempster2020,\n",
    "  author = {Angus Dempster and François Petitjean and Geoffrey I. Webb},\n",
    "  title = {ROCKET: Exceptionally Fast and Accurate Time Series Classification Using Random Convolutional Kernels},\n",
    "  journal = {Data Mining and Knowledge Discovery},\n",
    "  volume = {34},\n",
    "  number = {5},\n",
    "  pages = {1454--1495},\n",
    "  year = {2020},\n",
    "  publisher = {Springer}\n",
    "}\n",
    "```\n",
    "\n",
    "Proposed by \\cite{dempster2020}."
   ]
  },
  {
   "cell_type": "markdown",
   "id": "d03481d8",
   "metadata": {},
   "source": [
    "\"This algorithm extracts features from time series using a large number of random convolutional kernels, meaning that all the parameters of all the kernels (length, weights, bias, dilation, and padding) are randomly generated from fixed distributions. Instead of extracting a single feature for each kernel, such as the maximum or the mean, as it is usually performed in convolutional neural networks, two features are extracted: the maximum and the proportion of positive values. The classifier built on top of the transformation is responsible for selecting the most relevant features to perform classification. A ridge regression classifier was originally proposed for several reasons. First, it is highly efficient when the number of classes is high, because the multiclass classification task is treated as a multi-output regression task, with the predicted class corresponding to the output with the highest value; thus, the projection matrix needs to be computed only once. Second, the optimization of the $\\lambda$ parameter (controlling the amount of regularization) using leave-one-out cross-validation is also highly efficient. Logistic regression was rather used for data sets in which the number of training time series was much larger than the number of extracted time series due to the better scalability of logistic regression solved with stochastic gradient descent for large numbers of training samples.\" \\cite{faouzi2024}\n",
    "\n",
    "\"The ROCKET algorithm combined with a linear classifier has a much lower computational complexity than the best-performing time series classification algorithms while having a comparable performance. Its reported performance is actually higher on average than the ones of convolutional neural networks on the commonly benchmarked data sets. Given its high predictive performance and low computational time, ROCKET is one of the most prominent transformation algorithms for time series classification.\" \\cite{faouzi2024}"
   ]
  },
  {
   "cell_type": "code",
   "execution_count": 6,
   "id": "adc0215e",
   "metadata": {},
   "outputs": [
    {
     "name": "stdout",
     "output_type": "stream",
     "text": [
      "Rocket\n",
      "-------------------------------------------\n",
      "Dataset: MelbournePedestrian\n",
      "Accuracy: 0.92\n",
      "F1-Score: 0.92\n",
      "Duration: 5.17 seconds\n",
      "-------------------------------------------\n",
      "Dataset: ArrowHead\n",
      "Accuracy: 0.79\n",
      "F1-Score: 0.78\n",
      "Duration: 2.21 seconds\n",
      "-------------------------------------------\n",
      "Dataset: Colposcopy\n",
      "Accuracy: 0.33\n",
      "F1-Score: 0.30\n",
      "Duration: 1.63 seconds\n"
     ]
    }
   ],
   "source": [
    "method = \"Rocket\"\n",
    "print(method)\n",
    "\n",
    "for dataset_name in DATASET_NAMES:\n",
    "    start_time = time.time()\n",
    "\n",
    "    rocket = RocketClassifier()\n",
    "    rocket.fit(X_train_dict[dataset_name], y_train_dict[dataset_name])\n",
    "    rocket_preds = rocket.predict(X_test_dict[dataset_name])\n",
    "    accuracy_dict[dataset_name][method] = metrics.accuracy_score(\n",
    "        y_test_dict[dataset_name], rocket_preds\n",
    "    )\n",
    "    f1_score_dict[dataset_name][method] = metrics.f1_score(\n",
    "        y_test_dict[dataset_name], rocket_preds,\n",
    "        average=\"weighted\"\n",
    "    )\n",
    "\n",
    "    elapsed_time = time.time() - start_time\n",
    "    duration_dict[dataset_name][method] = elapsed_time\n",
    "    print(\"-------------------------------------------\")\n",
    "    print(f\"Dataset: {dataset_name}\")\n",
    "    print(f\"Accuracy: {accuracy_dict[dataset_name][method]:.2f}\")\n",
    "    print(f\"F1-Score: {f1_score_dict[dataset_name][method]:.2f}\")\n",
    "    print(f\"Duration: {duration_dict[dataset_name][method]:.2f} seconds\")"
   ]
  },
  {
   "cell_type": "markdown",
   "id": "abe5aca7",
   "metadata": {},
   "source": [
    "## 2. Mini ROCKET"
   ]
  },
  {
   "cell_type": "markdown",
   "id": "05d3c080",
   "metadata": {},
   "source": [
    "```bibtex\n",
    "@inproceedings{dempster2021,\n",
    "  author = {Angus Dempster and Daniel F. Schmidt and Geoffrey I. Webb},\n",
    "  title = {MiniRocket: A Very Fast (Almost) Deterministic Transform for Time Series Classification},\n",
    "  booktitle = {Proceedings of the 27th ACM SIGKDD Conference on Knowledge Discovery \\& Data Mining (KDD'21)},\n",
    "  year = {2021},\n",
    "  pages = {248--257},\n",
    "  address = {New York, NY, USA},\n",
    "  publisher = {Association for Computing Machinery},\n",
    "  doi = {10.1145/3447548.3467231},\n",
    "  url = {https://doi.org/10.1145/3447548.3467231}\n",
    "}\n",
    "```\n",
    "\n",
    "Proposed by \\cite{dempster2021}."
   ]
  },
  {
   "cell_type": "markdown",
   "id": "b1069a03",
   "metadata": {},
   "source": [
    "\"MiniROCKET reduces the randomness of the parameters of the kernels by using a fixed value or sampling from smaller distributions. Moreover, it only extracts the proportion of positive values for each kernel. These modifications also allow for more optimization and lead to a much lower computational complexity while maintaining similar performance.\" \\cite{faouzi2024}"
   ]
  },
  {
   "cell_type": "code",
   "execution_count": 7,
   "id": "ff049050",
   "metadata": {},
   "outputs": [
    {
     "name": "stdout",
     "output_type": "stream",
     "text": [
      "MiniRocket\n",
      "-------------------------------------------\n",
      "Dataset: MelbournePedestrian\n",
      "Accuracy: 0.97\n",
      "F1-Score: 0.97\n",
      "Duration: 0.60 seconds\n",
      "-------------------------------------------\n",
      "Dataset: ArrowHead\n",
      "Accuracy: 0.86\n",
      "F1-Score: 0.86\n",
      "Duration: 0.13 seconds\n",
      "-------------------------------------------\n",
      "Dataset: Colposcopy\n",
      "Accuracy: 0.36\n",
      "F1-Score: 0.31\n",
      "Duration: 0.13 seconds\n"
     ]
    }
   ],
   "source": [
    "method = \"MiniRocket\"\n",
    "print(method)\n",
    "\n",
    "for dataset_name in DATASET_NAMES:\n",
    "    start_time = time.time()\n",
    "\n",
    "    mini_rocket = MiniRocketClassifier()\n",
    "    mini_rocket.fit(X_train_dict[dataset_name], y_train_dict[dataset_name])\n",
    "    mini_rocket_preds = mini_rocket.predict(X_test_dict[dataset_name])\n",
    "    accuracy_dict[dataset_name][method] = metrics.accuracy_score(\n",
    "        y_test_dict[dataset_name], mini_rocket_preds\n",
    "    )\n",
    "    f1_score_dict[dataset_name][method] = metrics.f1_score(\n",
    "        y_test_dict[dataset_name], mini_rocket_preds,\n",
    "        average=\"weighted\"\n",
    "    )\n",
    "\n",
    "    elapsed_time = time.time() - start_time\n",
    "    duration_dict[dataset_name][method] = elapsed_time\n",
    "    print(\"-------------------------------------------\")\n",
    "    print(f\"Dataset: {dataset_name}\")\n",
    "    print(f\"Accuracy: {accuracy_dict[dataset_name][method]:.2f}\")\n",
    "    print(f\"F1-Score: {f1_score_dict[dataset_name][method]:.2f}\")\n",
    "    print(f\"Duration: {duration_dict[dataset_name][method]:.2f} seconds\")"
   ]
  },
  {
   "cell_type": "markdown",
   "id": "af21978d",
   "metadata": {},
   "source": [
    "## 3. Multi ROCKET"
   ]
  },
  {
   "cell_type": "markdown",
   "id": "30c4c509",
   "metadata": {},
   "source": [
    "```bibtex\n",
    "@misc{tan2021,\n",
    "  author = {Ching Wei Tan and Angus Dempster and Christoph Bergmeir and Geoffrey I. Webb},\n",
    "  title = {MultiRocket: Effective Summary Statistics for Convolutional Outputs in Time Series Classification},\n",
    "  year = {2021},\n",
    "  archivePrefix = {arXiv},\n",
    "  eprint = {2110.02905},\n",
    "  primaryClass = {cs.LG},\n",
    "  note = {Available at \\url{https://arxiv.org/abs/2110.02905}}\n",
    "}\n",
    "```\n",
    "\n",
    "Proposed by \\cite{tan2021}."
   ]
  },
  {
   "cell_type": "markdown",
   "id": "100ef001",
   "metadata": {},
   "source": [
    "\"MultiROCKET extends MiniROCKET by extracting possibly several features, leading to a slightly higher computational time but better accuracy. In particular, the authors found that the proportion of positive values and the longest period of consecutive positive values are the most effective features to be extracted from time series convolutional outputs.\" \\cite{faouzi2024}"
   ]
  },
  {
   "cell_type": "code",
   "execution_count": 8,
   "id": "a11cc2ed",
   "metadata": {},
   "outputs": [
    {
     "name": "stdout",
     "output_type": "stream",
     "text": [
      "MultiRocket\n",
      "-------------------------------------------\n",
      "Dataset: MelbournePedestrian\n",
      "Accuracy: 0.97\n",
      "F1-Score: 0.97\n",
      "Duration: 4.31 seconds\n",
      "-------------------------------------------\n",
      "Dataset: ArrowHead\n",
      "Accuracy: 0.87\n",
      "F1-Score: 0.87\n",
      "Duration: 1.30 seconds\n",
      "-------------------------------------------\n",
      "Dataset: Colposcopy\n",
      "Accuracy: 0.37\n",
      "F1-Score: 0.32\n",
      "Duration: 1.39 seconds\n"
     ]
    }
   ],
   "source": [
    "method = \"MultiRocket\"\n",
    "print(method)\n",
    "\n",
    "for dataset_name in DATASET_NAMES:\n",
    "    start_time = time.time()\n",
    "\n",
    "    multi_rocket = MultiRocketClassifier()\n",
    "    multi_rocket.fit(X_train_dict[dataset_name], y_train_dict[dataset_name])\n",
    "    multi_rocket_preds = multi_rocket.predict(X_test_dict[dataset_name])\n",
    "    accuracy_dict[dataset_name][method] = metrics.accuracy_score(\n",
    "        y_test_dict[dataset_name], multi_rocket_preds\n",
    "    )\n",
    "    f1_score_dict[dataset_name][method] = metrics.f1_score(\n",
    "        y_test_dict[dataset_name], multi_rocket_preds,\n",
    "        average=\"weighted\"\n",
    "    )\n",
    "\n",
    "    elapsed_time = time.time() - start_time\n",
    "    duration_dict[dataset_name][method] = elapsed_time\n",
    "    print(\"-------------------------------------------\")\n",
    "    print(f\"Dataset: {dataset_name}\")\n",
    "    print(f\"Accuracy: {accuracy_dict[dataset_name][method]:.2f}\")\n",
    "    print(f\"F1-Score: {f1_score_dict[dataset_name][method]:.2f}\")\n",
    "    print(f\"Duration: {duration_dict[dataset_name][method]:.2f} seconds\")"
   ]
  },
  {
   "cell_type": "markdown",
   "id": "2b1c828e",
   "metadata": {},
   "source": [
    "## 4. Hydra"
   ]
  },
  {
   "cell_type": "markdown",
   "id": "8ef167c8",
   "metadata": {},
   "source": [
    "```bibtex\n",
    "@misc{dempster2022,\n",
    "  author = {Angus Dempster and Daniel F. Schmidt and Geoffrey I. Webb},\n",
    "  title = {HYDRA: Competing Convolutional Kernels for Fast and Accurate Time Series Classification},\n",
    "  year = {2022},\n",
    "  archivePrefix = {arXiv},\n",
    "  eprint = {2203.13652},\n",
    "  primaryClass = {cs.LG},\n",
    "  note = {Available at \\url{https://arxiv.org/abs/2203.13652}}\n",
    "}\n",
    "```\n",
    "\n",
    "Proposed by \\cite{dempster2022}."
   ]
  },
  {
   "cell_type": "markdown",
   "id": "4bcdd7af",
   "metadata": {},
   "source": [
    "\"HYbrid Dictionary-ROCKET Architecture (Hydra) is a model that combines dictionary-based and convolution-based models. It begins by utilizing random convolutional kernels to calculate the activation of time series. These kernels, unlike ROCKET, are arranged into g groups of k kernels each. In each group of k kernels, the activation of a kernel with the input time series is calculated, and we record how frequently this kernel is the best match (counts the highest activation). This results in a k-dimensional count vector for each of the g groups, resulting in a total of $g \\times k$ features. To implement Hydra, the time series is convolved with the kernels, and the resulting activation maps are organized into g groups. Next, an (arg)max operation is performed to count the number of best matches, and the counts for each group’s dictionary are increased.\" \\cite{middlehurst2024}"
   ]
  },
  {
   "cell_type": "code",
   "execution_count": 9,
   "id": "bcbf720a",
   "metadata": {},
   "outputs": [
    {
     "name": "stdout",
     "output_type": "stream",
     "text": [
      "Hydra\n",
      "-------------------------------------------\n",
      "Dataset: MelbournePedestrian\n",
      "Accuracy: 0.93\n",
      "F1-Score: 0.93\n",
      "Duration: 2.42 seconds\n",
      "-------------------------------------------\n",
      "Dataset: ArrowHead\n",
      "Accuracy: 0.83\n",
      "F1-Score: 0.83\n",
      "Duration: 1.05 seconds\n",
      "-------------------------------------------\n",
      "Dataset: Colposcopy\n",
      "Accuracy: 0.40\n",
      "F1-Score: 0.32\n",
      "Duration: 0.97 seconds\n"
     ]
    }
   ],
   "source": [
    "method = \"Hydra\"\n",
    "print(method)\n",
    "\n",
    "for dataset_name in DATASET_NAMES:\n",
    "    start_time = time.time()\n",
    "\n",
    "    hydra = HydraClassifier()\n",
    "    hydra.fit(X_train_dict[dataset_name], y_train_dict[dataset_name])\n",
    "    hydra_preds = hydra.predict(X_test_dict[dataset_name])\n",
    "    accuracy_dict[dataset_name][method] = metrics.accuracy_score(\n",
    "        y_test_dict[dataset_name], hydra_preds\n",
    "    )\n",
    "    f1_score_dict[dataset_name][method] = metrics.f1_score(\n",
    "        y_test_dict[dataset_name], hydra_preds,\n",
    "        average=\"weighted\"\n",
    "    )\n",
    "\n",
    "    elapsed_time = time.time() - start_time\n",
    "    duration_dict[dataset_name][method] = elapsed_time\n",
    "    print(\"-------------------------------------------\")\n",
    "    print(f\"Dataset: {dataset_name}\")\n",
    "    print(f\"Accuracy: {accuracy_dict[dataset_name][method]:.2f}\")\n",
    "    print(f\"F1-Score: {f1_score_dict[dataset_name][method]:.2f}\")\n",
    "    print(f\"Duration: {duration_dict[dataset_name][method]:.2f} seconds\")"
   ]
  },
  {
   "cell_type": "markdown",
   "id": "641f3825",
   "metadata": {},
   "source": [
    "## 5. Arsenal"
   ]
  },
  {
   "cell_type": "markdown",
   "id": "ba97fa3b",
   "metadata": {},
   "source": [
    "```bibtex\n",
    "@article{middlehurst2021,\n",
    "  author = {Matthew Middlehurst and James Large and Matthew Flynn and Anthony Bagnall},\n",
    "  title = {HIVE-COTE 2.0: A New Meta Ensemble for Time Series Classification},\n",
    "  journal = {Machine Learning},\n",
    "  volume = {110},\n",
    "  pages = {3211--3243},\n",
    "  year = {2021},\n",
    "  doi = {10.1007/s10994-021-05990-4},\n",
    "  url = {https://doi.org/10.1007/s10994-021-05990-4}\n",
    "}\n",
    "```\n",
    "\n",
    "Proposed by \\cite{middlehurst2021}."
   ]
  },
  {
   "cell_type": "markdown",
   "id": "0b9b8358",
   "metadata": {},
   "source": [
    "An ensemble of ROCKET transformers using RidgeClassifierCV base classifier. Weights each classifier using the accuracy from the ridge cross-validation. Allows for generation of probability estimates at the expense of scalability compared to RocketClassifier.\n",
    "\n",
    "https://www.aeon-toolkit.org/en/stable/api_reference/auto_generated/aeon.classification.convolution_based.Arsenal.html#aeon.classification.convolution_based.Arsenal"
   ]
  },
  {
   "cell_type": "code",
   "execution_count": 10,
   "id": "9888fec2",
   "metadata": {},
   "outputs": [
    {
     "name": "stdout",
     "output_type": "stream",
     "text": [
      "Arsenal\n",
      "-------------------------------------------\n",
      "Dataset: MelbournePedestrian\n",
      "Accuracy: 0.91\n",
      "F1-Score: 0.91\n",
      "Duration: 30.93 seconds\n",
      "-------------------------------------------\n",
      "Dataset: ArrowHead\n",
      "Accuracy: 0.82\n",
      "F1-Score: 0.81\n",
      "Duration: 11.14 seconds\n",
      "-------------------------------------------\n",
      "Dataset: Colposcopy\n",
      "Accuracy: 0.35\n",
      "F1-Score: 0.30\n",
      "Duration: 9.75 seconds\n"
     ]
    }
   ],
   "source": [
    "method = \"Arsenal\"\n",
    "print(method)\n",
    "\n",
    "for dataset_name in DATASET_NAMES:\n",
    "    start_time = time.time()\n",
    "\n",
    "    arsenal = Arsenal()\n",
    "    arsenal.fit(X_train_dict[dataset_name], y_train_dict[dataset_name])\n",
    "    arsenal_preds = arsenal.predict(X_test_dict[dataset_name])\n",
    "    accuracy_dict[dataset_name][method] = metrics.accuracy_score(\n",
    "        y_test_dict[dataset_name], arsenal_preds\n",
    "    )\n",
    "    f1_score_dict[dataset_name][method] = metrics.f1_score(\n",
    "        y_test_dict[dataset_name], arsenal_preds,\n",
    "        average=\"weighted\"\n",
    "    )\n",
    "\n",
    "    elapsed_time = time.time() - start_time\n",
    "    duration_dict[dataset_name][method] = elapsed_time\n",
    "    print(\"-------------------------------------------\")\n",
    "    print(f\"Dataset: {dataset_name}\")\n",
    "    print(f\"Accuracy: {accuracy_dict[dataset_name][method]:.2f}\")\n",
    "    print(f\"F1-Score: {f1_score_dict[dataset_name][method]:.2f}\")\n",
    "    print(f\"Duration: {duration_dict[dataset_name][method]:.2f} seconds\")"
   ]
  },
  {
   "cell_type": "markdown",
   "id": "5d53fc74",
   "metadata": {},
   "source": [
    "## 6. Comparison between the Classifiers"
   ]
  },
  {
   "cell_type": "code",
   "execution_count": 11,
   "id": "5a2a59d3",
   "metadata": {},
   "outputs": [
    {
     "data": {
      "image/png": "[encoded data removed]",
      "text/plain": [
       "<Figure size 800x500 with 1 Axes>"
      ]
     },
     "metadata": {},
     "output_type": "display_data"
    },
    {
     "data": {
      "image/png": "[encoded data removed]",
      "text/plain": [
       "<Figure size 800x500 with 1 Axes>"
      ]
     },
     "metadata": {},
     "output_type": "display_data"
    },
    {
     "data": {
      "image/png": "[encoded data removed]",
      "text/plain": [
       "<Figure size 800x500 with 1 Axes>"
      ]
     },
     "metadata": {},
     "output_type": "display_data"
    }
   ],
   "source": [
    "datasets = list(accuracy_dict.keys())\n",
    "methods = list(next(iter(accuracy_dict.values())).keys())\n",
    "\n",
    "def prepare_long_format(metric_dict, metric_name):\n",
    "    records = []\n",
    "    for ds in datasets:\n",
    "        for method in methods:\n",
    "            val = metric_dict[ds][method]\n",
    "            if isinstance(val, (int, float)):\n",
    "                records.append({\n",
    "                    \"Dataset\": ds,\n",
    "                    \"Method\": method,\n",
    "                    \"Metric\": float(val),\n",
    "                    \"Type\": metric_name\n",
    "                })\n",
    "    return pd.DataFrame(records)\n",
    "\n",
    "df_accuracy = prepare_long_format(accuracy_dict, \"Accuracy\")\n",
    "df_f1 = prepare_long_format(f1_score_dict, \"F1-Score\")\n",
    "df_duration = prepare_long_format(duration_dict, \"Duration (s)\")\n",
    "\n",
    "df_all = pd.concat([df_accuracy, df_f1, df_duration], ignore_index=True)\n",
    "\n",
    "def plot_boxplot(df, title, ylabel):\n",
    "    plt.figure(figsize=(8, 5))\n",
    "    sns.boxplot(data=df, x=\"Method\", y=\"Metric\", hue=\"Method\")\n",
    "    plt.title(title)\n",
    "    plt.ylabel(ylabel)\n",
    "    plt.xlabel(\"Method\")\n",
    "    plt.grid(True)\n",
    "    plt.tight_layout()\n",
    "    plt.show()\n",
    "\n",
    "plot_boxplot(df_accuracy, \"Accuracy Distribution per Method\", \"Accuracy\")\n",
    "plot_boxplot(df_f1, \"F1-Score Distribution per Method\", \"F1-Score\")\n",
    "plot_boxplot(df_duration, \"Duration Distribution per Method\", \"Time (s)\")"
   ]
  }
 ],
 "metadata": {
  "kernelspec": {
   "display_name": ".venv",
   "language": "python",
   "name": "python3"
  },
  "language_info": {
   "codemirror_mode": {
    "name": "ipython",
    "version": 3
   },
   "file_extension": ".py",
   "mimetype": "text/x-python",
   "name": "python",
   "nbconvert_exporter": "python",
   "pygments_lexer": "ipython3",
   "version": "3.9.6"
  }
 },
 "nbformat": 4,
 "nbformat_minor": 5
}
