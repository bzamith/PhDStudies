{
 "cells": [
  {
   "cell_type": "markdown",
   "id": "da9f8057",
   "metadata": {},
   "source": [
    "# Time Series Classification Algorithms - (8) Feature Based"
   ]
  },
  {
   "cell_type": "markdown",
   "id": "cc2b1590",
   "metadata": {},
   "source": [
    "<div style=\"border: 1px solid #007acc; background-color: #e6f4ff; padding: 10px; border-radius: 5px; color: black;\">\n",
    "  <strong>📘 Info:</strong> I do not claim ownership of the content in this notebook. It is based on official <a href=\"https://www.aeon-toolkit.org/en/latest/examples.html\" target=\"_blank\">aeon tutorials</a>, and parts of the code or text may have been copy-pasted or adapted directly from those or other sources for learning purposes.\n",
    "</div>"
   ]
  },
  {
   "cell_type": "code",
   "execution_count": 1,
   "id": "5eff1676",
   "metadata": {},
   "outputs": [],
   "source": [
    "import warnings\n",
    "warnings.filterwarnings('ignore', category=DeprecationWarning)\n",
    "warnings.filterwarnings('ignore', category=FutureWarning)"
   ]
  },
  {
   "cell_type": "code",
   "execution_count": null,
   "id": "ef3c79ee",
   "metadata": {},
   "outputs": [],
   "source": [
    "import matplotlib.pyplot as plt\n",
    "\n",
    "import pandas as pd\n",
    "\n",
    "import seaborn as sns\n",
    "\n",
    "from sklearn import metrics\n",
    "\n",
    "import time"
   ]
  },
  {
   "cell_type": "code",
   "execution_count": 3,
   "id": "47e6413f",
   "metadata": {},
   "outputs": [],
   "source": [
    "from aeon.datasets import load_classification\n",
    "from aeon.utils.discovery import all_estimators\n",
    "\n",
    "# all_estimators(\"classifier\", tag_filter={\"algorithm_type\": \"feature\"})"
   ]
  },
  {
   "cell_type": "code",
   "execution_count": 4,
   "id": "50ee1134",
   "metadata": {},
   "outputs": [],
   "source": [
    "from aeon.classification.feature_based import (\n",
    "    Catch22Classifier,\n",
    "    FreshPRINCEClassifier,\n",
    "    TSFreshClassifier\n",
    ")"
   ]
  },
  {
   "cell_type": "code",
   "execution_count": 5,
   "id": "2d6f8908",
   "metadata": {},
   "outputs": [],
   "source": [
    "DATASET_NAMES = [\n",
    "    \"MelbournePedestrian\",\n",
    "    \"ArrowHead\",\n",
    "    \"Colposcopy\"\n",
    "]\n",
    "\n",
    "X_train_dict, y_train_dict = {}, {}\n",
    "X_test_dict, y_test_dict = {}, {}\n",
    "\n",
    "accuracy_dict, f1_score_dict, duration_dict = {}, {}, {}\n",
    "\n",
    "for dataset_name in DATASET_NAMES: \n",
    "    X_train_dict[dataset_name], y_train_dict[dataset_name] = load_classification(\n",
    "        dataset_name, split=\"train\"\n",
    "    )\n",
    "    X_test_dict[dataset_name], y_test_dict[dataset_name] = load_classification(\n",
    "        dataset_name, split=\"test\"\n",
    "    )\n",
    "\n",
    "    X_train_dict[dataset_name] = X_train_dict[dataset_name].squeeze(1)\n",
    "    X_test_dict[dataset_name] = X_test_dict[dataset_name].squeeze(1)\n",
    "\n",
    "    accuracy_dict[dataset_name] = {}\n",
    "    f1_score_dict[dataset_name] = {}\n",
    "    duration_dict[dataset_name] = {}"
   ]
  },
  {
   "cell_type": "markdown",
   "id": "37ee03f9",
   "metadata": {},
   "source": [
    "```bibtex\n",
    "@article{middlehurst2024,\n",
    "  author={Middlehurst, Matthew and Sch{\\\"a}fer, Patrick and Bagnall, Anthony},\n",
    "  title={Bake Off Redux: A Review and Experimental Evaluation of Recent Time Series Classification Algorithms},\n",
    "  journal={Data Mining and Knowledge Discovery},\n",
    "  volume={38},\n",
    "  pages={1958--2031},\n",
    "  year={2024},\n",
    "  doi={10.1007/s10618-024-01022-1},\n",
    "  url={https://doi.org/10.1007/s10618-024-01022-1}\n",
    "}\n",
    "```\n",
    "\n",
    "\"Feature based classifiers are a popular recent theme. These extract descriptive statistics as features from time series to be used in classifiers. Typically, these features summarise the whole series, so we characterise these as series-to-vector transforms. Most commonly, these features are used in a simple pipeline of transformation followed by a classifier. Several toolkits exist for extracting features.\" \\cite{middlehurst2024}\n",
    "\n",
    "<img src=\"images/08_featurebased.png\" style=\"width:600px; border: 1px solid #ccc; border-radius: 5px;\">\n"
   ]
  },
  {
   "cell_type": "markdown",
   "id": "63e8b68b",
   "metadata": {},
   "source": [
    "## 1. Catch22"
   ]
  },
  {
   "cell_type": "markdown",
   "id": "6ac9ba83",
   "metadata": {},
   "source": [
    "```bibtex\n",
    "@article{lubba2019,\n",
    "  author={Christoph H. Lubba and Teemu Sethi and Philipp Knaute and Simon R. Schultz and Ben D. Fulcher and Nick S. Jones},\n",
    "  title={catch22: Canonical Time-Series Characteristics},\n",
    "  journal={Data Mining and Knowledge Discovery},\n",
    "  volume={33},\n",
    "  number={6},\n",
    "  pages={1821--1852},\n",
    "  year={2019},\n",
    "  publisher={Springer},\n",
    "  doi={10.1007/s10618-019-00647-x},\n",
    "  url={https://doi.org/10.1007/s10618-019-00647-x}\n",
    "}\n",
    "```\n",
    "\n",
    "Proposed by \\cite{lubba2019}."
   ]
  },
  {
   "cell_type": "markdown",
   "id": "f3ae9518",
   "metadata": {},
   "source": [
    "\"The highly comparative time-series analysis (hctsa) toolbox can create over 7700 features for exploratory time series analysis. The canonical time series characteristics (Catch22) are 22 hctsa features determined to be the most discriminatory of the full set. The Catch22 features were chosen by an evaluation on the UCR datasets. The hctsa features were initially pruned, removing those which are sensitive to the series mean and variance and those that could not be calculated on over 80% of the UCR datasets. A feature evaluation was then performed based on predictive performance. Any features which performed below a threshold were removed. For the remaining features, a hierarchical clustering was performed on the correlation matrix to remove redundancy. From each of the 22 clusters formed, a single feature was selected, taking into account balanced accuracy, computational efﬁciency and interpretability. The Catch22 features cover a wide range of concepts such as basic statistics of time series values, linear correlations, and entropy. Reported results for Catch22 are based on training a decision tree classiﬁer after applying the transform to each time series, the implementation we use builds a Random Forest classiﬁer.\" \\cite{middlehurst2024}"
   ]
  },
  {
   "cell_type": "code",
   "execution_count": 6,
   "id": "14954eba",
   "metadata": {},
   "outputs": [
    {
     "name": "stdout",
     "output_type": "stream",
     "text": [
      "Catch22\n",
      "-------------------------------------------\n",
      "Dataset: MelbournePedestrian\n",
      "Accuracy: 0.93\n",
      "F1-Score: 0.93\n",
      "Duration: 1.45 seconds\n",
      "-------------------------------------------\n",
      "Dataset: ArrowHead\n",
      "Accuracy: 0.76\n",
      "F1-Score: 0.76\n",
      "Duration: 0.56 seconds\n",
      "-------------------------------------------\n",
      "Dataset: Colposcopy\n",
      "Accuracy: 0.39\n",
      "F1-Score: 0.34\n",
      "Duration: 0.28 seconds\n"
     ]
    }
   ],
   "source": [
    "method = \"Catch22\"\n",
    "print(method)\n",
    "\n",
    "for dataset_name in DATASET_NAMES:\n",
    "    start_time = time.time()\n",
    "\n",
    "    c22 = Catch22Classifier()\n",
    "    c22.fit(X_train_dict[dataset_name], y_train_dict[dataset_name])\n",
    "    c22_preds = c22.predict(X_test_dict[dataset_name])\n",
    "    accuracy_dict[dataset_name][method] = metrics.accuracy_score(\n",
    "        y_test_dict[dataset_name], c22_preds\n",
    "    )\n",
    "    f1_score_dict[dataset_name][method] = metrics.f1_score(\n",
    "        y_test_dict[dataset_name], c22_preds,\n",
    "        average=\"weighted\"\n",
    "    )\n",
    "\n",
    "    elapsed_time = time.time() - start_time\n",
    "    duration_dict[dataset_name][method] = elapsed_time\n",
    "    print(\"-------------------------------------------\")\n",
    "    print(f\"Dataset: {dataset_name}\")\n",
    "    print(f\"Accuracy: {accuracy_dict[dataset_name][method]:.2f}\")\n",
    "    print(f\"F1-Score: {f1_score_dict[dataset_name][method]:.2f}\")\n",
    "    print(f\"Duration: {duration_dict[dataset_name][method]:.2f} seconds\")"
   ]
  },
  {
   "cell_type": "markdown",
   "id": "14161af7",
   "metadata": {},
   "source": [
    "## 2. Time Series Feature Extraction based on Scalable Hypothesis Tests (TSFresh)"
   ]
  },
  {
   "cell_type": "markdown",
   "id": "b8f460fc",
   "metadata": {},
   "source": [
    "```bibtex\n",
    "@article{christ2018,\n",
    "  author={Maximilian Christ and Nils Braun and Julius Neuffer and Andreas W. Kempa-Liehr},\n",
    "  title={Time Series Feature Extraction on Basis of Scalable Hypothesis Tests (tsfresh -- A Python Package)},\n",
    "  journal={Neurocomputing},\n",
    "  volume={307},\n",
    "  pages={72--77},\n",
    "  year={2018},\n",
    "  publisher={Elsevier},\n",
    "}\n",
    "```\n",
    "\n",
    "Proposed by \\cite{christ2018}."
   ]
  },
  {
   "cell_type": "markdown",
   "id": "8322a30a",
   "metadata": {},
   "source": [
    "\"TSFresh is a collection of just under 800 features extracted from time series. While the features can be used on their own, a feature selection method called FRESH is provided to remove irrelevant features. FRESH considered each feature using multiple hypotheses tests, including Fisher’s exact test, the Kolmogorov-Smirnov test and the Kendal rank test. The Benjamini-Yekutieli procedure is then\n",
    "used to control the false discovery rate caused by comparing multiple hypotheses and features simultaneously. Results for the base features and after using the FRESH algorithm are reported using both a Random Forest and AdaBoost classifier.\" \\cite{middlehurst2024}"
   ]
  },
  {
   "cell_type": "code",
   "execution_count": 7,
   "id": "e771c214",
   "metadata": {},
   "outputs": [
    {
     "name": "stdout",
     "output_type": "stream",
     "text": [
      "TSFresh\n",
      "-------------------------------------------\n",
      "Dataset: MelbournePedestrian\n",
      "Accuracy: 0.96\n",
      "F1-Score: 0.96\n",
      "Duration: 234.84 seconds\n",
      "-------------------------------------------\n",
      "Dataset: ArrowHead\n",
      "Accuracy: 0.71\n",
      "F1-Score: 0.71\n",
      "Duration: 19.81 seconds\n",
      "-------------------------------------------\n",
      "Dataset: Colposcopy\n",
      "Accuracy: 0.39\n",
      "F1-Score: 0.33\n",
      "Duration: 15.37 seconds\n"
     ]
    }
   ],
   "source": [
    "method = \"TSFresh\"\n",
    "print(method)\n",
    "\n",
    "for dataset_name in DATASET_NAMES:\n",
    "    start_time = time.time()\n",
    "\n",
    "    ts_fresh = TSFreshClassifier()\n",
    "    ts_fresh.fit(X_train_dict[dataset_name], y_train_dict[dataset_name])\n",
    "    ts_fresh_preds = ts_fresh.predict(X_test_dict[dataset_name])\n",
    "    accuracy_dict[dataset_name][method] = metrics.accuracy_score(\n",
    "        y_test_dict[dataset_name], ts_fresh_preds\n",
    "    )\n",
    "    f1_score_dict[dataset_name][method] = metrics.f1_score(\n",
    "        y_test_dict[dataset_name], ts_fresh_preds,\n",
    "        average=\"weighted\"\n",
    "    )\n",
    "\n",
    "    elapsed_time = time.time() - start_time\n",
    "    duration_dict[dataset_name][method] = elapsed_time\n",
    "    print(\"-------------------------------------------\")\n",
    "    print(f\"Dataset: {dataset_name}\")\n",
    "    print(f\"Accuracy: {accuracy_dict[dataset_name][method]:.2f}\")\n",
    "    print(f\"F1-Score: {f1_score_dict[dataset_name][method]:.2f}\")\n",
    "    print(f\"Duration: {duration_dict[dataset_name][method]:.2f} seconds\")"
   ]
  },
  {
   "cell_type": "markdown",
   "id": "0ace3dce",
   "metadata": {},
   "source": [
    "## 3. Fresh Pipeline with RotatIoN forest (Fresh PRINCE)"
   ]
  },
  {
   "cell_type": "markdown",
   "id": "ad7c17f7",
   "metadata": {},
   "source": [
    "```bibtex\n",
    "@inproceedings{middlehurst2022,\n",
    "  author={Matthew Middlehurst and Anthony Bagnall},\n",
    "  title={The FreshPRINCE: A Simple Transformation-Based Pipeline Time Series Classifier},\n",
    "  booktitle={Proceedings of the International Conference on Pattern Recognition and Artificial Intelligence},\n",
    "  pages={150--161},\n",
    "  year={2022},\n",
    "  publisher={Springer}\n",
    "}\n",
    "```\n",
    "\n",
    "Proposed by \\cite{middlehurst2022}."
   ]
  },
  {
   "cell_type": "markdown",
   "id": "43aced0b",
   "metadata": {},
   "source": [
    "\"A comparison of alternative pipelines of feature extractor and classifier found that the most effective approach was the full set of TSFresh features with no feature selection applied, and combined with a Rotation Forest classifier. This pipeline was called the FreshPRINCE.\" \\cite{middlehurst2024}"
   ]
  },
  {
   "cell_type": "code",
   "execution_count": 8,
   "id": "a88d8cdd",
   "metadata": {},
   "outputs": [
    {
     "name": "stdout",
     "output_type": "stream",
     "text": [
      "FreshPRINCE\n",
      "-------------------------------------------\n",
      "Dataset: MelbournePedestrian\n",
      "Accuracy: 0.97\n",
      "F1-Score: 0.97\n",
      "Duration: 261.81 seconds\n",
      "-------------------------------------------\n",
      "Dataset: ArrowHead\n",
      "Accuracy: 0.63\n",
      "F1-Score: 0.64\n",
      "Duration: 52.02 seconds\n",
      "-------------------------------------------\n",
      "Dataset: Colposcopy\n",
      "Accuracy: 0.47\n",
      "F1-Score: 0.38\n",
      "Duration: 49.13 seconds\n"
     ]
    }
   ],
   "source": [
    "method = \"FreshPRINCE\"\n",
    "print(method)\n",
    "\n",
    "for dataset_name in DATASET_NAMES:\n",
    "    start_time = time.time()\n",
    "\n",
    "    fresh_prince = FreshPRINCEClassifier()\n",
    "    fresh_prince.fit(X_train_dict[dataset_name], y_train_dict[dataset_name])\n",
    "    fresh_prince_preds = fresh_prince.predict(X_test_dict[dataset_name])\n",
    "    accuracy_dict[dataset_name][method] = metrics.accuracy_score(\n",
    "        y_test_dict[dataset_name], fresh_prince_preds\n",
    "    )\n",
    "    f1_score_dict[dataset_name][method] = metrics.f1_score(\n",
    "        y_test_dict[dataset_name], fresh_prince_preds,\n",
    "        average=\"weighted\"\n",
    "    )\n",
    "\n",
    "    elapsed_time = time.time() - start_time\n",
    "    duration_dict[dataset_name][method] = elapsed_time\n",
    "    print(\"-------------------------------------------\")\n",
    "    print(f\"Dataset: {dataset_name}\")\n",
    "    print(f\"Accuracy: {accuracy_dict[dataset_name][method]:.2f}\")\n",
    "    print(f\"F1-Score: {f1_score_dict[dataset_name][method]:.2f}\")\n",
    "    print(f\"Duration: {duration_dict[dataset_name][method]:.2f} seconds\")"
   ]
  },
  {
   "cell_type": "markdown",
   "id": "a6b18646",
   "metadata": {},
   "source": [
    "## 4. Comparison between the Classifiers"
   ]
  },
  {
   "cell_type": "code",
   "execution_count": 9,
   "id": "501b7f8e",
   "metadata": {},
   "outputs": [
    {
     "data": {
      "image/png": "[encoded data removed]",
      "text/plain": [
       "<Figure size 800x500 with 1 Axes>"
      ]
     },
     "metadata": {},
     "output_type": "display_data"
    },
    {
     "data": {
      "image/png": "[encoded data removed]",
      "text/plain": [
       "<Figure size 800x500 with 1 Axes>"
      ]
     },
     "metadata": {},
     "output_type": "display_data"
    },
    {
     "data": {
      "image/png": "[encoded data removed]",
      "text/plain": [
       "<Figure size 800x500 with 1 Axes>"
      ]
     },
     "metadata": {},
     "output_type": "display_data"
    }
   ],
   "source": [
    "datasets = list(accuracy_dict.keys())\n",
    "methods = list(next(iter(accuracy_dict.values())).keys())\n",
    "\n",
    "def prepare_long_format(metric_dict, metric_name):\n",
    "    records = []\n",
    "    for ds in datasets:\n",
    "        for method in methods:\n",
    "            val = metric_dict[ds][method]\n",
    "            if isinstance(val, (int, float)):\n",
    "                records.append({\n",
    "                    \"Dataset\": ds,\n",
    "                    \"Method\": method,\n",
    "                    \"Metric\": float(val),\n",
    "                    \"Type\": metric_name\n",
    "                })\n",
    "    return pd.DataFrame(records)\n",
    "\n",
    "df_accuracy = prepare_long_format(accuracy_dict, \"Accuracy\")\n",
    "df_f1 = prepare_long_format(f1_score_dict, \"F1-Score\")\n",
    "df_duration = prepare_long_format(duration_dict, \"Duration (s)\")\n",
    "\n",
    "df_all = pd.concat([df_accuracy, df_f1, df_duration], ignore_index=True)\n",
    "\n",
    "def plot_boxplot(df, title, ylabel):\n",
    "    plt.figure(figsize=(8, 5))\n",
    "    sns.boxplot(data=df, x=\"Method\", y=\"Metric\", hue=\"Method\")\n",
    "    plt.title(title)\n",
    "    plt.ylabel(ylabel)\n",
    "    plt.xlabel(\"Method\")\n",
    "    plt.grid(True)\n",
    "    plt.tight_layout()\n",
    "    plt.show()\n",
    "\n",
    "plot_boxplot(df_accuracy, \"Accuracy Distribution per Method\", \"Accuracy\")\n",
    "plot_boxplot(df_f1, \"F1-Score Distribution per Method\", \"F1-Score\")\n",
    "plot_boxplot(df_duration, \"Duration Distribution per Method\", \"Time (s)\")"
   ]
  }
 ],
 "metadata": {
  "kernelspec": {
   "display_name": ".venv",
   "language": "python",
   "name": "python3"
  },
  "language_info": {
   "codemirror_mode": {
    "name": "ipython",
    "version": 3
   },
   "file_extension": ".py",
   "mimetype": "text/x-python",
   "name": "python",
   "nbconvert_exporter": "python",
   "pygments_lexer": "ipython3",
   "version": "3.9.6"
  }
 },
 "nbformat": 4,
 "nbformat_minor": 5
}
