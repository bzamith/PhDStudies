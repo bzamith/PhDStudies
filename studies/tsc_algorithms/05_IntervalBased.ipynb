{
 "cells": [
  {
   "cell_type": "markdown",
   "id": "7cc8e9a7",
   "metadata": {},
   "source": [
    "# Time Series Classification Algorithms - (5) Interval Based"
   ]
  },
  {
   "cell_type": "markdown",
   "id": "49e28f4b",
   "metadata": {},
   "source": [
    "<div style=\"border: 1px solid #007acc; background-color: #e6f4ff; padding: 10px; border-radius: 5px; color: black;\">\n",
    "  <strong>📘 Info:</strong> I do not claim ownership of the content in this notebook. It is based on official <a href=\"https://www.aeon-toolkit.org/en/latest/examples.html\" target=\"_blank\">aeon tutorials</a>, and parts of the code or text may have been copy-pasted or adapted directly from those or other sources for learning purposes.\n",
    "</div>"
   ]
  },
  {
   "cell_type": "code",
   "execution_count": null,
   "id": "2b831269",
   "metadata": {},
   "outputs": [],
   "source": [
    "import warnings\n",
    "warnings.filterwarnings('ignore', category=DeprecationWarning)\n",
    "warnings.filterwarnings('ignore', category=FutureWarning)"
   ]
  },
  {
   "cell_type": "code",
   "execution_count": null,
   "id": "92c9b7f7",
   "metadata": {},
   "outputs": [],
   "source": [
    "import matplotlib.pyplot as plt\n",
    "\n",
    "import pandas as pd\n",
    "\n",
    "import seaborn as sns\n",
    "\n",
    "from sklearn import metrics\n",
    "\n",
    "import time"
   ]
  },
  {
   "cell_type": "code",
   "execution_count": 3,
   "id": "2f1e3d7d",
   "metadata": {},
   "outputs": [],
   "source": [
    "from aeon.datasets import load_classification\n",
    "from aeon.utils.discovery import all_estimators\n",
    "\n",
    "# all_estimators(\"classifier\", tag_filter={\"algorithm_type\": \"interval\"})"
   ]
  },
  {
   "cell_type": "code",
   "execution_count": 4,
   "id": "8eb526b3",
   "metadata": {},
   "outputs": [],
   "source": [
    "from aeon.classification.interval_based import (\n",
    "    RSTSF,\n",
    "    CanonicalIntervalForestClassifier,\n",
    "    QUANTClassifier,\n",
    "    SupervisedTimeSeriesForest,\n",
    "    TimeSeriesForestClassifier,\n",
    ")"
   ]
  },
  {
   "cell_type": "code",
   "execution_count": 5,
   "id": "f35ad026",
   "metadata": {},
   "outputs": [],
   "source": [
    "from pyts.classification import TSBF"
   ]
  },
  {
   "cell_type": "code",
   "execution_count": 6,
   "id": "aef1d30c",
   "metadata": {},
   "outputs": [],
   "source": [
    "DATASET_NAMES = [\n",
    "    \"MelbournePedestrian\",\n",
    "    \"ArrowHead\",\n",
    "    \"Colposcopy\"\n",
    "]\n",
    "\n",
    "X_train_dict, y_train_dict = {}, {}\n",
    "X_test_dict, y_test_dict = {}, {}\n",
    "\n",
    "accuracy_dict, f1_score_dict, duration_dict = {}, {}, {}\n",
    "\n",
    "for dataset_name in DATASET_NAMES: \n",
    "    X_train_dict[dataset_name], y_train_dict[dataset_name] = load_classification(\n",
    "        dataset_name, split=\"train\"\n",
    "    )\n",
    "    X_test_dict[dataset_name], y_test_dict[dataset_name] = load_classification(\n",
    "        dataset_name, split=\"test\"\n",
    "    )\n",
    "\n",
    "    X_train_dict[dataset_name] = X_train_dict[dataset_name].squeeze(1)\n",
    "    X_test_dict[dataset_name] = X_test_dict[dataset_name].squeeze(1)\n",
    "\n",
    "    accuracy_dict[dataset_name] = {}\n",
    "    f1_score_dict[dataset_name] = {}\n",
    "    duration_dict[dataset_name] = {}"
   ]
  },
  {
   "cell_type": "markdown",
   "id": "bf63e15c",
   "metadata": {},
   "source": [
    "```bibtex\n",
    "@article{middlehurst2024,\n",
    "  author = {Middlehurst, Matthew and Sch{\\\"a}fer, Patrick and Bagnall, Anthony},\n",
    "  title = {Bake Off Redux: A Review and Experimental Evaluation of Recent Time Series Classification Algorithms},\n",
    "  journal = {Data Mining and Knowledge Discovery},\n",
    "  volume = {38},\n",
    "  pages = {1958--2031},\n",
    "  year = {2024},\n",
    "  doi = {10.1007/s10618-024-01022-1},\n",
    "  url = {https://doi.org/10.1007/s10618-024-01022-1}\n",
    "}\n",
    "```\n",
    "\n",
    "\"Interval based classifiers extract phase dependent intervals of fixed offsets and compute (summary) statistics on these intervals. A majority of approaches include some form of random selection for choosing intervals, where the same random interval locations are used across every series. Many of the interval based classifiers combine features from multiple random intervals. The motivation for taking intervals is to mitigate for confounding noise.\" \\cite{middlehurst2024}\n",
    "\n",
    "\"An example of a problem where interval based approaches may be superior is shown below. Each series is a spectrogram from a bottle of alcohol with a different concentration of ethanol. The discriminatory features are in the near infrared interval (green box to the right). However, the confounding factors such as bottle shape, labelling and colouring cause variation in the visible range (red box to the left). Using intervals containing just the near infrared features is likely to make classification easier.\" \\cite{middlehurst2024}\n",
    "\n",
    "<img src=\"images/05_intervalbased.png\" style=\"width:600px; border: 1px solid #ccc; border-radius: 5px;\">\n",
    "\n",
    "\"Most recent interval based classifiers adopt a random forest ensemble model, where each base classifier is a pipeline of transformation and a tree classifier.\" \\cite{middlehurst2024}\n",
    "\n",
    "<img src=\"images/05_intervalbased2.png\" style=\"width:600px; border: 1px solid #ccc; border-radius: 5px;\">\n",
    "\n",
    "\"Diversity is injected through randomising the intervals for each tree. The relation ﬂowchart for interval based algorithms is shown below.\" \\cite{middlehurst2024}\n",
    "\n",
    "<img src=\"images/05_intervalbased3.png\" style=\"width:600px; border: 1px solid #ccc; border-radius: 5px;\">"
   ]
  },
  {
   "cell_type": "markdown",
   "id": "5dbd141c",
   "metadata": {},
   "source": [
    "## 1. Time Series Forest (TSF)"
   ]
  },
  {
   "cell_type": "markdown",
   "id": "0a0258a7",
   "metadata": {},
   "source": [
    "```bibtex\n",
    "@article{deng2013,\n",
    "  author = {Houtao Deng and George Runger and Eugene Tuv and Vladimir Mirkes},\n",
    "  title = {A time series forest for classification and feature extraction},\n",
    "  journal = {Information Sciences},\n",
    "  volume = {239},\n",
    "  pages = {142--153},\n",
    "  year = {2013},\n",
    "  publisher = {Elsevier}\n",
    "}\n",
    "```\n",
    "\n",
    "Proposed by \\cite{deng2013}."
   ]
  },
  {
   "cell_type": "markdown",
   "id": "cdc6f5d7",
   "metadata": {},
   "source": [
    "```bibtex\n",
    "@inbook{faouzi2024,\n",
    "  author = {Johann Faouzi},\n",
    "  title = {Time Series Classification: A Review of Algorithms and Implementations},\n",
    "  year = {2024},\n",
    "  month = {March},\n",
    "  booktitle = {Advances in Time Series Analysis and Forecasting},\n",
    "  publisher = {IntechOpen},\n",
    "  isbn = {978-0-85466-053-7},\n",
    "  doi = {10.5772/intechopen.1004810},\n",
    "}\n",
    "```\n",
    "\n",
    "\"One of the first proposed algorithms based on the random forest algorithm is called time series forest and is relatively simple. The algorithm considers information from subsequences of the time series. Given a minimum length for the subsequences, which is a hyperparameter, random intervals are generated, with the start indices, end indices, and lengths of all the intervals being all randomly generated. For a given time series and a given interval, the corresponding subsequence is the ordered set of values from the time series belonging to the interval. From each subsequence, three features are extracted: the mean, the standard deviation, and the slope. The total number of extracted features is thus three times the number of considered intervals. A random forest classifier is then trained on these extracted features.\" \\cite{faouzi2024}\n",
    "\n",
    "<img src=\"images/05_tsf.png\" style=\"width:600px; border: 1px solid #ccc; border-radius: 5px;\">\n",
    "\n",
    "\"Predictions for new time series are obtained in the same manner: Given the already generated intervals, the three features are extracted from each subsequence, then the fitted random forest classifier outputs its prediction.\" \\cite{faouzi2024}"
   ]
  },
  {
   "cell_type": "code",
   "execution_count": 7,
   "id": "5f8ba89e",
   "metadata": {},
   "outputs": [
    {
     "name": "stdout",
     "output_type": "stream",
     "text": [
      "TSF\n",
      "-------------------------------------------\n",
      "Dataset: MelbournePedestrian\n",
      "Accuracy: 0.97\n",
      "F1-Score: 0.97\n",
      "Duration: 5.98 seconds\n",
      "-------------------------------------------\n",
      "Dataset: ArrowHead\n",
      "Accuracy: 0.73\n",
      "F1-Score: 0.73\n",
      "Duration: 1.35 seconds\n",
      "-------------------------------------------\n",
      "Dataset: Colposcopy\n",
      "Accuracy: 0.38\n",
      "F1-Score: 0.34\n",
      "Duration: 1.25 seconds\n"
     ]
    }
   ],
   "source": [
    "method = \"TSF\"\n",
    "print(method)\n",
    "\n",
    "for dataset_name in DATASET_NAMES:\n",
    "    start_time = time.time()\n",
    "\n",
    "    tsf = TimeSeriesForestClassifier()\n",
    "    tsf.fit(X_train_dict[dataset_name], y_train_dict[dataset_name])\n",
    "    tsf_preds = tsf.predict(X_test_dict[dataset_name])\n",
    "    accuracy_dict[dataset_name][method] = metrics.accuracy_score(\n",
    "        y_test_dict[dataset_name], tsf_preds\n",
    "    )\n",
    "    f1_score_dict[dataset_name][method] = metrics.f1_score(\n",
    "        y_test_dict[dataset_name], tsf_preds,\n",
    "        average=\"weighted\"\n",
    "    )\n",
    "\n",
    "    elapsed_time = time.time() - start_time\n",
    "    duration_dict[dataset_name][method] = elapsed_time\n",
    "    print(\"-------------------------------------------\")\n",
    "    print(f\"Dataset: {dataset_name}\")\n",
    "    print(f\"Accuracy: {accuracy_dict[dataset_name][method]:.2f}\")\n",
    "    print(f\"F1-Score: {f1_score_dict[dataset_name][method]:.2f}\")\n",
    "    print(f\"Duration: {duration_dict[dataset_name][method]:.2f} seconds\")"
   ]
  },
  {
   "cell_type": "markdown",
   "id": "b2efe500",
   "metadata": {},
   "source": [
    "## 2. Time Series Bag-of-Features (TSBF)"
   ]
  },
  {
   "cell_type": "markdown",
   "id": "575d0abd",
   "metadata": {},
   "source": [
    "```bibtex\n",
    "@article{baydogan2013,\n",
    "  title = {A Bag-of-Features Framework to Classify Time Series},\n",
    "  author = {Murat G{\\\"u}nes Baydogan and George Runger and Eugene Tuv},\n",
    "  article = {IEEE Transactions on Pattern Analysis and Machine Intelligence},\n",
    "  volume = {35},\n",
    "  number = {11},\n",
    "  pages = {2796--2802},\n",
    "  year = {2013},\n",
    "  publisher = {IEEE}\n",
    "}\n",
    "```\n",
    "\n",
    "Proposed by \\cite{baydogan2013}.\n"
   ]
  },
  {
   "cell_type": "markdown",
   "id": "a2506b65",
   "metadata": {},
   "source": [
    "\"Time series bag-of-features is a more advanced algorithm also based on features extracted from subsequences and random forest. First, time series bag-of-forest also randomly generates intervals. However, this algorithm extracts more features than time series forest. Each interval is divided into non-overlapping subintervals, and the same three features (mean, standard deviation, and slope) are extracted from the subsequences corresponding to each subinterval. Moreover, four features from each interval are also extracted: the mean and the standard deviation of the subsequence corresponding to this interval, as well as the start and end indices of this interval.\" \\cite{faouzi2024}\n",
    "\n",
    "\"A new data set is created, whose samples are the subsequences extracted from the time series for every interval, and whose features are the aforementioned extracted features. In this new data set, the number of samples is thus the number of time series times the number of intervals, while the number of features is equal to four plus three times the number of subintervals (four features for the interval and three features for each subinterval in the interval). The class of each subsequence is defined as the class of the time series from which the subsequence was extracted.\" \\cite{faouzi2024}\n",
    "\n",
    "<img src=\"images/05_tsbagoffeatures.png\" style=\"width:600px; border: 1px solid #ccc; border-radius: 5px;\">\n",
    "\n",
    "\"Then, a first random forest classifier is trained on this new data set, then outputs the probabilities to belong to each class for each subsequence. During the training phase, out-of-bag probabilities are actually used to have unbiased estimates of probabilities; that is, only trees that were built on bootstrap samples that did not contain the subsequence are used to compute the probabilities. Then, the probabilities are binned in order to summarize the distribution of the probabilities over all the subsequences; that is, the histogram of probabilities is computed to identify, for each class, how many subsequences were given high probabilities to belong to this class. More precisely, for each time series and for each class, the (out-of-bag) probabilities of belonging to the given class for all the subsequences extracted from the given time series are binned. For each time series and for each class, the mean probability over all the subsequences is also computed. Performing this operation for each time series and each class creates a new data set whose samples are the time series and whose features are the mean and binned probabilities for each class over all the subsequences. Finally, a second random forest classifier is trained on this new data set during the training phase and outputs the predicted class for an unseen time series during the inference phase.\" \\cite{faouzi2024}\n"
   ]
  },
  {
   "cell_type": "code",
   "execution_count": 8,
   "id": "0ab272de",
   "metadata": {},
   "outputs": [
    {
     "name": "stdout",
     "output_type": "stream",
     "text": [
      "TSBF\n",
      "-------------------------------------------\n",
      "Dataset: MelbournePedestrian\n",
      "Accuracy: 0.93\n",
      "F1-Score: 0.93\n",
      "Duration: 6.69 seconds\n",
      "-------------------------------------------\n",
      "Dataset: ArrowHead\n",
      "Accuracy: 0.66\n",
      "F1-Score: 0.66\n",
      "Duration: 0.62 seconds\n",
      "-------------------------------------------\n",
      "Dataset: Colposcopy\n",
      "Accuracy: 0.34\n",
      "F1-Score: 0.32\n",
      "Duration: 1.01 seconds\n"
     ]
    }
   ],
   "source": [
    "method = \"TSBF\"\n",
    "print(method)\n",
    "\n",
    "for dataset_name in DATASET_NAMES:\n",
    "    start_time = time.time()\n",
    "\n",
    "    tsbf = TSBF()\n",
    "    tsbf.fit(X_train_dict[dataset_name], y_train_dict[dataset_name])\n",
    "    tsbf_preds = tsbf.predict(X_test_dict[dataset_name])\n",
    "    accuracy_dict[dataset_name][method] = metrics.accuracy_score(\n",
    "        y_test_dict[dataset_name], tsbf_preds\n",
    "    )\n",
    "    f1_score_dict[dataset_name][method] = metrics.f1_score(\n",
    "        y_test_dict[dataset_name], tsbf_preds,\n",
    "        average=\"weighted\"\n",
    "    )\n",
    "\n",
    "    elapsed_time = time.time() - start_time\n",
    "    duration_dict[dataset_name][method] = elapsed_time\n",
    "    print(\"-------------------------------------------\")\n",
    "    print(f\"Dataset: {dataset_name}\")\n",
    "    print(f\"Accuracy: {accuracy_dict[dataset_name][method]:.2f}\")\n",
    "    print(f\"F1-Score: {f1_score_dict[dataset_name][method]:.2f}\")\n",
    "    print(f\"Duration: {duration_dict[dataset_name][method]:.2f} seconds\")"
   ]
  },
  {
   "cell_type": "markdown",
   "id": "029227bd",
   "metadata": {},
   "source": [
    "## 3. Supervised Time Series Forest (STSF)"
   ]
  },
  {
   "cell_type": "markdown",
   "id": "bb6f7a8a",
   "metadata": {},
   "source": [
    "```bibtex\n",
    "@inproceedings{cabello2020,\n",
    "  author = {Nicolas Cabello and Ehsan Naghizade and Javen Qi and others},\n",
    "  title = {Fast and Accurate Time Series Classification Through Supervised Interval Search},\n",
    "  booktitle = {Proceedings of the IEEE International Conference on Data Mining (ICDM)},\n",
    "  year = {2020},\n",
    "  publisher = {IEEE}\n",
    "}\n",
    "```\n",
    "\n",
    "Proposed by \\cite{cabello2020}."
   ]
  },
  {
   "cell_type": "markdown",
   "id": "891e25db",
   "metadata": {},
   "source": [
    "\"Supervised Time Series Forest (STSF) is an interval based tree ensemble that includes a supervised method for extracting intervals. Intervals are found and extracted for a periodogram and the first order differences representation as well as the base series. STSF introduces bagging for each tree and extracts seven simple summary statistics from each interval. For each tree, an initial split point for the series is randomly selected. For both of these splits, the remaining subseries is cut in half, and the halfwith the higher Fisher score is retained as an interval. This process is then run recursively using higher scored intervals until the series is smaller than a threshold. This is repeated for each of the seven summary statistic features, with the extracted statistic being used to calculate the Fisher score.\" \\cite{middlehurst2024}"
   ]
  },
  {
   "cell_type": "code",
   "execution_count": 9,
   "id": "208ab5f6",
   "metadata": {},
   "outputs": [
    {
     "name": "stdout",
     "output_type": "stream",
     "text": [
      "STSF\n",
      "-------------------------------------------\n",
      "Dataset: MelbournePedestrian\n",
      "Accuracy: 0.97\n",
      "F1-Score: 0.97\n",
      "Duration: 12.71 seconds\n",
      "-------------------------------------------\n",
      "Dataset: ArrowHead\n",
      "Accuracy: 0.66\n",
      "F1-Score: 0.66\n",
      "Duration: 1.90 seconds\n",
      "-------------------------------------------\n",
      "Dataset: Colposcopy\n",
      "Accuracy: 0.44\n",
      "F1-Score: 0.34\n",
      "Duration: 4.39 seconds\n"
     ]
    }
   ],
   "source": [
    "method = \"STSF\"\n",
    "print(method)\n",
    "\n",
    "for dataset_name in DATASET_NAMES:\n",
    "    start_time = time.time()\n",
    "\n",
    "    stsf = SupervisedTimeSeriesForest()\n",
    "    stsf.fit(X_train_dict[dataset_name], y_train_dict[dataset_name])\n",
    "    stsf_preds = stsf.predict(X_test_dict[dataset_name])\n",
    "    accuracy_dict[dataset_name][method] = metrics.accuracy_score(\n",
    "        y_test_dict[dataset_name], stsf_preds\n",
    "    )\n",
    "    f1_score_dict[dataset_name][method] = metrics.f1_score(\n",
    "        y_test_dict[dataset_name], stsf_preds,\n",
    "        average=\"weighted\"\n",
    "    )\n",
    "\n",
    "    elapsed_time = time.time() - start_time\n",
    "    duration_dict[dataset_name][method] = elapsed_time\n",
    "    print(\"-------------------------------------------\")\n",
    "    print(f\"Dataset: {dataset_name}\")\n",
    "    print(f\"Accuracy: {accuracy_dict[dataset_name][method]:.2f}\")\n",
    "    print(f\"F1-Score: {f1_score_dict[dataset_name][method]:.2f}\")\n",
    "    print(f\"Duration: {duration_dict[dataset_name][method]:.2f} seconds\")"
   ]
  },
  {
   "cell_type": "markdown",
   "id": "dbbb5fcd",
   "metadata": {},
   "source": [
    "## 4. Randomised STSF (RSTSF)"
   ]
  },
  {
   "cell_type": "markdown",
   "id": "b44624e3",
   "metadata": {},
   "source": [
    "```bibtex\n",
    "@misc{cabello2021,\n",
    "  author = {Nicolas Cabello and Ehsan Naghizade and Javen Qi and others},\n",
    "  title = {Fast, Accurate and Interpretable Time Series Classification Through Randomization},\n",
    "  year = {2021},\n",
    "  archivePrefix = {arXiv},\n",
    "  eprint = {2105.14876},\n",
    "  primaryClass = {cs.LG},\n",
    "  note = {Available at \\url{https://arxiv.org/abs/2105.14876}}\n",
    "}\n",
    "```\n",
    "\n",
    "Proposed by \\cite{cabello2021}.\n"
   ]
  },
  {
   "cell_type": "markdown",
   "id": "e02b9396",
   "metadata": {},
   "source": [
    "\"Randomised STSF (RSTSF) is an extension of STSF, altering its components with more randomised elements. The split points for interval selection are selected randomly instead of splitting each candidate in half after the first. Intervals extracted from an autoregressive representation are included alongside the previous additions. Features are extracted multiple times from each representation into a single pool. Rather than extract different features for each tree in an ensemble, the features are used in a pipeline to build an Extra Trees classifier.\" \\cite{middlehurst2024}"
   ]
  },
  {
   "cell_type": "code",
   "execution_count": 10,
   "id": "71dbc91c",
   "metadata": {},
   "outputs": [
    {
     "name": "stdout",
     "output_type": "stream",
     "text": [
      "RSTSF\n",
      "-------------------------------------------\n",
      "Dataset: MelbournePedestrian\n",
      "Accuracy: 0.98\n",
      "F1-Score: 0.98\n",
      "Duration: 3.75 seconds\n",
      "-------------------------------------------\n",
      "Dataset: ArrowHead\n",
      "Accuracy: 0.75\n",
      "F1-Score: 0.75\n",
      "Duration: 0.59 seconds\n",
      "-------------------------------------------\n",
      "Dataset: Colposcopy\n",
      "Accuracy: 0.44\n",
      "F1-Score: 0.32\n",
      "Duration: 1.28 seconds\n"
     ]
    }
   ],
   "source": [
    "method = \"RSTSF\"\n",
    "print(method)\n",
    "\n",
    "for dataset_name in DATASET_NAMES:\n",
    "    start_time = time.time()\n",
    "\n",
    "    rstsf = RSTSF()\n",
    "    rstsf.fit(X_train_dict[dataset_name], y_train_dict[dataset_name])\n",
    "    rstsf_preds = rstsf.predict(X_test_dict[dataset_name])\n",
    "    accuracy_dict[dataset_name][method] = metrics.accuracy_score(\n",
    "        y_test_dict[dataset_name], rstsf_preds\n",
    "    )\n",
    "    f1_score_dict[dataset_name][method] = metrics.f1_score(\n",
    "        y_test_dict[dataset_name], rstsf_preds,\n",
    "        average=\"weighted\"\n",
    "    )\n",
    "\n",
    "    elapsed_time = time.time() - start_time\n",
    "    duration_dict[dataset_name][method] = elapsed_time\n",
    "    print(\"-------------------------------------------\")\n",
    "    print(f\"Dataset: {dataset_name}\")\n",
    "    print(f\"Accuracy: {accuracy_dict[dataset_name][method]:.2f}\")\n",
    "    print(f\"F1-Score: {f1_score_dict[dataset_name][method]:.2f}\")\n",
    "    print(f\"Duration: {duration_dict[dataset_name][method]:.2f} seconds\")"
   ]
  },
  {
   "cell_type": "markdown",
   "id": "2eb4b8f3",
   "metadata": {},
   "source": [
    "## 5. Canonical Interval Forest (CIF)"
   ]
  },
  {
   "cell_type": "markdown",
   "id": "5dc845da",
   "metadata": {},
   "source": [
    "```bibtex\n",
    "@inproceedings{middlehurst2020,\n",
    "  author = {Miles Middlehurst and James Large and Anthony Bagnall},\n",
    "  title = {The Canonical Interval Forest (CIF) Classifier for Time Series Classification},\n",
    "  booktitle = {Proceedings of the IEEE International Conference on Big Data},\n",
    "  pages = {188--195},\n",
    "  year = {2020},\n",
    "  publisher = {IEEE}\n",
    "}\n",
    "```\n",
    "\n",
    "Proposed by \\cite{middlehurst2020}."
   ]
  },
  {
   "cell_type": "markdown",
   "id": "1458d82a",
   "metadata": {},
   "source": [
    "\"The Canonical Interval Forest (CIF) is another extension of TSF, that improves accuracy by integrating more informative features and by\n",
    "increasing diversity. Like other interval approaches, CIF is an ensemble of decision tree classifiers built on features extracted from phase dependent intervals. Alongside the mean, standard deviation and slope, CIF also extracts the Catch22 features. Intervals remain randomly generated, with each tree selecting $k = \\sqrt{m \\sqrt{d}}$ intervals. To add additional diversity to the ensemble, a attributes out of the pool of 25 are randomly selected for each tree. The extracted features are concatenated into a $k \\dot a$ length vector for each time series and used to build the tree. For multivariate data, CIF randomly selects the dimension used for each interval.\" \\cite{middlehurst2024}"
   ]
  },
  {
   "cell_type": "code",
   "execution_count": 11,
   "id": "4ce62808",
   "metadata": {},
   "outputs": [
    {
     "name": "stdout",
     "output_type": "stream",
     "text": [
      "CIF\n",
      "-------------------------------------------\n",
      "Dataset: MelbournePedestrian\n",
      "Accuracy: 0.97\n",
      "F1-Score: 0.97\n",
      "Duration: 83.28 seconds\n",
      "-------------------------------------------\n",
      "Dataset: ArrowHead\n",
      "Accuracy: 0.76\n",
      "F1-Score: 0.76\n",
      "Duration: 38.30 seconds\n",
      "-------------------------------------------\n",
      "Dataset: Colposcopy\n",
      "Accuracy: 0.43\n",
      "F1-Score: 0.34\n",
      "Duration: 27.16 seconds\n"
     ]
    }
   ],
   "source": [
    "method = \"CIF\"\n",
    "print(method)\n",
    "\n",
    "for dataset_name in DATASET_NAMES:\n",
    "    start_time = time.time()\n",
    "\n",
    "    cif = CanonicalIntervalForestClassifier()\n",
    "    cif.fit(X_train_dict[dataset_name], y_train_dict[dataset_name])\n",
    "    cif_preds = cif.predict(X_test_dict[dataset_name])\n",
    "    accuracy_dict[dataset_name][method] = metrics.accuracy_score(\n",
    "        y_test_dict[dataset_name], cif_preds\n",
    "    )\n",
    "    f1_score_dict[dataset_name][method] = metrics.f1_score(\n",
    "        y_test_dict[dataset_name], cif_preds,\n",
    "        average=\"weighted\"\n",
    "    )\n",
    "\n",
    "    elapsed_time = time.time() - start_time\n",
    "    duration_dict[dataset_name][method] = elapsed_time\n",
    "    print(\"-------------------------------------------\")\n",
    "    print(f\"Dataset: {dataset_name}\")\n",
    "    print(f\"Accuracy: {accuracy_dict[dataset_name][method]:.2f}\")\n",
    "    print(f\"F1-Score: {f1_score_dict[dataset_name][method]:.2f}\")\n",
    "    print(f\"Duration: {duration_dict[dataset_name][method]:.2f} seconds\")"
   ]
  },
  {
   "cell_type": "markdown",
   "id": "d3335ace",
   "metadata": {},
   "source": [
    "## 6. QUANT"
   ]
  },
  {
   "cell_type": "markdown",
   "id": "a184488f",
   "metadata": {},
   "source": [
    "```bibtex\n",
    "@misc{dempster2023,\n",
    "  author = {Angus Dempster and Daniel F. Schmidt and Geoffrey I. Webb},\n",
    "  title = {Quant: A Minimalist Interval Method for Time Series Classification},\n",
    "  year = {2023},\n",
    "  archivePrefix = {arXiv},\n",
    "  eprint = {2308.00928},\n",
    "  primaryClass = {cs.LG},\n",
    "  note = {Available at \\url{https://arxiv.org/abs/2308.00928}}\n",
    "}\n",
    "```\n",
    "\n",
    "Proposed by \\cite{dempster2023}."
   ]
  },
  {
   "cell_type": "markdown",
   "id": "3de72715",
   "metadata": {},
   "source": [
    "\"QUANT employs a singular feature type, quantiles, to encapsulate the distribution of a given time series. The method combines four distinct representations, namely raw time series, first-order differences, Fourier coefficients, and second-order differences. The extraction process involves fixed, dyadic intervals derived from the time series. These disjoint intervals are constructed through a pyramid structure, where each level successively halves the interval length. At depths greater than one, an identical set of intervals, shifted by half the interval length, is also included. The total count of intervals is calculated as $2^{(d - 1)} \\times 4 - 2 - d$ for a depth of $d = \\min(6, \\log_2 n + 1)$. Each representation can have up to 120 intervals, resulting in a total of 480 intervals across all four representations. The concatenated feature vector is used to build an Extra Trees classifier.\" \\cite{middlehurst2024}"
   ]
  },
  {
   "cell_type": "code",
   "execution_count": 12,
   "id": "c66fbe8a",
   "metadata": {},
   "outputs": [
    {
     "name": "stdout",
     "output_type": "stream",
     "text": [
      "QUANT\n",
      "-------------------------------------------\n",
      "Dataset: MelbournePedestrian\n",
      "Accuracy: 0.97\n",
      "F1-Score: 0.97\n",
      "Duration: 0.33 seconds\n",
      "-------------------------------------------\n",
      "Dataset: ArrowHead\n",
      "Accuracy: 0.81\n",
      "F1-Score: 0.81\n",
      "Duration: 0.18 seconds\n",
      "-------------------------------------------\n",
      "Dataset: Colposcopy\n",
      "Accuracy: 0.47\n",
      "F1-Score: 0.38\n",
      "Duration: 0.35 seconds\n"
     ]
    }
   ],
   "source": [
    "method = \"QUANT\"\n",
    "print(method)\n",
    "\n",
    "for dataset_name in DATASET_NAMES:\n",
    "    start_time = time.time()\n",
    "\n",
    "    quant = QUANTClassifier()\n",
    "    quant.fit(X_train_dict[dataset_name], y_train_dict[dataset_name])\n",
    "    quant_preds = quant.predict(X_test_dict[dataset_name])\n",
    "    accuracy_dict[dataset_name][method] = metrics.accuracy_score(\n",
    "        y_test_dict[dataset_name], quant_preds\n",
    "    )\n",
    "    f1_score_dict[dataset_name][method] = metrics.f1_score(\n",
    "        y_test_dict[dataset_name], quant_preds,\n",
    "        average=\"weighted\"\n",
    "    )\n",
    "\n",
    "    elapsed_time = time.time() - start_time\n",
    "    duration_dict[dataset_name][method] = elapsed_time\n",
    "    print(\"-------------------------------------------\")\n",
    "    print(f\"Dataset: {dataset_name}\")\n",
    "    print(f\"Accuracy: {accuracy_dict[dataset_name][method]:.2f}\")\n",
    "    print(f\"F1-Score: {f1_score_dict[dataset_name][method]:.2f}\")\n",
    "    print(f\"Duration: {duration_dict[dataset_name][method]:.2f} seconds\")"
   ]
  },
  {
   "cell_type": "markdown",
   "id": "2ea0a956",
   "metadata": {},
   "source": [
    "## 7. Comparison between the Classifiers"
   ]
  },
  {
   "cell_type": "code",
   "execution_count": 13,
   "id": "57e72f04",
   "metadata": {},
   "outputs": [
    {
     "data": {
      "image/png": "[encoded data removed]",
      "text/plain": [
       "<Figure size 800x500 with 1 Axes>"
      ]
     },
     "metadata": {},
     "output_type": "display_data"
    },
    {
     "data": {
      "image/png": "[encoded data removed]",
      "text/plain": [
       "<Figure size 800x500 with 1 Axes>"
      ]
     },
     "metadata": {},
     "output_type": "display_data"
    },
    {
     "data": {
      "image/png": "[encoded data removed]",
      "text/plain": [
       "<Figure size 800x500 with 1 Axes>"
      ]
     },
     "metadata": {},
     "output_type": "display_data"
    }
   ],
   "source": [
    "datasets = list(accuracy_dict.keys())\n",
    "methods = list(next(iter(accuracy_dict.values())).keys())\n",
    "\n",
    "def prepare_long_format(metric_dict, metric_name):\n",
    "    records = []\n",
    "    for ds in datasets:\n",
    "        for method in methods:\n",
    "            val = metric_dict[ds][method]\n",
    "            if isinstance(val, (int, float)):\n",
    "                records.append({\n",
    "                    \"Dataset\": ds,\n",
    "                    \"Method\": method,\n",
    "                    \"Metric\": float(val),\n",
    "                    \"Type\": metric_name\n",
    "                })\n",
    "    return pd.DataFrame(records)\n",
    "\n",
    "df_accuracy = prepare_long_format(accuracy_dict, \"Accuracy\")\n",
    "df_f1 = prepare_long_format(f1_score_dict, \"F1-Score\")\n",
    "df_duration = prepare_long_format(duration_dict, \"Duration (s)\")\n",
    "\n",
    "df_all = pd.concat([df_accuracy, df_f1, df_duration], ignore_index=True)\n",
    "\n",
    "def plot_boxplot(df, title, ylabel):\n",
    "    plt.figure(figsize=(8, 5))\n",
    "    sns.boxplot(data=df, x=\"Method\", y=\"Metric\", hue=\"Method\")\n",
    "    plt.title(title)\n",
    "    plt.ylabel(ylabel)\n",
    "    plt.xlabel(\"Method\")\n",
    "    plt.grid(True)\n",
    "    plt.tight_layout()\n",
    "    plt.show()\n",
    "\n",
    "plot_boxplot(df_accuracy, \"Accuracy Distribution per Method\", \"Accuracy\")\n",
    "plot_boxplot(df_f1, \"F1-Score Distribution per Method\", \"F1-Score\")\n",
    "plot_boxplot(df_duration, \"Duration Distribution per Method\", \"Time (s)\")"
   ]
  }
 ],
 "metadata": {
  "kernelspec": {
   "display_name": ".venv",
   "language": "python",
   "name": "python3"
  },
  "language_info": {
   "codemirror_mode": {
    "name": "ipython",
    "version": 3
   },
   "file_extension": ".py",
   "mimetype": "text/x-python",
   "name": "python",
   "nbconvert_exporter": "python",
   "pygments_lexer": "ipython3",
   "version": "3.9.6"
  }
 },
 "nbformat": 4,
 "nbformat_minor": 5
}
