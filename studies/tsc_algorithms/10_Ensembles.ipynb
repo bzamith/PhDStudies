{
 "cells": [
  {
   "cell_type": "markdown",
   "id": "da9f8057",
   "metadata": {},
   "source": [
    "# Time Series Classification Algorithms - (10) Ensembles"
   ]
  },
  {
   "cell_type": "markdown",
   "id": "cc2b1590",
   "metadata": {},
   "source": [
    "<div style=\"border: 1px solid #007acc; background-color: #e6f4ff; padding: 10px; border-radius: 5px; color: black;\">\n",
    "  <strong>📘 Info:</strong> I do not claim ownership of the content in this notebook. It is based on official <a href=\"https://www.aeon-toolkit.org/en/latest/examples.html\" target=\"_blank\">aeon tutorials</a>, and parts of the code or text may have been copy-pasted or adapted directly from those or other sources for learning purposes.\n",
    "</div>"
   ]
  },
  {
   "cell_type": "code",
   "execution_count": null,
   "id": "5eff1676",
   "metadata": {},
   "outputs": [],
   "source": [
    "import warnings\n",
    "warnings.filterwarnings('ignore', category=DeprecationWarning)\n",
    "warnings.filterwarnings('ignore', category=FutureWarning)"
   ]
  },
  {
   "cell_type": "code",
   "execution_count": null,
   "id": "ef3c79ee",
   "metadata": {},
   "outputs": [],
   "source": [
    "import matplotlib.pyplot as plt\n",
    "\n",
    "import numpy as np\n",
    "\n",
    "import pandas as pd\n",
    "\n",
    "import seaborn as sns\n",
    "\n",
    "from sklearn import metrics\n",
    "\n",
    "import time"
   ]
  },
  {
   "cell_type": "code",
   "execution_count": null,
   "id": "47e6413f",
   "metadata": {},
   "outputs": [],
   "source": [
    "from aeon.datasets import load_classification\n",
    "from aeon.utils.discovery import all_estimators\n",
    "\n",
    "# all_estimators(\"classifier\", tag_filter={\"algorithm_type\": \"feature\"})"
   ]
  },
  {
   "cell_type": "code",
   "execution_count": null,
   "id": "2d6f8908",
   "metadata": {},
   "outputs": [],
   "source": [
    "DATASET_NAMES = [\n",
    "    \"MelbournePedestrian\",\n",
    "    \"ArrowHead\",\n",
    "    \"Colposcopy\"\n",
    "]\n",
    "\n",
    "X_train_dict, y_train_dict = {}, {}\n",
    "X_test_dict, y_test_dict = {}, {}\n",
    "\n",
    "accuracy_dict, f1_score_dict, duration_dict = {}, {}, {}\n",
    "\n",
    "for dataset_name in DATASET_NAMES: \n",
    "    X_train_dict[dataset_name], y_train_dict[dataset_name] = load_classification(\n",
    "        dataset_name, split=\"train\"\n",
    "    )\n",
    "    X_test_dict[dataset_name], y_test_dict[dataset_name] = load_classification(\n",
    "        dataset_name, split=\"test\"\n",
    "    )\n",
    "\n",
    "    X_train_dict[dataset_name] = X_train_dict[dataset_name].squeeze(1)\n",
    "    X_test_dict[dataset_name] = X_test_dict[dataset_name].squeeze(1)\n",
    "\n",
    "    accuracy_dict[dataset_name] = {}\n",
    "    f1_score_dict[dataset_name] = {}\n",
    "    duration_dict[dataset_name] = {}"
   ]
  },
  {
   "cell_type": "markdown",
   "id": "63e8b68b",
   "metadata": {},
   "source": [
    "## 1. COTE"
   ]
  },
  {
   "cell_type": "markdown",
   "id": "14161af7",
   "metadata": {},
   "source": [
    "## 2. HIVE-COTE"
   ]
  },
  {
   "cell_type": "markdown",
   "id": "0ace3dce",
   "metadata": {},
   "source": [
    "## 3. HIVE-COTE v1"
   ]
  },
  {
   "cell_type": "markdown",
   "id": "1a704c5e",
   "metadata": {},
   "source": [
    "## 4. HIVE-COTE v2"
   ]
  },
  {
   "cell_type": "markdown",
   "id": "5e079f11",
   "metadata": {},
   "source": [
    "## 5. TSCHIEF"
   ]
  },
  {
   "cell_type": "markdown",
   "id": "a6b18646",
   "metadata": {},
   "source": [
    "## 6. Comparison between the Classifiers"
   ]
  },
  {
   "cell_type": "markdown",
   "id": "597a73e5",
   "metadata": {},
   "source": []
  }
 ],
 "metadata": {
  "language_info": {
   "name": "python"
  }
 },
 "nbformat": 4,
 "nbformat_minor": 5
}
