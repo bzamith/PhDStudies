{
 "cells": [
  {
   "cell_type": "markdown",
   "id": "da9f8057",
   "metadata": {},
   "source": [
    "# Time Series Classification Algorithms - (10) Ensembles"
   ]
  },
  {
   "cell_type": "markdown",
   "id": "cc2b1590",
   "metadata": {},
   "source": [
    "<div style=\"border: 1px solid #007acc; background-color: #e6f4ff; padding: 10px; border-radius: 5px; color: black;\">\n",
    "  <strong>📘 Info:</strong> I do not claim ownership of the content in this notebook. It is based on official <a href=\"https://www.aeon-toolkit.org/en/latest/examples.html\" target=\"_blank\">aeon tutorials</a>, and parts of the code or text may have been copy-pasted or adapted directly from those or other sources for learning purposes.\n",
    "</div>"
   ]
  },
  {
   "cell_type": "code",
   "execution_count": 1,
   "id": "5eff1676",
   "metadata": {},
   "outputs": [],
   "source": [
    "import warnings\n",
    "warnings.filterwarnings('ignore', category=DeprecationWarning)\n",
    "warnings.filterwarnings('ignore', category=FutureWarning)"
   ]
  },
  {
   "cell_type": "code",
   "execution_count": 2,
   "id": "ef3c79ee",
   "metadata": {},
   "outputs": [],
   "source": [
    "import matplotlib.pyplot as plt\n",
    "\n",
    "import pandas as pd\n",
    "\n",
    "import seaborn as sns\n",
    "\n",
    "from sklearn import metrics\n",
    "\n",
    "import time"
   ]
  },
  {
   "cell_type": "code",
   "execution_count": 3,
   "id": "47e6413f",
   "metadata": {},
   "outputs": [],
   "source": [
    "from aeon.datasets import load_classification\n",
    "from aeon.utils.discovery import all_estimators\n",
    "\n",
    "# all_estimators(\"classifier\", tag_filter={\"algorithm_type\": \"hybrid\"})"
   ]
  },
  {
   "cell_type": "code",
   "execution_count": 4,
   "id": "af73e86d",
   "metadata": {},
   "outputs": [],
   "source": [
    "from aeon.classification.hybrid import (\n",
    "    HIVECOTEV1,\n",
    "    HIVECOTEV2,\n",
    "    RISTClassifier\n",
    ")"
   ]
  },
  {
   "cell_type": "code",
   "execution_count": 5,
   "id": "2d6f8908",
   "metadata": {},
   "outputs": [],
   "source": [
    "DATASET_NAMES = [\n",
    "    \"MelbournePedestrian\",\n",
    "    \"ArrowHead\",\n",
    "    \"Colposcopy\"\n",
    "]\n",
    "\n",
    "X_train_dict, y_train_dict = {}, {}\n",
    "X_test_dict, y_test_dict = {}, {}\n",
    "\n",
    "accuracy_dict, f1_score_dict, duration_dict = {}, {}, {}\n",
    "\n",
    "for dataset_name in DATASET_NAMES: \n",
    "    X_train_dict[dataset_name], y_train_dict[dataset_name] = load_classification(\n",
    "        dataset_name, split=\"train\"\n",
    "    )\n",
    "    X_test_dict[dataset_name], y_test_dict[dataset_name] = load_classification(\n",
    "        dataset_name, split=\"test\"\n",
    "    )\n",
    "\n",
    "    X_train_dict[dataset_name] = X_train_dict[dataset_name].squeeze(1)\n",
    "    X_test_dict[dataset_name] = X_test_dict[dataset_name].squeeze(1)\n",
    "\n",
    "    accuracy_dict[dataset_name] = {}\n",
    "    f1_score_dict[dataset_name] = {}\n",
    "    duration_dict[dataset_name] = {}"
   ]
  },
  {
   "cell_type": "markdown",
   "id": "6aa278d2",
   "metadata": {},
   "source": [
    "```bibtex\n",
    "@inbook{faouzi2024,\n",
    "  author = {Johann Faouzi},\n",
    "  title = {Time Series Classification: A Review of Algorithms and Implementations},\n",
    "  year = {2024},\n",
    "  month = {March},\n",
    "  booktitle = {Advances in Time Series Analysis and Forecasting},\n",
    "  publisher = {IntechOpen},\n",
    "  isbn = {978-0-85466-053-7},\n",
    "  doi = {10.5772/intechopen.1004810},\n",
    "}\n",
    "```\n",
    "\n",
    "\"Averaging the predictions of several independently trained models into a single prediction is a common approach to build a better final model by decreasing the variance of the predictions. In traditional ensemble methods, all the base classifiers belong to a given type of algorithms. For instance, in a random forest, all the base classifiers are decision trees. However, using a single type of algorithm limits the upsides and downsides of the final model to the ones of the base classifier. On the other hand, using several types of algorithms allows for learning a more diverse representation of the data. In particular, for time series classification, ensemble models that combine different types of algorithms (bag-of-words approaches, shapelet-based algorithms, convolutions, etc.) have been developed. They often are state-of-the-art in terms of predictive performance, at the cost of high computational complexity.\" \\cite{faouzi2024}"
   ]
  },
  {
   "cell_type": "markdown",
   "id": "982ead17",
   "metadata": {},
   "source": [
    "## 1. Collective of Transformation-Based Ensembles (COTE)"
   ]
  },
  {
   "cell_type": "markdown",
   "id": "cb97d2cd",
   "metadata": {},
   "source": [
    "```bibtex\n",
    "@article{bagnall2015,\n",
    "  author = {Anthony Bagnall and Jason Lines and Jon Hills and Aaron Bostrom},\n",
    "  title = {Time-series Classification with COTE: The Collective of Transformation-based Ensembles},\n",
    "  journal = {IEEE Transactions on Knowledge and Data Engineering},\n",
    "  year = {2015},\n",
    "  volume = {27},\n",
    "  number = {9},\n",
    "  pages = {2522--2535},\n",
    "  doi = {10.1109/TKDE.2015.2416723}\n",
    "}\n",
    "```\n",
    "\n",
    "Proposed by \\cite{bagnall2015}."
   ]
  },
  {
   "cell_type": "markdown",
   "id": "2e5305f2",
   "metadata": {},
   "source": [
    "\"The Collective of Transformation-Based Ensembles (COTE) algorithm was the first proposed ensemble classifier. The most effective ensemble strategy was found to combine all the classifiers into a flat hierarchy and the corresponding model is often referred to as Flat-COTE. Flat-COTE combines 35 classifiers over four data representations: 11 classifiers based on whole series similarity measures, 8 classifiers based on shapelet-transform, 8 based on autocorrelation features, and 8 based on power spectrum.\" \\cite{faouzi2024}"
   ]
  },
  {
   "cell_type": "markdown",
   "id": "63e8b68b",
   "metadata": {},
   "source": [
    "## 2. HIVE-COTE"
   ]
  },
  {
   "cell_type": "markdown",
   "id": "a397ec57",
   "metadata": {},
   "source": [
    "```bibtex\n",
    "@article{lines2018,\n",
    "  author = {Jason Lines and Sarah Taylor and Anthony Bagnall},\n",
    "  title = {Time Series Classification with HIVE-COTE: The Hierarchical Vote Collective of Transformation-Based Ensembles},\n",
    "  journal = {ACM Transactions on Knowledge Discovery from Data},\n",
    "  year = {2018},\n",
    "  volume = {12},\n",
    "  number = {5},\n",
    "  pages = {52:1--52:35},\n",
    "  doi = {10.1145/3185056}\n",
    "}\n",
    "```\n",
    "\n",
    "Proposed by \\cite{lines2018}."
   ]
  },
  {
   "cell_type": "markdown",
   "id": "b75c810e",
   "metadata": {},
   "source": [
    "The Hierarchical Vote Collective of Transformation-Based Ensembles (HIVE-COTE) algorithm is an extension of COTE with significant modifications, including a new type of spectral classifier called Random Interval Spectral Ensemble, two more classifiers (BOSS and Time Series Forest), and a hierarchical voting procedure, defined as a weighted average of the probabilities returned by each classifier, with the weights being proportional to the classification accuracy estimated through cross-validation."
   ]
  },
  {
   "cell_type": "markdown",
   "id": "623e452e",
   "metadata": {},
   "source": [
    "HIVE-COTE are a family of algorithms that have been consistently the most accurate approaches for TSC with the UCR data. This first version of HIVE-COTE, subsequently called $\\text{HIVE-COTE}_\\alpha$ ($\\text{HC}_\\alpha$), is a heterogeneous ensemble containing five modules each from a different representation:\n",
    "- The Elastic Ensemble from the distance-based representation;\n",
    "- Time Series Forest from interval-based methods;\n",
    "- BOSS from dictionary-based approaches;\n",
    "- A version of the shapelet transform classifier, ST-HESCA, from shapelet-based techniques;\n",
    "- And the spectral-based RISE.\n",
    "\n",
    "The five modules are ensembled using the Cross-validation Accuracy Weighted Probabilistic Ensemble (CAWPE, known at the time as HESCA)..\n",
    "\n",
    "CAWPE employs a tilted probability distribution using exponential weighting of probabilities estimated for each module found through cross-validation on the train data. The weighted probabilities from each module are summed and standardised to produce the HIVE-COTE probability prediction.\n",
    "\n",
    "https://www.aeon-toolkit.org/en/latest/examples/classification/hybrid.html#The-Hierarchical-Vote-Collective-of-Transformation-Ensembles-(HIVE-COTE)"
   ]
  },
  {
   "cell_type": "markdown",
   "id": "c4d79671",
   "metadata": {},
   "source": [
    "## 3. HIVE-COTE v1"
   ]
  },
  {
   "cell_type": "markdown",
   "id": "ee33862f",
   "metadata": {},
   "source": [
    "```bibtex\n",
    "@incollection{bagnall2020,\n",
    "  author = {Anthony Bagnall and Matthew Flynn and James Large and Jason Lines and Michael Middlehurst},\n",
    "  title = {On the Usage and Performance of the Hierarchical Vote Collective of Transformation-Based Ensembles Version 1.0 (HIVE-COTE v1.0)},\n",
    "  booktitle = {Advanced Analytics and Learning on Temporal Data},\n",
    "  editor = {Vincent Lemaire and Sébastien Malinowski and Anthony Bagnall and Thomas Guyet and Romain Tavenard and Georgiana Ifrim},\n",
    "  series = {Lecture Notes in Computer Science},\n",
    "  publisher = {Springer International Publishing},\n",
    "  year = {2020},\n",
    "  pages = {3--18},\n",
    "  doi = {10.1007/978-3-030-65965-3_1}\n",
    "}\n",
    "```\n",
    "\n",
    "Proposed by \\cite{bagnall2020}."
   ]
  },
  {
   "cell_type": "markdown",
   "id": "488d4d71",
   "metadata": {},
   "source": [
    "```bibtex\n",
    "@article{middlehurst2024,\n",
    "  author = {Middlehurst, Matthew and Sch{\\\"a}fer, Patrick and Bagnall, Anthony},\n",
    "  title = {Bake Off Redux: A Review and Experimental Evaluation of Recent Time Series Classification Algorithms},\n",
    "  journal = {Data Mining and Knowledge Discovery},\n",
    "  volume = {38},\n",
    "  pages = {1958--2031},\n",
    "  year = {2024},\n",
    "  doi = {10.1007/s10618-024-01022-1},\n",
    "  url = {https://doi.org/10.1007/s10618-024-01022-1}\n",
    "}\n",
    "```\n",
    "\n",
    "\"Whilst state-of-the-art in terms of accuracy, $\\text{HC}_\\alpha$ scales poorly. A range of improvements to make HIVE-COTE more usable were introduced in HIVE-COTE v1.0 (HC1). HC1 has four modules instead of the five used in $\\text{HC}_\\alpha$: it drops the computationally intensive EE algorithm without loss of accuracy. BOSS is replaced by the more configurable cBOSS. The improved randomised version of STC is included with a default limit on the search and the Rotation Forest classifier. TSF and RISE had usability improvements. HC1 is designed to be contractable, in that you can specify a maximum train time.\" \\cite{middlehurst2024}"
   ]
  },
  {
   "cell_type": "code",
   "execution_count": 6,
   "id": "64ba9d25",
   "metadata": {},
   "outputs": [
    {
     "name": "stdout",
     "output_type": "stream",
     "text": [
      "HIVE-COTE v1\n",
      "-------------------------------------------\n",
      "Dataset: MelbournePedestrian\n",
      "Accuracy: 0.97\n",
      "F1-Score: 0.97\n",
      "Duration: 669.52 seconds\n",
      "-------------------------------------------\n",
      "Dataset: ArrowHead\n",
      "Accuracy: 0.87\n",
      "F1-Score: 0.87\n",
      "Duration: 15.67 seconds\n",
      "-------------------------------------------\n",
      "Dataset: Colposcopy\n",
      "Accuracy: 0.46\n",
      "F1-Score: 0.35\n",
      "Duration: 27.22 seconds\n"
     ]
    }
   ],
   "source": [
    "method = \"HIVE-COTE v1\"\n",
    "print(method)\n",
    "\n",
    "for dataset_name in DATASET_NAMES:\n",
    "    start_time = time.time()\n",
    "    hc1 = HIVECOTEV1()\n",
    "    hc1.fit(X_train_dict[dataset_name], y_train_dict[dataset_name])\n",
    "    hc1_preds = hc1.predict(X_test_dict[dataset_name])\n",
    "    accuracy_dict[dataset_name][method] = metrics.accuracy_score(\n",
    "        y_test_dict[dataset_name], hc1_preds\n",
    "    )\n",
    "    f1_score_dict[dataset_name][method] = metrics.f1_score(\n",
    "        y_test_dict[dataset_name], hc1_preds,\n",
    "        average=\"weighted\"\n",
    "    )\n",
    "\n",
    "    elapsed_time = time.time() - start_time\n",
    "    duration_dict[dataset_name][method] = elapsed_time\n",
    "    print(\"-------------------------------------------\")\n",
    "    print(f\"Dataset: {dataset_name}\")\n",
    "    print(f\"Accuracy: {accuracy_dict[dataset_name][method]:.2f}\")\n",
    "    print(f\"F1-Score: {f1_score_dict[dataset_name][method]:.2f}\")\n",
    "    print(f\"Duration: {duration_dict[dataset_name][method]:.2f} seconds\")"
   ]
  },
  {
   "cell_type": "markdown",
   "id": "1a704c5e",
   "metadata": {},
   "source": [
    "## 4. HIVE-COTE v2"
   ]
  },
  {
   "cell_type": "markdown",
   "id": "a04d1c02",
   "metadata": {},
   "source": [
    "```bibtex\n",
    "@misc{middlehurst2021,\n",
    "  author = {Michael Middlehurst and James Large and Matthew Flynn and Jason Lines and Aaron Bostrom and Anthony Bagnall},\n",
    "  title = {{HIVE-COTE 2.0: A New Meta Ensemble for Time Series Classification}},\n",
    "  year = {2021},\n",
    "  url = {http://arxiv.org/abs/2104.07551},\n",
    "  note = {Accessed: Aug 9, 2021}\n",
    "}\n",
    "```\n",
    "\n",
    "Proposed by \\cite{middlehurst2021}."
   ]
  },
  {
   "cell_type": "markdown",
   "id": "e357b890",
   "metadata": {},
   "source": [
    "\"In 2021, HIVE-COTE was again updated to further address scalability issues and reﬂect recent innovations to individual TSC representations and HIVE-COTE v2.0 (HC2) was proposed. In HC2, RISE, TSF and cBOSS are replaced, with only STC retained. TDE replaces cBOSS as the dictionary classiﬁer. DrCIF replaces both TSF and RISE for the interval and frequency representations. An ensemble of ROCKET classiﬁers called the Arsenal is introduced as a new convolutional based approach. Estimation of test accuracy via cross-validation is replaced by an adapted form of out-of-bag error, although the ﬁnal model is still built using all training data. Unlike previous versions, HC2 is capable of classifying multivariate time series.\" \\cite{middlehurst2024}"
   ]
  },
  {
   "cell_type": "code",
   "execution_count": 7,
   "id": "e230a99b",
   "metadata": {},
   "outputs": [
    {
     "name": "stdout",
     "output_type": "stream",
     "text": [
      "HIVE-COTE v2\n",
      "-------------------------------------------\n",
      "Dataset: MelbournePedestrian\n",
      "Accuracy: 0.94\n",
      "F1-Score: 0.94\n",
      "Duration: 2163.35 seconds\n",
      "-------------------------------------------\n",
      "Dataset: ArrowHead\n",
      "Accuracy: 0.89\n",
      "F1-Score: 0.89\n",
      "Duration: 516.66 seconds\n",
      "-------------------------------------------\n",
      "Dataset: Colposcopy\n",
      "Accuracy: 0.42\n",
      "F1-Score: 0.30\n",
      "Duration: 505.48 seconds\n"
     ]
    }
   ],
   "source": [
    "method = \"HIVE-COTE v2\"\n",
    "print(method)\n",
    "\n",
    "for dataset_name in DATASET_NAMES:\n",
    "    start_time = time.time()\n",
    "\n",
    "    hc2 = HIVECOTEV2(time_limit_in_minutes=20)\n",
    "    hc2.fit(X_train_dict[dataset_name], y_train_dict[dataset_name])\n",
    "    hc2_preds = hc2.predict(X_test_dict[dataset_name])\n",
    "    accuracy_dict[dataset_name][method] = metrics.accuracy_score(\n",
    "        y_test_dict[dataset_name], hc2_preds\n",
    "    )\n",
    "    f1_score_dict[dataset_name][method] = metrics.f1_score(\n",
    "        y_test_dict[dataset_name], hc2_preds,\n",
    "        average=\"weighted\"\n",
    "    )\n",
    "\n",
    "    elapsed_time = time.time() - start_time\n",
    "    duration_dict[dataset_name][method] = elapsed_time\n",
    "    print(\"-------------------------------------------\")\n",
    "    print(f\"Dataset: {dataset_name}\")\n",
    "    print(f\"Accuracy: {accuracy_dict[dataset_name][method]:.2f}\")\n",
    "    print(f\"F1-Score: {f1_score_dict[dataset_name][method]:.2f}\")\n",
    "    print(f\"Duration: {duration_dict[dataset_name][method]:.2f} seconds\")"
   ]
  },
  {
   "cell_type": "markdown",
   "id": "5e079f11",
   "metadata": {},
   "source": [
    "## 5. Time Series Combination of Heterogeneous and Integrated Embedding Forest (TS-CHIEF)"
   ]
  },
  {
   "cell_type": "markdown",
   "id": "2afcdf79",
   "metadata": {},
   "source": [
    "```bibtex\n",
    "@article{shifaz2020,\n",
    "  author = {Abdullah Shifaz and Céline Pelletier and François Petitjean and Geoffrey I. Webb},\n",
    "  title = {TS-CHIEF: A Scalable and Accurate Forest Algorithm for Time Series Classification},\n",
    "  journal = {Data Mining and Knowledge Discovery},\n",
    "  year = {2020},\n",
    "  volume = {34},\n",
    "  number = {3},\n",
    "  pages = {742--775},\n",
    "  doi = {10.1007/s10618-020-00678-6}\n",
    "}\n",
    "```\n",
    "\n",
    "Proposed by \\cite{shifaz2020}."
   ]
  },
  {
   "cell_type": "markdown",
   "id": "4660ebf0",
   "metadata": {},
   "source": [
    "\"The Time Series Combination of Heterogeneous and Integrated Embedding Forest (TS-CHIEF) algorithm is another ensemble model rivaling with HIVE-COTE in terms of predictive performance while having a substantially lower runtime. TS-CHIEF builds a random forest of decision trees whose splitting functions are time series specific and based on similarity measures, dictionary (bag-of-words) representations, and interval-based transformations.\" \\cite{faouzi2024}\n",
    "\n",
    "\"The Time Series Combination of Heterogeneous and Integrated Embedding Forest (TS-CHIEF) is a homogeneous ensemble where hybrid features are embedded in tree nodes rather than modularised through separate classiﬁers. The TS-CHIEF comprises an ensemble of trees that embed distance, dictionary, and spectral base features. At each node, a number of splitting criteria from each of these representations are considered. These splits use randomly initialised parameters to help maintain diversity in the ensemble. The dictionary based splits are based on BOSS, distance splits based on EE and interval splits based on RISE. The goal of TS-CHIEF was to obtain the beneﬁts of multiple representations without the massive\n",
    "processing requirement of the original HIVE-COTE.\" \\cite{middlehurst2024}"
   ]
  },
  {
   "cell_type": "markdown",
   "id": "73fcf23a",
   "metadata": {},
   "source": [
    "## 6. Randomised Interval-Shapelet Transformation (RIST)"
   ]
  },
  {
   "cell_type": "markdown",
   "id": "c4d46560",
   "metadata": {},
   "source": [
    "```bibtex\n",
    "@inproceedings{middlehurst2023,\n",
    "  author = {Michael Middlehurst and Anthony Bagnall},\n",
    "  title = {Extracting Features from Random Subseries: A Hybrid Pipeline for Time Series Classification and Extrinsic Regression},\n",
    "  booktitle = {International Workshop on Advanced Analytics and Learning on Temporal Data},\n",
    "  pages = {113--126},\n",
    "  year = {2023},\n",
    "  month = {September},\n",
    "  publisher = {Springer Nature Switzerland},\n",
    "}\n",
    "```\n",
    "\n",
    "Proposed by \\cite{middlehurst2023}."
   ]
  },
  {
   "cell_type": "markdown",
   "id": "ccf6deb8",
   "metadata": {},
   "source": [
    "\"The Randomised Interval-Shapelet Transformation (RIST) pipeline is a simpler approach than the previously described hybrids. Rather than constructing an ensemble, RIST concatenates the output of multiple transformations to form a pipeline classifier. RIST uses the transformation portions from the interval based DrCIF and the shapelet based RDST algorithms. For both of these transformations, features are extracted from both the base series and multiple series representations. These representations are the first order differences, the periodogram of the series and the series autoregression coefficients. After concatenating the output, these features are then used to build an Extra Trees classifier. The aim of RIST is to provide a simple and relatively efficient hybrid algorithm which can be applied to both classification and extrinsic regression tasks.\" \\cite{middlehurst2024}"
   ]
  },
  {
   "cell_type": "code",
   "execution_count": 8,
   "id": "ed4de751",
   "metadata": {},
   "outputs": [
    {
     "name": "stdout",
     "output_type": "stream",
     "text": [
      "RIST\n",
      "-------------------------------------------\n",
      "Dataset: MelbournePedestrian\n",
      "Accuracy: 0.97\n",
      "F1-Score: 0.97\n",
      "Duration: 84.08 seconds\n",
      "-------------------------------------------\n",
      "Dataset: ArrowHead\n",
      "Accuracy: 0.85\n",
      "F1-Score: 0.85\n",
      "Duration: 27.86 seconds\n",
      "-------------------------------------------\n",
      "Dataset: Colposcopy\n",
      "Accuracy: 0.43\n",
      "F1-Score: 0.30\n",
      "Duration: 21.97 seconds\n"
     ]
    }
   ],
   "source": [
    "method = \"RIST\"\n",
    "print(method)\n",
    "\n",
    "for dataset_name in DATASET_NAMES:\n",
    "    start_time = time.time()\n",
    "\n",
    "    rist = RISTClassifier()\n",
    "    rist.fit(X_train_dict[dataset_name], y_train_dict[dataset_name])\n",
    "    rist_preds = rist.predict(X_test_dict[dataset_name])\n",
    "    accuracy_dict[dataset_name][method] = metrics.accuracy_score(\n",
    "        y_test_dict[dataset_name], rist_preds\n",
    "    )\n",
    "    f1_score_dict[dataset_name][method] = metrics.f1_score(\n",
    "        y_test_dict[dataset_name], rist_preds,\n",
    "        average=\"weighted\"\n",
    "    )\n",
    "\n",
    "    elapsed_time = time.time() - start_time\n",
    "    duration_dict[dataset_name][method] = elapsed_time\n",
    "    print(\"-------------------------------------------\")\n",
    "    print(f\"Dataset: {dataset_name}\")\n",
    "    print(f\"Accuracy: {accuracy_dict[dataset_name][method]:.2f}\")\n",
    "    print(f\"F1-Score: {f1_score_dict[dataset_name][method]:.2f}\")\n",
    "    print(f\"Duration: {duration_dict[dataset_name][method]:.2f} seconds\")"
   ]
  },
  {
   "cell_type": "markdown",
   "id": "a6b18646",
   "metadata": {},
   "source": [
    "## 7. Comparison between the Classifiers"
   ]
  },
  {
   "cell_type": "code",
   "execution_count": 9,
   "id": "19404582",
   "metadata": {},
   "outputs": [
    {
     "data": {
      "image/png": "[encoded data removed]",
      "text/plain": [
       "<Figure size 800x500 with 1 Axes>"
      ]
     },
     "metadata": {},
     "output_type": "display_data"
    },
    {
     "data": {
      "image/png": "[encoded data removed]",
      "text/plain": [
       "<Figure size 800x500 with 1 Axes>"
      ]
     },
     "metadata": {},
     "output_type": "display_data"
    },
    {
     "data": {
      "image/png": "[encoded data removed]",
      "text/plain": [
       "<Figure size 800x500 with 1 Axes>"
      ]
     },
     "metadata": {},
     "output_type": "display_data"
    }
   ],
   "source": [
    "datasets = list(accuracy_dict.keys())\n",
    "methods = list(next(iter(accuracy_dict.values())).keys())\n",
    "\n",
    "def prepare_long_format(metric_dict, metric_name):\n",
    "    records = []\n",
    "    for ds in datasets:\n",
    "        for method in methods:\n",
    "            val = metric_dict[ds][method]\n",
    "            if isinstance(val, (int, float)):\n",
    "                records.append({\n",
    "                    \"Dataset\": ds,\n",
    "                    \"Method\": method,\n",
    "                    \"Metric\": float(val),\n",
    "                    \"Type\": metric_name\n",
    "                })\n",
    "    return pd.DataFrame(records)\n",
    "\n",
    "df_accuracy = prepare_long_format(accuracy_dict, \"Accuracy\")\n",
    "df_f1 = prepare_long_format(f1_score_dict, \"F1-Score\")\n",
    "df_duration = prepare_long_format(duration_dict, \"Duration (s)\")\n",
    "\n",
    "df_all = pd.concat([df_accuracy, df_f1, df_duration], ignore_index=True)\n",
    "\n",
    "def plot_boxplot(df, title, ylabel):\n",
    "    plt.figure(figsize=(8, 5))\n",
    "    sns.boxplot(data=df, x=\"Method\", y=\"Metric\", hue=\"Method\")\n",
    "    plt.title(title)\n",
    "    plt.ylabel(ylabel)\n",
    "    plt.xlabel(\"Method\")\n",
    "    plt.grid(True)\n",
    "    plt.tight_layout()\n",
    "    plt.show()\n",
    "\n",
    "plot_boxplot(df_accuracy, \"Accuracy Distribution per Method\", \"Accuracy\")\n",
    "plot_boxplot(df_f1, \"F1-Score Distribution per Method\", \"F1-Score\")\n",
    "plot_boxplot(df_duration, \"Duration Distribution per Method\", \"Time (s)\")"
   ]
  }
 ],
 "metadata": {
  "kernelspec": {
   "display_name": ".venv",
   "language": "python",
   "name": "python3"
  },
  "language_info": {
   "codemirror_mode": {
    "name": "ipython",
    "version": 3
   },
   "file_extension": ".py",
   "mimetype": "text/x-python",
   "name": "python",
   "nbconvert_exporter": "python",
   "pygments_lexer": "ipython3",
   "version": "3.9.6"
  }
 },
 "nbformat": 4,
 "nbformat_minor": 5
}
