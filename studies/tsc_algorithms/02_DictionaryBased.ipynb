{
 "cells": [
  {
   "cell_type": "markdown",
   "id": "dc579caa",
   "metadata": {},
   "source": [
    "# Time Series Classification Algorithms - (2) Dictionary Based"
   ]
  },
  {
   "cell_type": "markdown",
   "id": "8d3bd674",
   "metadata": {},
   "source": [
    "<div style=\"border: 1px solid #007acc; background-color: #e6f4ff; padding: 10px; border-radius: 5px; color: black;\">\n",
    "  <strong>📘 Info:</strong> I do not claim ownership of the content in this notebook. It is based on official <a href=\"https://www.aeon-toolkit.org/en/latest/examples.html\" target=\"_blank\">aeon tutorials</a>, and parts of the code or text may have been copy-pasted or adapted directly from those or other sources for learning purposes.\n",
    "</div>"
   ]
  },
  {
   "cell_type": "code",
   "execution_count": 1,
   "id": "5c342ff4",
   "metadata": {},
   "outputs": [],
   "source": [
    "import warnings\n",
    "warnings.filterwarnings('ignore', category=DeprecationWarning)\n",
    "warnings.filterwarnings('ignore', category=FutureWarning)"
   ]
  },
  {
   "cell_type": "code",
   "execution_count": null,
   "id": "f5d7473a",
   "metadata": {},
   "outputs": [],
   "source": [
    "import matplotlib.pyplot as plt\n",
    "\n",
    "import pandas as pd\n",
    "\n",
    "import seaborn as sns\n",
    "\n",
    "from sklearn import metrics\n",
    "\n",
    "import time"
   ]
  },
  {
   "cell_type": "code",
   "execution_count": 3,
   "id": "a884d1ae",
   "metadata": {},
   "outputs": [],
   "source": [
    "from aeon.datasets import load_classification\n",
    "from aeon.utils.discovery import all_estimators\n",
    "\n",
    "# all_estimators(\"classifier\", tag_filter={\"algorithm_type\": \"dictionary\"})"
   ]
  },
  {
   "cell_type": "code",
   "execution_count": 4,
   "id": "050cf3d1",
   "metadata": {},
   "outputs": [],
   "source": [
    "from aeon.classification.dictionary_based import (\n",
    "    BOSSEnsemble,\n",
    "    MUSE,\n",
    "    TemporalDictionaryEnsemble,\n",
    "    WEASEL\n",
    ")"
   ]
  },
  {
   "cell_type": "code",
   "execution_count": 5,
   "id": "8acd6ead",
   "metadata": {},
   "outputs": [],
   "source": [
    "from pyts.bag_of_words import BagOfWords\n",
    "from pyts.classification import SAXVSM"
   ]
  },
  {
   "cell_type": "code",
   "execution_count": 6,
   "id": "4411da97",
   "metadata": {},
   "outputs": [],
   "source": [
    "DATASET_NAMES = [\n",
    "    \"MelbournePedestrian\",\n",
    "    \"ArrowHead\",\n",
    "    \"Colposcopy\"\n",
    "]\n",
    "\n",
    "X_train_dict, y_train_dict = {}, {}\n",
    "X_test_dict, y_test_dict = {}, {}\n",
    "\n",
    "accuracy_dict, f1_score_dict, duration_dict = {}, {}, {}\n",
    "\n",
    "for dataset_name in DATASET_NAMES: \n",
    "    X_train_dict[dataset_name], y_train_dict[dataset_name] = load_classification(\n",
    "        dataset_name, split=\"train\"\n",
    "    )\n",
    "    X_test_dict[dataset_name], y_test_dict[dataset_name] = load_classification(\n",
    "        dataset_name, split=\"test\"\n",
    "    )\n",
    "\n",
    "    X_train_dict[dataset_name] = X_train_dict[dataset_name].squeeze(1)\n",
    "    X_test_dict[dataset_name] = X_test_dict[dataset_name].squeeze(1)\n",
    "\n",
    "    accuracy_dict[dataset_name] = {}\n",
    "    f1_score_dict[dataset_name] = {}\n",
    "    duration_dict[dataset_name] = {}"
   ]
  },
  {
   "cell_type": "markdown",
   "id": "7ca74cc0",
   "metadata": {},
   "source": [
    "```bibtex\n",
    "@inbook{faouzi2024,\n",
    "  author = {Johann Faouzi},\n",
    "  title = {Time Series Classification: A Review of Algorithms and Implementations},\n",
    "  year = {2024},\n",
    "  month = {March},\n",
    "  booktitle = {Advances in Time Series Analysis and Forecasting},\n",
    "  publisher = {IntechOpen},\n",
    "  isbn = {978-0-85466-053-7},\n",
    "  doi = {10.5772/intechopen.1004810},\n",
    "}\n",
    "```\n",
    "\n",
    "\"Bag-of-words approaches, also known as dictionary-based approaches, consists in discretizing time series into sequences of symbols, then extracting words from these sequences with a sliding window, and finally counting the number of words for all the words in the dictionary. These approaches are split into two groups: the ones based on discretizing raw time series, and the other ones based on discretizing Fourier coefficients. \\cite{faouzi2024}\""
   ]
  },
  {
   "cell_type": "markdown",
   "id": "66b2e06f",
   "metadata": {},
   "source": [
    "## 1. Symbolic Aggregation approXimation (SAX)"
   ]
  },
  {
   "cell_type": "markdown",
   "id": "cdc24b41",
   "metadata": {},
   "source": [
    "\"The most commonly used algorithm to discretize raw time series is called Symbolic Aggregation approXimation (SAX) and simply maps each real-valued observation of the time series to its corresponding bin. Several strategies to compute the bin edges are possible: quantiles of the standard normal distribution if the time series was standardized (zero mean, unit variance), uniform bins based on the extreme values of the time series, or quantiles of the time series. Based on the SAX discretization of standardized time series with quantiles of the standard normal distribution, the bag-of-patterns algorithm uses a sliding window to extract words from the discretized time series and computes the corresponding histogram; that, is the frequency of each word is computed, resulting in a new data set in which each feature is a word from the dictionary and each value is the number of occurrences of the given word in a given time series. Since consecutive subsequences are likely to be very similar and thus lead to identical words, it was proposed to count a single occurrence of identical consecutive words, this process being called numerosity reduction. Finally, a nearest-neighbor classifier was built on top of this transformation to perform classification.\" \\cite{faouzi2024}\n",
    "\n",
    "<img src=\"images/02_sax.png\" style=\"width:600px; border: 1px solid #ccc; border-radius: 5px;\">"
   ]
  },
  {
   "cell_type": "code",
   "execution_count": 7,
   "id": "0b679d25",
   "metadata": {},
   "outputs": [],
   "source": [
    "WINDOWS_SIZE, WORD_SIZE = 15, 15\n",
    "bow = BagOfWords(\n",
    "    window_size=WINDOWS_SIZE, word_size=WORD_SIZE,\n",
    "    window_step=WINDOWS_SIZE, numerosity_reduction=False,\n",
    "    strategy='uniform'\n",
    ")\n",
    "X_train_bow = bow.transform(X_train_dict[\"MelbournePedestrian\"])\n",
    "X_test_bow = bow.transform(X_test_dict[\"MelbournePedestrian\"])"
   ]
  },
  {
   "cell_type": "code",
   "execution_count": 8,
   "id": "c54651fd",
   "metadata": {},
   "outputs": [
    {
     "data": {
      "text/plain": [
       "array(['aaaaaaaabbbcddc', 'aaaaaaaaaabcddd', 'aaaaaaaaaabcddd', ...,\n",
       "       'bbaaaaaaabcdddd', 'aaaaaaabccccddd', 'aaaaaaabdcbbddc'],\n",
       "      dtype='<U15')"
      ]
     },
     "execution_count": 8,
     "metadata": {},
     "output_type": "execute_result"
    }
   ],
   "source": [
    "X_train_bow"
   ]
  },
  {
   "cell_type": "code",
   "execution_count": 9,
   "id": "530b0367",
   "metadata": {},
   "outputs": [
    {
     "data": {
      "text/plain": [
       "array(['aaaaaaaaaabbddd', 'aaaaaaaaabbcddc', 'aaaaaaaaabbcddd', ...,\n",
       "       'aaaaaaabdcbbddc', 'baaaaaaaabbcddd', 'aaaaaaabdbbcddc'],\n",
       "      dtype='<U15')"
      ]
     },
     "execution_count": 9,
     "metadata": {},
     "output_type": "execute_result"
    }
   ],
   "source": [
    "X_test_bow"
   ]
  },
  {
   "cell_type": "markdown",
   "id": "d9938897",
   "metadata": {},
   "source": [
    "### 1.1. Symbolic Aggregation approXimation in Vector Space Model (SAX-VSM)"
   ]
  },
  {
   "cell_type": "markdown",
   "id": "3d2b9645",
   "metadata": {},
   "source": [
    "```bibtex\n",
    "@inproceedings{senin2013,\n",
    "  author = {Senin, Pavel and Malinchik, Sergey},\n",
    "  booktitle = {2013 IEEE 13th International Conference on Data Mining}, \n",
    "  title = {SAX-VSM: Interpretable Time Series Classification Using SAX and Vector Space Model}, \n",
    "  year = {2013},\n",
    "  pages = {1175--1180},\n",
    "  doi = {10.1109/ICDM.2013.52}\n",
    "}\n",
    "```\n",
    "\n",
    "Proposed by \\cite{senin2013}."
   ]
  },
  {
   "cell_type": "markdown",
   "id": "01d9af16",
   "metadata": {},
   "source": [
    "\"Another algorithm, called Symbolic Aggregation approXimation in Vector Space Model (SAX-VSM), was later proposed with two major differences from the bag-of-patterns algorithm. First, the order of the preprocessing steps is changed. The sliding window is applied to the raw time series to extract subsequences. Each subsequence is standardized and discretized using the SAX algorithm, resulting in an ordered sequence of words, to which numerosity reduction is usually applied. Second, classification is based on a simple numerical statistic used in natural language processing: the term frequency—inverse document frequency (TF-IDF) matrix. The idea is to identify words that are specific to each class. After computing the frequency of each word in the dictionary for each time series (resulting in a vector for each time series), all the vectors corresponding to time series belonging to the same class are summed in order to obtain the frequency of each word for each class. This process results in the term frequency matrix, whose rows represent the words in the dictionary, the columns represent the classes in the data set, and each entry is the frequency of the given word for the given class. Each row of this matrix is then normalized by the number of classes in which the word is present so that words that are specific to a small number of classes are more heavily weighted than words present in many classes. This normalized matrix is the so-called TF-IDF matrix. Classification is performed using the cosine similarity between the word frequency vector of a new time series and each column of the TD-IDF matrix, the predicted class being the one yielding the highest cosine similarity.\" \\cite{faouzi2024}"
   ]
  },
  {
   "cell_type": "code",
   "execution_count": 10,
   "id": "cfe0f745",
   "metadata": {},
   "outputs": [
    {
     "name": "stdout",
     "output_type": "stream",
     "text": [
      "SAX-VSM\n",
      "-------------------------------------------\n",
      "Dataset: MelbournePedestrian\n",
      "Accuracy: 0.61\n",
      "F1-Score: 0.62\n",
      "Duration: 0.03 seconds\n",
      "-------------------------------------------\n",
      "Dataset: ArrowHead\n",
      "Accuracy: 0.37\n",
      "F1-Score: 0.35\n",
      "Duration: 0.20 seconds\n",
      "-------------------------------------------\n",
      "Dataset: Colposcopy\n",
      "Accuracy: 0.08\n",
      "F1-Score: 0.01\n",
      "Duration: 0.01 seconds\n"
     ]
    }
   ],
   "source": [
    "method = \"SAX-VSM\"\n",
    "print(method)\n",
    "\n",
    "for dataset_name in DATASET_NAMES:\n",
    "    start_time = time.time()\n",
    "\n",
    "    sax_vsm = SAXVSM(\n",
    "        window_size=WINDOWS_SIZE, word_size=WORD_SIZE,\n",
    "        window_step=WINDOWS_SIZE, numerosity_reduction=False,\n",
    "        strategy='uniform'\n",
    "    )\n",
    "    sax_vsm.fit(X_train_dict[dataset_name], y_train_dict[dataset_name])\n",
    "    sax_vsm_preds = sax_vsm.predict(X_test_dict[dataset_name])\n",
    "    accuracy_dict[dataset_name][method] = metrics.accuracy_score(\n",
    "        y_test_dict[dataset_name], sax_vsm_preds\n",
    "    )\n",
    "    f1_score_dict[dataset_name][method] = metrics.f1_score(\n",
    "        y_test_dict[dataset_name], sax_vsm_preds,\n",
    "        average=\"weighted\"\n",
    "    )\n",
    "\n",
    "    elapsed_time = time.time() - start_time\n",
    "    duration_dict[dataset_name][method] = elapsed_time\n",
    "    print(\"-------------------------------------------\")\n",
    "    print(f\"Dataset: {dataset_name}\")\n",
    "    print(f\"Accuracy: {accuracy_dict[dataset_name][method]:.2f}\")\n",
    "    print(f\"F1-Score: {f1_score_dict[dataset_name][method]:.2f}\")\n",
    "    print(f\"Duration: {duration_dict[dataset_name][method]:.2f} seconds\")"
   ]
  },
  {
   "cell_type": "markdown",
   "id": "38e8b8d0",
   "metadata": {},
   "source": [
    "## 2. Bag-of-SFA-Symbols (BOSS)"
   ]
  },
  {
   "cell_type": "markdown",
   "id": "71d1eede",
   "metadata": {},
   "source": [
    "```bibtex\n",
    "@article{schafer2015,\n",
    "  author = {Patrick Sch{\\\"a}fer},\n",
    "  title = {The BOSS is concerned with time series classification in the presence of noise},\n",
    "  journal = {Data Mining and Knowledge Discovery},\n",
    "  volume = {29},\n",
    "  number = {6},\n",
    "  pages = {1505--1530},\n",
    "  year = {2015},\n",
    "  doi = {10.1007/s10618-014-0377-7},\n",
    "  url = {https://doi.org/10.1007/s10618-014-0377-7},\n",
    "  issn = {1573-756X},\n",
    "}\n",
    "```\n",
    "\n",
    "Proposed by \\cite{schafer2015}."
   ]
  },
  {
   "cell_type": "markdown",
   "id": "b4ba1cb8",
   "metadata": {},
   "source": [
    "\"Instead of discretizing raw time series, other methods rely on discretizing Fourier coefficients. The most commonly used algorithm to do so is called Symbolic Fourier Approximation (SFA) and is a two-stage algorithm.In the first stage, the discrete Fourier transform of the time series is computed and a subset of the Fourier coefficients is kept. In unsupervised learning, this subset is usually the set of first coefficients (the ones corresponding to the lowest frequencies) since they represent the trend of the time series. In supervised learning, univariate feature selection can be applied in order to select the more highly ranked coefficients based on statistics such as the F-statistics returned by one-way analysis of variance tests. Importantly, the same Fourier coefficients must be selected for all the time series. This transformation results in a matrix whose rows are time series and whose columns (i.e., features) are Fourier coefficients. In the second step, each column of this matrix is independently discretized. In unsupervised learning, the bin edges are usually computed so that the bins are uniform (i.e., the bin edges are based on the extreme values of the Fourier coefficients) or the number of Fourier coefficients falling in each bin is the same (i.e., the bin edges are based on the quantiles of the Fourier coefficients). In supervised learning, the bin edges can be computed to minimize an impurity criterion such as entropy. Therefore, the SFA algorithm transforms a time series into a single sequence of symbols (i.e., a single word).\" \\cite{faouzi2024}\n",
    "\n",
    "<img src=\"images/02_sfa.png\" style=\"width:600px; border: 1px solid #ccc; border-radius: 5px;\">"
   ]
  },
  {
   "cell_type": "markdown",
   "id": "b7c63523",
   "metadata": {},
   "source": [
    "\"Based on the SFA transformation, the Bag-of-SFA-Symbols (BOSS) algorithm was proposed. First, subsequences of a time series are extracted with a sliding window and the SFA transformation is applied to each subsequence, resulting in an ordered sequence of words. Numerosity reduction is often applied to this sequence to avoid outweighing stable sections of time series. The frequency of each word is computed to obtain the word histogram of the time series. Finally, classification is performed using the nearest- neighbor algorithm with the BOSS metric, which is a variant of the squared Euclidean distance that does not take into account the words that are not present in the histogram of the first time series. An ensemble of BOSS classifiers with sliding windows of different lengths is usually built to capture patterns of different lengths.\" \\cite{faouzi2024}\n",
    "\n",
    "<img src=\"images/02_boss.png\" style=\"width:600px; border: 1px solid #ccc; border-radius: 5px;\">"
   ]
  },
  {
   "cell_type": "markdown",
   "id": "252938f5",
   "metadata": {},
   "source": [
    "```bibtex\n",
    "@inbook{middlehurst2021,\n",
    "   title={The Temporal Dictionary Ensemble (TDE) Classifier for Time Series Classification},\n",
    "   isbn={9783030676582},\n",
    "   issn={1611-3349},\n",
    "   url={http://dx.doi.org/10.1007/978-3-030-67658-2_38},\n",
    "   doi={10.1007/978-3-030-67658-2_38},\n",
    "   booktitle={Machine Learning and Knowledge Discovery in Databases},\n",
    "   publisher={Springer International Publishing},\n",
    "   author={Middlehurst, Matthew and Large, James and Cawley, Gavin and Bagnall, Anthony},\n",
    "   year={2021},\n",
    "   pages={660–-676}\n",
    "}\n",
    "```\n",
    "\n",
    "The algorithm of BOSS is described below, as per \\cite{middlehurst2021}. MCB stands for Multiple Coefficient Binning and DFT stands for Discrete Fourier Transform.\n",
    "> MCB is a quantization technique used to discretize the Fourier coefficients obtained via DFT into symbolic representations. It is a supervised binning method, meaning it uses class label information to determine optimal binning thresholds.\n",
    "\n",
    "<img src=\"images/02_boss2.png\" style=\"width:600px; border: 1px solid #ccc; border-radius: 5px;\">"
   ]
  },
  {
   "cell_type": "code",
   "execution_count": 11,
   "id": "1c96b9f5",
   "metadata": {},
   "outputs": [
    {
     "name": "stdout",
     "output_type": "stream",
     "text": [
      "BOSS Ensemble\n",
      "-------------------------------------------\n",
      "Dataset: MelbournePedestrian\n",
      "Accuracy: 0.80\n",
      "F1-Score: 0.80\n",
      "Duration: 16.50 seconds\n",
      "-------------------------------------------\n",
      "Dataset: ArrowHead\n",
      "Accuracy: 0.83\n",
      "F1-Score: 0.83\n",
      "Duration: 5.20 seconds\n",
      "-------------------------------------------\n",
      "Dataset: Colposcopy\n",
      "Accuracy: 0.20\n",
      "F1-Score: 0.20\n",
      "Duration: 10.20 seconds\n"
     ]
    }
   ],
   "source": [
    "method = \"BOSS Ensemble\"\n",
    "print(method)\n",
    "\n",
    "for dataset_name in DATASET_NAMES:\n",
    "    start_time = time.time()\n",
    "\n",
    "    boss = BOSSEnsemble()\n",
    "    boss.fit(X_train_dict[dataset_name], y_train_dict[dataset_name])\n",
    "    boss_preds = boss.predict(X_test_dict[dataset_name])\n",
    "    accuracy_dict[dataset_name][method] = metrics.accuracy_score(\n",
    "        y_test_dict[dataset_name], boss_preds\n",
    "    )\n",
    "    f1_score_dict[dataset_name][method] = metrics.f1_score(\n",
    "        y_test_dict[dataset_name], boss_preds,\n",
    "        average=\"weighted\"\n",
    "    )\n",
    "\n",
    "    elapsed_time = time.time() - start_time\n",
    "    duration_dict[dataset_name][method] = elapsed_time\n",
    "    print(\"-------------------------------------------\")\n",
    "    print(f\"Dataset: {dataset_name}\")\n",
    "    print(f\"Accuracy: {accuracy_dict[dataset_name][method]:.2f}\")\n",
    "    print(f\"F1-Score: {f1_score_dict[dataset_name][method]:.2f}\")\n",
    "    print(f\"Duration: {duration_dict[dataset_name][method]:.2f} seconds\")"
   ]
  },
  {
   "cell_type": "markdown",
   "id": "0deaa1fb",
   "metadata": {},
   "source": [
    "## 3. Word Extraction for Time Series Classification (WEASEL)"
   ]
  },
  {
   "cell_type": "markdown",
   "id": "09729261",
   "metadata": {},
   "source": [
    "```bibtex\n",
    "@inproceedings{schafer2017,\n",
    "  title = {Fast and Accurate Time Series Classification with WEASEL},\n",
    "  url = {http://dx.doi.org/10.1145/3132847.3132980},\n",
    "  doi = {10.1145/3132847.3132980},\n",
    "  booktitle = {Proceedings of the 2017 ACM on Conference on Information and Knowledge Management},\n",
    "  publisher = {ACM},\n",
    "  author = {Sch{\\\"a}fer, Patrick and Leser, Ulf},\n",
    "  year = {2017},\n",
    "  pages = {637-–646},\n",
    "  collection = {CIKM ’17} \n",
    "}\n",
    "```\n",
    "\n",
    "Proposed by \\cite{schafer2017}."
   ]
  },
  {
   "cell_type": "markdown",
   "id": "95c1e614",
   "metadata": {},
   "source": [
    "\"The Word Extraction for Time Series Classification (WEASEL) algorithm extends BOSS by integrating the sliding windows of different lengths inside the transformation, thus before the classification step. To decrease the size of the resulting dictionary, only non-overlapping subsequences are extracted for each sliding window and the chi-squared test is applied to filter in the most relevant features. Since the constructed input matrix of word counts may have many features and be very sparse, logistic regression is built on top of the WEASEL transformation as this algorithm can handle both characteristics.\"  \\cite{faouzi2024}\n",
    "\n",
    "The novelty of WEASEL lies in its specific method for deriving features, resulting in a much smaller yet much more discriminative feature set than BOSS. It extends SFA by bigrams, feature selection using Anova-f-test and Information Gain Binning (IGB).\n",
    "\n",
    "https://www.aeon-toolkit.org/en/latest/examples/classification/dictionary_based.html"
   ]
  },
  {
   "cell_type": "markdown",
   "id": "37cc6091",
   "metadata": {},
   "source": [
    "The algorithm of WEASEL is described below, as per \\cite{middlehurst2021}.\n",
    "\n",
    "<img src=\"images/02_weasel.png\" style=\"width:600px; border: 1px solid #ccc; border-radius: 5px;\">"
   ]
  },
  {
   "cell_type": "code",
   "execution_count": 12,
   "id": "4ed50e73",
   "metadata": {},
   "outputs": [
    {
     "name": "stdout",
     "output_type": "stream",
     "text": [
      "WEASEL\n",
      "-------------------------------------------\n",
      "Dataset: MelbournePedestrian\n",
      "Accuracy: 0.90\n",
      "F1-Score: 0.89\n",
      "Duration: 4.11 seconds\n",
      "-------------------------------------------\n",
      "Dataset: ArrowHead\n",
      "Accuracy: 0.89\n",
      "F1-Score: 0.89\n",
      "Duration: 0.46 seconds\n",
      "-------------------------------------------\n",
      "Dataset: Colposcopy\n",
      "Accuracy: 0.34\n",
      "F1-Score: 0.32\n",
      "Duration: 0.61 seconds\n"
     ]
    }
   ],
   "source": [
    "method = \"WEASEL\"\n",
    "print(method)\n",
    "\n",
    "for dataset_name in DATASET_NAMES:\n",
    "    start_time = time.time()\n",
    "\n",
    "    weasel = WEASEL(binning_strategy=\"equi-depth\", anova=False)\n",
    "    weasel.fit(X_train_dict[dataset_name], y_train_dict[dataset_name])\n",
    "    weasel_preds = weasel.predict(X_test_dict[dataset_name])\n",
    "    accuracy_dict[dataset_name][method] = metrics.accuracy_score(\n",
    "        y_test_dict[dataset_name], weasel_preds\n",
    "    )\n",
    "    f1_score_dict[dataset_name][method] = metrics.f1_score(\n",
    "        y_test_dict[dataset_name], weasel_preds,\n",
    "        average=\"weighted\"\n",
    "    )\n",
    "\n",
    "    elapsed_time = time.time() - start_time\n",
    "    duration_dict[dataset_name][method] = elapsed_time\n",
    "    print(\"-------------------------------------------\")\n",
    "    print(f\"Dataset: {dataset_name}\")\n",
    "    print(f\"Accuracy: {accuracy_dict[dataset_name][method]:.2f}\")\n",
    "    print(f\"F1-Score: {f1_score_dict[dataset_name][method]:.2f}\")\n",
    "    print(f\"Duration: {duration_dict[dataset_name][method]:.2f} seconds\")"
   ]
  },
  {
   "cell_type": "markdown",
   "id": "31d6062e",
   "metadata": {},
   "source": [
    "## 4. WEASEL MUltivariate Symbolic Extension (MUSE)"
   ]
  },
  {
   "cell_type": "markdown",
   "id": "36fd9818",
   "metadata": {},
   "source": [
    "```bibtex\n",
    "@misc{schafer2018,\n",
    "  title = {Multivariate Time Series Classification with WEASEL+MUSE},\n",
    "  author = {Patrick Sch{\\\"a}fer and Ulf Leser},\n",
    "  year = {2018},\n",
    "  url={https://arxiv.org/abs/1711.11343}\n",
    "}\n",
    "```\n",
    "\n",
    "Proposed by \\cite{schafer2018}."
   ]
  },
  {
   "cell_type": "markdown",
   "id": "1c307286",
   "metadata": {},
   "source": [
    "\"WEASEL plus Multivariate Unsupervised Symbols and Derivatives (WEASEL+MUSE) is an extension of WEASEL to multivariate time series classification\" \\cite{faouzi2024}"
   ]
  },
  {
   "cell_type": "code",
   "execution_count": 13,
   "id": "a08fb5b0",
   "metadata": {},
   "outputs": [
    {
     "name": "stdout",
     "output_type": "stream",
     "text": [
      "WEASEL-MUSE\n",
      "-------------------------------------------\n",
      "Dataset: MelbournePedestrian\n",
      "Accuracy: 0.90\n",
      "F1-Score: 0.90\n",
      "Duration: 4.88 seconds\n",
      "-------------------------------------------\n",
      "Dataset: ArrowHead\n",
      "Accuracy: 0.84\n",
      "F1-Score: 0.84\n",
      "Duration: 1.10 seconds\n",
      "-------------------------------------------\n",
      "Dataset: Colposcopy\n",
      "Accuracy: 0.31\n",
      "F1-Score: 0.26\n",
      "Duration: 1.29 seconds\n"
     ]
    }
   ],
   "source": [
    "method = \"WEASEL-MUSE\"\n",
    "print(method)\n",
    "\n",
    "for dataset_name in DATASET_NAMES:\n",
    "    start_time = time.time()\n",
    "\n",
    "    muse = MUSE()\n",
    "    muse.fit(X_train_dict[dataset_name], y_train_dict[dataset_name])\n",
    "    muse_preds = muse.predict(X_test_dict[dataset_name])\n",
    "    accuracy_dict[dataset_name][method] = metrics.accuracy_score(\n",
    "        y_test_dict[dataset_name], muse_preds\n",
    "    )\n",
    "    f1_score_dict[dataset_name][method] = metrics.f1_score(\n",
    "        y_test_dict[dataset_name], muse_preds,\n",
    "        average=\"weighted\"\n",
    "    )\n",
    "\n",
    "    elapsed_time = time.time() - start_time\n",
    "    duration_dict[dataset_name][method] = elapsed_time\n",
    "    print(\"-------------------------------------------\")\n",
    "    print(f\"Dataset: {dataset_name}\")\n",
    "    print(f\"Accuracy: {accuracy_dict[dataset_name][method]:.2f}\")\n",
    "    print(f\"F1-Score: {f1_score_dict[dataset_name][method]:.2f}\")\n",
    "    print(f\"Duration: {duration_dict[dataset_name][method]:.2f} seconds\")"
   ]
  },
  {
   "cell_type": "markdown",
   "id": "b3aa8e58",
   "metadata": {},
   "source": [
    "## 5. Temporal Dictionary Ensemble (TDE)"
   ]
  },
  {
   "cell_type": "markdown",
   "id": "d2238137",
   "metadata": {},
   "source": [
    "```bibtex\n",
    "@inbook{middlehurst2021,\n",
    "  title = {The Temporal Dictionary Ensemble (TDE) Classifier for Time Series Classification},\n",
    "  isbn = {9783030676582},\n",
    "  issn = {1611-3349},\n",
    "  url = {http://dx.doi.org/10.1007/978-3-030-67658-2_38},\n",
    "  doi = {10.1007/978-3-030-67658-2_38},\n",
    "  booktitle = {Machine Learning and Knowledge Discovery in Databases},\n",
    "  publisher = {Springer International Publishing},\n",
    "  author = {Middlehurst, Matthew and Large, James and Cawley, Gavin and Bagnall, Anthony},\n",
    "  year = {2021},\n",
    "  pages = {660-–676}\n",
    "}\n",
    "```\n",
    "\n",
    "Proposed by \\cite{middlehurst2021}."
   ]
  },
  {
   "cell_type": "markdown",
   "id": "7bb10785",
   "metadata": {},
   "source": [
    "\"The Temporal Dictionary Ensemble (TDE) algorithm combines design features of four of the algorithms (BOSS, RBOSS, SP-BOSS, and WEASEL) with a novel mechanism of base classifier model selection based on an adaptative form of Gaussian process modeling of the parameter space.\" \\cite{faouzi2024}\n",
    "\n",
    "\"Like BOSS, TDE is a homogeneous ensemble of nearest neighbour classifiers that use distance between histograms of word counts and injects diversity through parameter variation. TDE takes the ensemble structure from cBOSS, which is more robust and scaleable. The use of spatial pyramids is adapted from S-BOSS. WEASEL uses bi-grams and an alternative method of finding word breakpoints. This too is employed by TDE. We found the simplest way of combining these components did not result in significant improvement. We speculate that the massive increase in the parameter space made the randomised diversity mechanism result in too many poor learners in the ensemble. We propose a novel mechanism of base classifier model selection based on an adaptive form of Gaussian process (GP) modelling of the parameter space.\" \\cite{middlehurst2021}\n",
    "\n",
    "The algorithms of TDE are described below, as per \\cite{middlehurst2021}.\n",
    "\n",
    "<img src=\"images/02_tde.png\" style=\"width:600px; border: 1px solid #ccc; border-radius: 5px;\">\n",
    "\n",
    "<img src=\"images/02_tde2.png\" style=\"width:600px; border: 1px solid #ccc; border-radius: 5px;\">"
   ]
  },
  {
   "cell_type": "code",
   "execution_count": 14,
   "id": "57ca03f0",
   "metadata": {},
   "outputs": [
    {
     "name": "stdout",
     "output_type": "stream",
     "text": [
      "TDE\n",
      "-------------------------------------------\n",
      "Dataset: MelbournePedestrian\n",
      "Accuracy: 0.85\n",
      "F1-Score: 0.84\n",
      "Duration: 196.92 seconds\n",
      "-------------------------------------------\n",
      "Dataset: ArrowHead\n",
      "Accuracy: 0.86\n",
      "F1-Score: 0.86\n",
      "Duration: 8.44 seconds\n",
      "-------------------------------------------\n",
      "Dataset: Colposcopy\n",
      "Accuracy: 0.39\n",
      "F1-Score: 0.32\n",
      "Duration: 8.21 seconds\n"
     ]
    }
   ],
   "source": [
    "method = \"TDE\"\n",
    "print(method)\n",
    "\n",
    "for dataset_name in DATASET_NAMES:\n",
    "    start_time = time.time()\n",
    "\n",
    "    tde = TemporalDictionaryEnsemble(\n",
    "        n_parameter_samples=50,\n",
    "        max_ensemble_size=25,\n",
    "        randomly_selected_params=25,\n",
    "    )\n",
    "    tde.fit(X_train_dict[dataset_name], y_train_dict[dataset_name])\n",
    "    tde_preds = tde.predict(X_test_dict[dataset_name])\n",
    "    accuracy_dict[dataset_name][method] = metrics.accuracy_score(\n",
    "        y_test_dict[dataset_name], tde_preds\n",
    "    )\n",
    "    f1_score_dict[dataset_name][method] = metrics.f1_score(\n",
    "        y_test_dict[dataset_name], tde_preds,\n",
    "        average=\"weighted\"\n",
    "    )\n",
    "\n",
    "    elapsed_time = time.time() - start_time\n",
    "    duration_dict[dataset_name][method] = elapsed_time\n",
    "    print(\"-------------------------------------------\")\n",
    "    print(f\"Dataset: {dataset_name}\")\n",
    "    print(f\"Accuracy: {accuracy_dict[dataset_name][method]:.2f}\")\n",
    "    print(f\"F1-Score: {f1_score_dict[dataset_name][method]:.2f}\")\n",
    "    print(f\"Duration: {duration_dict[dataset_name][method]:.2f} seconds\")"
   ]
  },
  {
   "cell_type": "markdown",
   "id": "da3d4137",
   "metadata": {},
   "source": [
    "## 6. Comparison between the Classifiers"
   ]
  },
  {
   "cell_type": "code",
   "execution_count": 15,
   "id": "92baebf3",
   "metadata": {},
   "outputs": [
    {
     "data": {
      "image/png": "[encoded data removed]",
      "text/plain": [
       "<Figure size 800x500 with 1 Axes>"
      ]
     },
     "metadata": {},
     "output_type": "display_data"
    },
    {
     "data": {
      "image/png": "[encoded data removed]",
      "text/plain": [
       "<Figure size 800x500 with 1 Axes>"
      ]
     },
     "metadata": {},
     "output_type": "display_data"
    },
    {
     "data": {
      "image/png": "[encoded data removed]",
      "text/plain": [
       "<Figure size 800x500 with 1 Axes>"
      ]
     },
     "metadata": {},
     "output_type": "display_data"
    }
   ],
   "source": [
    "datasets = list(accuracy_dict.keys())\n",
    "methods = list(next(iter(accuracy_dict.values())).keys())\n",
    "\n",
    "def prepare_long_format(metric_dict, metric_name):\n",
    "    records = []\n",
    "    for ds in datasets:\n",
    "        for method in methods:\n",
    "            val = metric_dict[ds][method]\n",
    "            if isinstance(val, (int, float)):\n",
    "                records.append({\n",
    "                    \"Dataset\": ds,\n",
    "                    \"Method\": method,\n",
    "                    \"Metric\": float(val),\n",
    "                    \"Type\": metric_name\n",
    "                })\n",
    "    return pd.DataFrame(records)\n",
    "\n",
    "df_accuracy = prepare_long_format(accuracy_dict, \"Accuracy\")\n",
    "df_f1 = prepare_long_format(f1_score_dict, \"F1-Score\")\n",
    "df_duration = prepare_long_format(duration_dict, \"Duration (s)\")\n",
    "\n",
    "df_all = pd.concat([df_accuracy, df_f1, df_duration], ignore_index=True)\n",
    "\n",
    "def plot_boxplot(df, title, ylabel):\n",
    "    plt.figure(figsize=(8, 5))\n",
    "    sns.boxplot(data=df, x=\"Method\", y=\"Metric\", hue=\"Method\")\n",
    "    plt.title(title)\n",
    "    plt.ylabel(ylabel)\n",
    "    plt.xlabel(\"Method\")\n",
    "    plt.grid(True)\n",
    "    plt.tight_layout()\n",
    "    plt.show()\n",
    "\n",
    "plot_boxplot(df_accuracy, \"Accuracy Distribution per Method\", \"Accuracy\")\n",
    "plot_boxplot(df_f1, \"F1-Score Distribution per Method\", \"F1-Score\")\n",
    "plot_boxplot(df_duration, \"Duration Distribution per Method\", \"Time (s)\")"
   ]
  }
 ],
 "metadata": {
  "kernelspec": {
   "display_name": ".venv",
   "language": "python",
   "name": "python3"
  },
  "language_info": {
   "codemirror_mode": {
    "name": "ipython",
    "version": 3
   },
   "file_extension": ".py",
   "mimetype": "text/x-python",
   "name": "python",
   "nbconvert_exporter": "python",
   "pygments_lexer": "ipython3",
   "version": "3.9.6"
  }
 },
 "nbformat": 4,
 "nbformat_minor": 5
}
