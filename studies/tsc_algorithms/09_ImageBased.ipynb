{
 "cells": [
  {
   "cell_type": "markdown",
   "id": "da9f8057",
   "metadata": {},
   "source": [
    "# Time Series Classification Algorithms - (9) Image Based"
   ]
  },
  {
   "cell_type": "markdown",
   "id": "cc2b1590",
   "metadata": {},
   "source": [
    "<div style=\"border: 1px solid #007acc; background-color: #e6f4ff; padding: 10px; border-radius: 5px; color: black;\">\n",
    "  <strong>📘 Info:</strong> I do not claim ownership of the content in this notebook. It is based on official <a href=\"https://www.aeon-toolkit.org/en/latest/examples.html\" target=\"_blank\">aeon tutorials</a>, and parts of the code or text may have been copy-pasted or adapted directly from those or other sources for learning purposes.\n",
    "</div>"
   ]
  },
  {
   "cell_type": "code",
   "execution_count": null,
   "id": "5eff1676",
   "metadata": {},
   "outputs": [],
   "source": [
    "import warnings\n",
    "warnings.filterwarnings('ignore', category=DeprecationWarning)\n",
    "warnings.filterwarnings('ignore', category=FutureWarning)"
   ]
  },
  {
   "cell_type": "code",
   "execution_count": null,
   "id": "ef3c79ee",
   "metadata": {},
   "outputs": [],
   "source": [
    "import matplotlib.pyplot as plt\n",
    "\n",
    "import numpy as np\n",
    "\n",
    "import pandas as pd\n",
    "\n",
    "import seaborn as sns\n",
    "\n",
    "from sklearn import metrics\n",
    "\n",
    "import time"
   ]
  },
  {
   "cell_type": "code",
   "execution_count": null,
   "id": "47e6413f",
   "metadata": {},
   "outputs": [],
   "source": [
    "from aeon.datasets import load_classification"
   ]
  },
  {
   "cell_type": "code",
   "execution_count": null,
   "id": "2d6f8908",
   "metadata": {},
   "outputs": [],
   "source": [
    "DATASET_NAMES = [\n",
    "    \"MelbournePedestrian\",\n",
    "    \"ArrowHead\",\n",
    "    \"Colposcopy\"\n",
    "]\n",
    "\n",
    "X_train_dict, y_train_dict = {}, {}\n",
    "X_test_dict, y_test_dict = {}, {}\n",
    "\n",
    "accuracy_dict, f1_score_dict, duration_dict = {}, {}, {}\n",
    "\n",
    "for dataset_name in DATASET_NAMES: \n",
    "    X_train_dict[dataset_name], y_train_dict[dataset_name] = load_classification(\n",
    "        dataset_name, split=\"train\"\n",
    "    )\n",
    "    X_test_dict[dataset_name], y_test_dict[dataset_name] = load_classification(\n",
    "        dataset_name, split=\"test\"\n",
    "    )\n",
    "\n",
    "    X_train_dict[dataset_name] = X_train_dict[dataset_name].squeeze(1)\n",
    "    X_test_dict[dataset_name] = X_test_dict[dataset_name].squeeze(1)\n",
    "\n",
    "    accuracy_dict[dataset_name] = {}\n",
    "    f1_score_dict[dataset_name] = {}\n",
    "    duration_dict[dataset_name] = {}"
   ]
  },
  {
   "cell_type": "markdown",
   "id": "ea4656e5",
   "metadata": {},
   "source": [
    "```bibtex\n",
    "@inbook{faouzi2024,\n",
    "  author = {Johann Faouzi},\n",
    "  title = {Time Series Classification: A Review of Algorithms and Implementations},\n",
    "  year = {2024},\n",
    "  month = {March},\n",
    "  booktitle = {Advances in Time Series Analysis and Forecasting},\n",
    "  publisher = {IntechOpen},\n",
    "  isbn = {978-0-85466-053-7},\n",
    "  doi = {10.5772/intechopen.1004810},\n",
    "}\n",
    "```\n",
    "\n",
    "\"In order to investigate temporal correlations between all the pairs of observations, several methods relying on transforming time series (i.e., vectors) into images (i.e., matrices) have been proposed.\" \\cite{faouzi2024}"
   ]
  },
  {
   "cell_type": "markdown",
   "id": "63e8b68b",
   "metadata": {},
   "source": [
    "## 1. Recurrence Plot"
   ]
  },
  {
   "cell_type": "markdown",
   "id": "964ac866",
   "metadata": {},
   "source": [
    "```bibtex\n",
    "@article{eckmann1987,\n",
    "  author = {J.-P. Eckmann and S. O. Kamphorst and D. Ruelle},\n",
    "  title = {Recurrence plots of dynamical systems},\n",
    "  journal = {EPL (Europhysics Letters)},\n",
    "  volume = {4},\n",
    "  number = {9},\n",
    "  pages = {973--977},\n",
    "  year = {1987},\n",
    "  publisher = {IOP Publishing}\n",
    "}\n",
    "```\n",
    "\n",
    "Proposed by \\cite{eckmann1987}."
   ]
  },
  {
   "cell_type": "markdown",
   "id": "3101ba60",
   "metadata": {},
   "source": [
    "\"A recurrence plot is an old technique that was originally introduced to visually inspect time constancy in dynamical systems through trajectories. A trajectory is defined as a subsequence of equally spaced values.\" \\cite{faouzi2024}\n",
    "\n",
    "$$\n",
    "\\vec{x}_i = \\left( x_i, x_{i + \\tau}, \\ldots, x_{i + (m - 1)\\tau} \\right), \\quad \\forall i \\in \\{1, \\ldots, n - (m - 1)\\tau \\}\n",
    "$$\n",
    "\n",
    "\"where $m$ is the length of the trajectory and $\\tau$ is the time delay, that is, the time gap between back-to-back time points in the trajectory.\" \\cite{faouzi2024}\n",
    "\n",
    "\"A recurrence plot, denoted by $R$, is a matrix consisting of the binarized pairwise distances between all the pairs of trajectories from a time series:\" \\cite{faouzi2024}\n",
    "\n",
    "$$\n",
    "\\forall i, j \\in \\{1, \\ldots, n - (m - 1)\\tau \\}, \\quad \n",
    "R_{ij} = \\Theta\\left( \\varepsilon - \\left\\| \\vec{x}_i - \\vec{x}_j \\right\\|_2 \\right)\n",
    "$$\n",
    "\n",
    "\"where $\\varepsilon$ is the threshold used to binarize the distance and Θ is the Heaviside step function, which is 1 for positive arguments and 0 for non-positive arguments. Visually, as a black-and-white image, a pixel is black if and only if the distance between the two considered trajectories is smaller than the threshold.\" \\cite{faouzi2024}\n",
    "\n"
   ]
  },
  {
   "cell_type": "markdown",
   "id": "14161af7",
   "metadata": {},
   "source": [
    "## 2. Gramian Angular Field"
   ]
  },
  {
   "cell_type": "markdown",
   "id": "0ace3dce",
   "metadata": {},
   "source": [
    "## 3. Markov Transition Field"
   ]
  },
  {
   "cell_type": "markdown",
   "id": "a6b18646",
   "metadata": {},
   "source": [
    "## 4. Comparison between the Classifiers"
   ]
  },
  {
   "cell_type": "markdown",
   "id": "fc6f8a9b",
   "metadata": {},
   "source": []
  }
 ],
 "metadata": {
  "language_info": {
   "name": "python"
  }
 },
 "nbformat": 4,
 "nbformat_minor": 5
}
