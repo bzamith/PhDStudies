{
 "cells": [
  {
   "cell_type": "markdown",
   "id": "5acda29a",
   "metadata": {},
   "source": [
    "# Machine Learning Algorithms - (4) Principal Component Analysis"
   ]
  },
  {
   "cell_type": "markdown",
   "id": "8b5baf00",
   "metadata": {},
   "source": [
    "<div style=\"border: 1px solid #007acc; background-color: #e6f4ff; padding: 10px; border-radius: 5px; color: black;\">\n",
    "  <strong>📘 Info:</strong> I do not claim ownership of the content in this notebook. It is based on different tutorials and resources. Parts of the code or text may have been copy-pasted or adapted directly from those or other sources for learning purposes.\n",
    "</div>"
   ]
  },
  {
   "cell_type": "code",
   "execution_count": 1,
   "id": "120070a0",
   "metadata": {},
   "outputs": [],
   "source": [
    "import warnings\n",
    "warnings.filterwarnings('ignore', category=DeprecationWarning)\n",
    "warnings.filterwarnings('ignore', category=FutureWarning)"
   ]
  },
  {
   "cell_type": "code",
   "execution_count": 2,
   "id": "23e583c6",
   "metadata": {},
   "outputs": [],
   "source": [
    "import matplotlib.pyplot as plt\n",
    "import numpy as np\n",
    "\n",
    "from sklearn.datasets import load_iris\n",
    "from sklearn.preprocessing import StandardScaler"
   ]
  },
  {
   "cell_type": "markdown",
   "id": "28aff914",
   "metadata": {},
   "source": [
    "## 1. What is Principal Component Analysis (PCA)?"
   ]
  },
  {
   "cell_type": "markdown",
   "id": "5edf1f93",
   "metadata": {},
   "source": [
    "Principal Component Analysis (PCA) is a **dimensionality reduction** technique. It transforms a high-dimensional dataset into a lower-dimensional space while preserving as much variance (information) as possible.\n",
    "\n",
    "Key motivations:\n",
    "- Reduce computational complexity.\n",
    "- Remove multicollinearity.\n",
    "- Visualize high-dimensional data in 2D/3D.\n",
    "- De-noise data by dropping lower-variance components."
   ]
  },
  {
   "cell_type": "markdown",
   "id": "743e1a4d",
   "metadata": {},
   "source": [
    "Step-by-step Intuition:\n",
    "\n",
    "- Let $X \\in \\mathbb{R}^{n \\times d}$ be a dataset with $n$ samples and $d$ features.\n",
    "- PCA finds a set of orthogonal axes (principal components) such that:\n",
    "  - The first principal component captures the maximum variance.\n",
    "  - Each subsequent component captures the maximum remaining variance, subject to being orthogonal to the previous ones.\n"
   ]
  },
  {
   "cell_type": "markdown",
   "id": "db75f534",
   "metadata": {},
   "source": [
    "## 2. Mathematical Foundations"
   ]
  },
  {
   "cell_type": "markdown",
   "id": "23c8a143",
   "metadata": {},
   "source": [
    "### 2.1. Step 1: Center the data\n",
    "\n",
    "Subtract the mean from each feature so the dataset is centered at the origin.\n",
    "\n",
    "$$X_{\\text{centered}} = X - \\bar{X}$$"
   ]
  },
  {
   "cell_type": "markdown",
   "id": "b421b09f",
   "metadata": {},
   "source": [
    "### 2.2. Step 2: Compute the covariance matrix"
   ]
  },
  {
   "cell_type": "markdown",
   "id": "c627ac48",
   "metadata": {},
   "source": [
    "$$C = \\frac{1}{n - 1} X_{\\text{centered}}^T X_{\\text{centered}}$$"
   ]
  },
  {
   "cell_type": "markdown",
   "id": "25d8b8f3",
   "metadata": {},
   "source": [
    "### 2.3. Step 3: Compute eigenvectors and eigenvalues"
   ]
  },
  {
   "cell_type": "markdown",
   "id": "0e0956c0",
   "metadata": {},
   "source": [
    "- Eigenvectors define the new axes (principal components).\n",
    "- Eigenvalues tell us the amount of variance along each component."
   ]
  },
  {
   "cell_type": "markdown",
   "id": "1531257f",
   "metadata": {},
   "source": [
    "### 2.4. Step 4: Project data onto top-k components"
   ]
  },
  {
   "cell_type": "markdown",
   "id": "04491a17",
   "metadata": {},
   "source": [
    "Select top $k$ eigenvectors corresponding to largest eigenvalues.\n",
    "\n",
    "$$X_{\\text{projected}} = X_{\\text{centered}} \\cdot W_k$$\n",
    "\n",
    "where $W_k$ is the matrix of top-$k$ eigenvectors."
   ]
  },
  {
   "cell_type": "markdown",
   "id": "ceba8771",
   "metadata": {},
   "source": [
    "## 3. Prepare Dataset"
   ]
  },
  {
   "cell_type": "code",
   "execution_count": 3,
   "id": "1fa052d7",
   "metadata": {},
   "outputs": [],
   "source": [
    "X, y = load_iris(return_X_y=True)\n",
    "X_scaled = StandardScaler().fit_transform(X)"
   ]
  },
  {
   "cell_type": "markdown",
   "id": "1d00e9bd",
   "metadata": {},
   "source": [
    "## 4. Implement PCA"
   ]
  },
  {
   "cell_type": "code",
   "execution_count": 4,
   "id": "81620f34",
   "metadata": {},
   "outputs": [],
   "source": [
    "class PCA:\n",
    "    def __init__(self, n_components: int):\n",
    "        self.n_components = n_components\n",
    "        self.components_ = None  # Eigenvectors\n",
    "        self.mean_ = None # Feature means\n",
    "        self.explained_variance_ = None  # Eigenvalues\n",
    "\n",
    "    def fit(self, X: np.ndarray):\n",
    "        # Step 1: Mean-center the data\n",
    "        self.mean_ = np.mean(X, axis=0)\n",
    "        X_centered = X - self.mean_\n",
    "\n",
    "        # Step 2: Covariance matrix\n",
    "        cov_matrix = np.cov(X_centered, rowvar=False)\n",
    "\n",
    "        # Step 3: Eigen decomposition\n",
    "        eigenvalues, eigenvectors = np.linalg.eigh(cov_matrix)\n",
    "\n",
    "        # Step 4: Sort eigenvectors by descending eigenvalues\n",
    "        sorted_idx = np.argsort(eigenvalues)[::-1]\n",
    "        eigenvalues = eigenvalues[sorted_idx]\n",
    "        eigenvectors = eigenvectors[:, sorted_idx]\n",
    "\n",
    "        # Step 5: Keep top n_components\n",
    "        self.components_ = eigenvectors[:, :self.n_components]\n",
    "        self.explained_variance_ = eigenvalues[:self.n_components]\n",
    "\n",
    "    def transform(self, X: np.ndarray) -> np.ndarray:\n",
    "        X_centered = X - self.mean_\n",
    "        return X_centered @ self.components_\n",
    "\n",
    "    def fit_transform(self, X: np.ndarray) -> np.ndarray:\n",
    "        self.fit(X)\n",
    "        return self.transform(X)\n",
    "\n",
    "    def explained_variance_ratio(self) -> np.ndarray:\n",
    "        total_variance = np.sum(self.explained_variance_)\n",
    "        return self.explained_variance_ / total_variance"
   ]
  },
  {
   "cell_type": "code",
   "execution_count": 5,
   "id": "c69ae2c2",
   "metadata": {},
   "outputs": [
    {
     "name": "stdout",
     "output_type": "stream",
     "text": [
      "Explained variance ratio: [0.76150718 0.23849282]\n"
     ]
    }
   ],
   "source": [
    "pca = PCA(n_components=2)\n",
    "X_pca = pca.fit_transform(X_scaled)\n",
    "\n",
    "print(\"Explained variance ratio:\", pca.explained_variance_ratio())"
   ]
  },
  {
   "cell_type": "code",
   "execution_count": 6,
   "id": "4e0465d7",
   "metadata": {},
   "outputs": [
    {
     "data": {
      "image/png": "[encoded data removed]",
      "text/plain": [
       "<Figure size 800x600 with 1 Axes>"
      ]
     },
     "metadata": {},
     "output_type": "display_data"
    }
   ],
   "source": [
    "def plot_pca(X_pca: np.ndarray, y: np.ndarray, title: str = \"PCA Projection\"):\n",
    "    plt.figure(figsize=(8, 6))\n",
    "    for label in np.unique(y):\n",
    "        plt.scatter(\n",
    "            X_pca[y == label, 0],\n",
    "            X_pca[y == label, 1],\n",
    "            label=f\"Class {label}\"\n",
    "        )\n",
    "    plt.xlabel(\"Principal Component 1\")\n",
    "    plt.ylabel(\"Principal Component 2\")\n",
    "    plt.title(title)\n",
    "    plt.legend()\n",
    "    plt.grid(True)\n",
    "    plt.show()\n",
    "\n",
    "plot_pca(X_pca, y, title=\"Iris Dataset PCA (Custom Implementation)\")"
   ]
  },
  {
   "cell_type": "markdown",
   "id": "381990df",
   "metadata": {},
   "source": [
    "## 5. Summary and Takeaways"
   ]
  },
  {
   "cell_type": "markdown",
   "id": "14c9ec64",
   "metadata": {},
   "source": [
    "- PCA finds new axes that maximize variance.\n",
    "- It uses eigenvalues and eigenvectors of the covariance matrix.\n",
    "- The result is an orthogonal projection into a lower-dimensional space.\n",
    "- PCA is unsupervised: it does not use labels, only the input features."
   ]
  },
  {
   "cell_type": "markdown",
   "id": "03f287e9",
   "metadata": {},
   "source": [
    "When to Use PCA?\n",
    "- ✅ High-dimensional data  \n",
    "- ✅ Multicollinearity  \n",
    "- ✅ Need for visualization  \n",
    "- ❌ Features are not linearly related  \n",
    "- ❌ You want to preserve interpretability of original features"
   ]
  }
 ],
 "metadata": {
  "kernelspec": {
   "display_name": ".venv",
   "language": "python",
   "name": "python3"
  },
  "language_info": {
   "codemirror_mode": {
    "name": "ipython",
    "version": 3
   },
   "file_extension": ".py",
   "mimetype": "text/x-python",
   "name": "python",
   "nbconvert_exporter": "python",
   "pygments_lexer": "ipython3",
   "version": "3.9.6"
  }
 },
 "nbformat": 4,
 "nbformat_minor": 5
}
