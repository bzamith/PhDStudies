{
 "cells": [
  {
   "cell_type": "markdown",
   "id": "5acda29a",
   "metadata": {},
   "source": [
    "# Machine Learning Algorithms - (12) Multi-Layer Perceptron"
   ]
  },
  {
   "cell_type": "markdown",
   "id": "8b5baf00",
   "metadata": {},
   "source": [
    "<div style=\"border: 1px solid #007acc; background-color: #e6f4ff; padding: 10px; border-radius: 5px; color: black;\">\n",
    "  <strong>📘 Info:</strong> I do not claim ownership of the content in this notebook. It is based on different tutorials and resources. Parts of the code or text may have been copy-pasted or adapted directly from those or other sources for learning purposes.\n",
    "</div>"
   ]
  },
  {
   "cell_type": "code",
   "execution_count": null,
   "id": "120070a0",
   "metadata": {},
   "outputs": [],
   "source": [
    "import warnings\n",
    "warnings.filterwarnings('ignore', category=DeprecationWarning)\n",
    "warnings.filterwarnings('ignore', category=FutureWarning)"
   ]
  }
 ],
 "metadata": {
  "language_info": {
   "name": "python"
  }
 },
 "nbformat": 4,
 "nbformat_minor": 5
}
