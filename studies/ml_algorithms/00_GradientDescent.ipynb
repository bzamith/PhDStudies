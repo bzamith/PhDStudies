{
 "cells": [
  {
   "cell_type": "markdown",
   "id": "d3584477",
   "metadata": {},
   "source": [
    "# Machine Learning Algorithms - (0) Gradient Descent"
   ]
  },
  {
   "cell_type": "markdown",
   "id": "6add450f",
   "metadata": {},
   "source": [
    "<div style=\"border: 1px solid #007acc; background-color: #e6f4ff; padding: 10px; border-radius: 5px; color: black;\">\n",
    "  <strong>📘 Info:</strong> I do not claim ownership of the content in this notebook. It is based on different tutorials and resources. Parts of the code or text may have been copy-pasted or adapted directly from those or other sources for learning purposes.\n",
    "</div>"
   ]
  },
  {
   "cell_type": "code",
   "execution_count": 1,
   "id": "19da2077",
   "metadata": {},
   "outputs": [],
   "source": [
    "import warnings\n",
    "warnings.filterwarnings('ignore', category=DeprecationWarning)\n",
    "warnings.filterwarnings('ignore', category=FutureWarning)"
   ]
  },
  {
   "cell_type": "code",
   "execution_count": 2,
   "id": "92600275",
   "metadata": {},
   "outputs": [],
   "source": [
    "import matplotlib.pyplot as plt\n",
    "import numpy as np"
   ]
  },
  {
   "cell_type": "code",
   "execution_count": 3,
   "id": "c1236b5c",
   "metadata": {},
   "outputs": [],
   "source": [
    "np.random.seed(42)"
   ]
  },
  {
   "cell_type": "markdown",
   "id": "4a80826e",
   "metadata": {},
   "source": [
    "## 1. Mathematical Intuition"
   ]
  },
  {
   "cell_type": "markdown",
   "id": "b7fd2405",
   "metadata": {},
   "source": [
    "Given a loss function $J(\\theta)$ depending on parameters $\\theta$, the goal is to find parameters that minimize this function."
   ]
  },
  {
   "cell_type": "markdown",
   "id": "52490a33",
   "metadata": {},
   "source": [
    "### 1.1. Gradient Descent (GD)\n",
    "\n",
    "Gradient Descent is an iterative optimization algorithm used to find the minimum of a function. In the context of machine learning, this function is usually a loss function that measures how well the model is performing.\n",
    "\n",
    "At each step, we compute the gradient (partial derivatives) of the loss function with respect to the parameters and update the parameters in the opposite direction of the gradient. This is because the gradient points in the direction of steepest ascent, so we move in the opposite direction to minimize the function.\n",
    "\n",
    "The update rule is:\n",
    "$$\n",
    "\\theta := \\theta - \\eta \\cdot \\nabla_\\theta J(\\theta)\n",
    "$$\n",
    "Where:\n",
    "- $\\theta$ are the parameters of the model.\n",
    "- $\\eta$ is the learning rate, a small positive value that controls the size of the update step.\n",
    "- $\\nabla_\\theta J(\\theta)$ is the gradient of the loss function with respect to $\\theta$.\n",
    "\n",
    "This update is repeated until convergence (i.e., until the change in $\\theta$ becomes very small or the loss no longer decreases significantly)."
   ]
  },
  {
   "cell_type": "markdown",
   "id": "0b173da1",
   "metadata": {},
   "source": [
    "### 1.2. Stochastic Gradient Descent (SGD)\n",
    "\n",
    "In practice, computing the gradient using the entire dataset can be computationally expensive, especially for large datasets. Stochastic Gradient Descent addresses this by approximating the gradient using a single randomly chosen data point at each iteration.\n",
    "\n",
    "Instead of computing:\n",
    "$$\n",
    "\\nabla_\\theta J(\\theta) = \\frac{1}{n} \\sum_{i=1}^n \\nabla_\\theta J(\\theta^{(i)})\n",
    "$$\n",
    "SGD updates the parameters using:\n",
    "$$\n",
    "\\theta := \\theta - \\eta \\cdot \\nabla_\\theta J(\\theta^{(i)})\n",
    "$$\n",
    "Where $\\theta^{(i)}$ refers to the $i$-th training example. This introduces noise in the updates but can lead to faster convergence in practice, especially when the dataset is large. The noise can also help escape local minima.\n"
   ]
  },
  {
   "cell_type": "markdown",
   "id": "39b42922",
   "metadata": {},
   "source": [
    "## 2. Data and Loss Function"
   ]
  },
  {
   "cell_type": "markdown",
   "id": "d675bc0a",
   "metadata": {},
   "source": [
    "We use the Mean Squared Error (MSE) for a simple linear regression model with bias:\n",
    "\n",
    "$$\n",
    "\\hat{y}_i = \\theta_0 + \\theta_1 x_i \\quad \\text{and} \\quad J(\\theta) = \\frac{1}{n} \\sum_{i=1}^{n} (\\theta_0 + \\theta_1 x_i - y_i)^2\n",
    "$$\n",
    "\n",
    "The gradients are:\n",
    "$$\n",
    "\\frac{\\partial J}{\\partial \\theta_0} = \\frac{2}{n} \\sum_{i=1}^{n} (\\hat{y}_i - y_i), \\quad \\frac{\\partial J}{\\partial \\theta_1} = \\frac{2}{n} \\sum_{i=1}^{n} x_i (\\hat{y}_i - y_i)\n",
    "$$"
   ]
  },
  {
   "cell_type": "code",
   "execution_count": 4,
   "id": "d446febc",
   "metadata": {},
   "outputs": [],
   "source": [
    "# Simulated data: y = 2x + 5 + noise\n",
    "x = np.linspace(0, 10, 100)\n",
    "y = 2 * x + 5 + np.random.normal(0, 2, size=x.shape)\n",
    "\n",
    "# Loss function (for plotting only)\n",
    "def loss(theta0, theta1, x, y):\n",
    "    y_pred = theta0 + theta1 * x\n",
    "    return np.mean((y_pred - y) ** 2)\n",
    "\n",
    "# Full-batch gradient for MSE loss\n",
    "def mse_gradient(theta0, theta1, x, y):\n",
    "    y_pred = theta0 + theta1 * x\n",
    "    error = y_pred - y\n",
    "    d_theta0 = 2 * np.mean(error)\n",
    "    d_theta1 = 2 * np.mean(x * error)\n",
    "    return d_theta0, d_theta1\n",
    "\n",
    "# Point-wise gradient (for SGD)\n",
    "def mse_gradient_single(theta0, theta1, x_i, y_i):\n",
    "    error = (theta0 + theta1 * x_i) - y_i\n",
    "    d_theta0 = 2 * error\n",
    "    d_theta1 = 2 * x_i * error\n",
    "    return d_theta0, d_theta1"
   ]
  },
  {
   "cell_type": "markdown",
   "id": "61902e71",
   "metadata": {},
   "source": [
    "## 3. Implementing Gradient Descent"
   ]
  },
  {
   "cell_type": "code",
   "execution_count": 5,
   "id": "77ef467c",
   "metadata": {},
   "outputs": [],
   "source": [
    "def gradient_descent(x, y, grad_func, init_theta0, init_theta1, learning_rate, n_epochs):\n",
    "    theta0 = init_theta0\n",
    "    theta1 = init_theta1\n",
    "    history = [(theta0, theta1)]\n",
    "    for epoch in range(n_epochs):\n",
    "        d_theta0, d_theta1 = grad_func(theta0, theta1, x, y)\n",
    "        theta0 -= learning_rate * d_theta0\n",
    "        theta1 -= learning_rate * d_theta1\n",
    "        history.append((theta0, theta1))\n",
    "    return history\n",
    "\n",
    "history_gd = gradient_descent(x, y, mse_gradient, init_theta0=0.0, init_theta1=0.0, learning_rate=0.01, n_epochs=100)"
   ]
  },
  {
   "cell_type": "markdown",
   "id": "b430f1f3",
   "metadata": {},
   "source": [
    "## 4. Implementing Stochastic Gradient Descent (SGD)"
   ]
  },
  {
   "cell_type": "code",
   "execution_count": 6,
   "id": "74d5db89",
   "metadata": {},
   "outputs": [],
   "source": [
    "def stochastic_gradient_descent(x, y, grad_func, init_theta0, init_theta1, learning_rate, n_epochs):\n",
    "    theta0 = init_theta0\n",
    "    theta1 = init_theta1\n",
    "    history = [(theta0, theta1)]\n",
    "    for epoch in range(n_epochs):\n",
    "        indices = np.random.permutation(len(x))\n",
    "        for i in indices:\n",
    "            d_theta0, d_theta1 = grad_func(theta0, theta1, x[i], y[i])\n",
    "            theta0 -= learning_rate * d_theta0\n",
    "            theta1 -= learning_rate * d_theta1\n",
    "        history.append((theta0, theta1))\n",
    "    return history\n",
    "\n",
    "history_sgd = stochastic_gradient_descent(x, y, mse_gradient_single, init_theta0=0.0, init_theta1=0.0, learning_rate=0.01, n_epochs=100)"
   ]
  },
  {
   "cell_type": "markdown",
   "id": "6397594f",
   "metadata": {},
   "source": [
    "## 5. Visualization of Convergence"
   ]
  },
  {
   "cell_type": "code",
   "execution_count": 7,
   "id": "52b348cb",
   "metadata": {},
   "outputs": [
    {
     "data": {
      "image/png": "[encoded data removed]",
      "text/plain": [
       "<Figure size 1000x600 with 1 Axes>"
      ]
     },
     "metadata": {},
     "output_type": "display_data"
    }
   ],
   "source": [
    "loss_vals_gd = [loss(t0, t1, x, y) for t0, t1 in history_gd]\n",
    "loss_vals_sgd = [loss(t0, t1, x, y) for t0, t1 in history_sgd]\n",
    "\n",
    "plt.figure(figsize=(10, 6))\n",
    "plt.plot(loss_vals_gd, label='GD Loss', marker='o', markersize=3)\n",
    "plt.plot(loss_vals_sgd, label='SGD Loss', alpha=0.7)\n",
    "plt.xlabel('Iteration')\n",
    "plt.ylabel('Loss')\n",
    "plt.title('GD vs SGD Loss Convergence')\n",
    "plt.legend()\n",
    "plt.grid(True)\n",
    "plt.show()"
   ]
  }
 ],
 "metadata": {
  "kernelspec": {
   "display_name": ".venv",
   "language": "python",
   "name": "python3"
  },
  "language_info": {
   "codemirror_mode": {
    "name": "ipython",
    "version": 3
   },
   "file_extension": ".py",
   "mimetype": "text/x-python",
   "name": "python",
   "nbconvert_exporter": "python",
   "pygments_lexer": "ipython3",
   "version": "3.9.6"
  }
 },
 "nbformat": 4,
 "nbformat_minor": 5
}
