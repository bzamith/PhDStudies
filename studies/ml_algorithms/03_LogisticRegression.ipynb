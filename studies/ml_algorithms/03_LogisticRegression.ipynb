{
 "cells": [
  {
   "cell_type": "markdown",
   "id": "5acda29a",
   "metadata": {},
   "source": [
    "# Machine Learning Algorithms - (3) Logistic Regression"
   ]
  },
  {
   "cell_type": "markdown",
   "id": "8b5baf00",
   "metadata": {},
   "source": [
    "<div style=\"border: 1px solid #007acc; background-color: #e6f4ff; padding: 10px; border-radius: 5px; color: black;\">\n",
    "  <strong>📘 Info:</strong> I do not claim ownership of the content in this notebook. It is based on different tutorials and resources. Parts of the code or text may have been copy-pasted or adapted directly from those or other sources for learning purposes.\n",
    "</div>"
   ]
  },
  {
   "cell_type": "code",
   "execution_count": 1,
   "id": "120070a0",
   "metadata": {},
   "outputs": [],
   "source": [
    "import warnings\n",
    "warnings.filterwarnings('ignore', category=DeprecationWarning)\n",
    "warnings.filterwarnings('ignore', category=FutureWarning)"
   ]
  },
  {
   "cell_type": "code",
   "execution_count": 2,
   "id": "178af0b2",
   "metadata": {},
   "outputs": [],
   "source": [
    "import matplotlib.pyplot as plt\n",
    "import numpy as np\n",
    "from tqdm import tqdm\n",
    "\n",
    "from sklearn.datasets import make_classification\n",
    "from sklearn.metrics import accuracy_score\n",
    "from sklearn.model_selection import train_test_split\n",
    "from sklearn.preprocessing import StandardScaler"
   ]
  },
  {
   "cell_type": "markdown",
   "id": "e579ee02",
   "metadata": {},
   "source": [
    "## 1. What is Logistic Regression?"
   ]
  },
  {
   "cell_type": "markdown",
   "id": "656f5c0e",
   "metadata": {},
   "source": [
    "Logistic Regression is a supervised learning algorithm used for **binary classification** tasks. Despite the name, it's actually a classification algorithm, not a regression one.\n",
    "\n",
    "Unlike Linear Regression which predicts continuous values, Logistic Regression predicts probabilities. To map predicted values to a [0, 1] range, we use the sigmoid function:\n",
    "\n",
    "$\\sigma(z) = \\frac{1}{1 + e^{-z}}$\n",
    "\n",
    "Where:\n",
    "- $z = \\theta^T x = \\theta_0 + \\theta_1 x_1 + \\dots + \\theta_n x_n$\n",
    "- $\\sigma(z)$ is the predicted probability of the positive class."
   ]
  },
  {
   "cell_type": "markdown",
   "id": "257d702a",
   "metadata": {},
   "source": [
    "We interpret the output of the sigmoid as the probability that $y = 1$, given input features $x$:\n",
    "\n",
    "$P(y=1|x) = \\sigma(\\theta^T x)$\n",
    "\n",
    "$$\n",
    "\\hat{y} =\n",
    "\\begin{cases}\n",
    "1 & \\text{if } \\sigma(z) \\geq 0.5 \\\\\n",
    "0 & \\text{otherwise}\n",
    "\\end{cases}\n",
    "$$"
   ]
  },
  {
   "cell_type": "markdown",
   "id": "8cc8dbc8",
   "metadata": {},
   "source": [
    "## 2. The Loss Function: Binary Cross Entropy"
   ]
  },
  {
   "cell_type": "markdown",
   "id": "3d95c313",
   "metadata": {},
   "source": [
    "To measure how well our predictions match the true labels, we use a loss function called binary cross-entropy (also known as log loss).\n",
    "\n",
    "For each training example $i$, let:\n",
    "- $y^{(i)} \\in \\{0, 1\\}$ be the true label,\n",
    "- $\\hat{y}^{(i)} = \\sigma(z^{(i)}) \\in (0, 1)$ be the predicted probability.\n",
    "\n",
    "The binary cross-entropy loss for one sample is:\n",
    "\n",
    "$$\n",
    "\\mathcal{L}^{(i)} = - \\left[ y^{(i)} \\log(\\hat{y}^{(i)}) + (1 - y^{(i)}) \\log(1 - \\hat{y}^{(i)}) \\right]\n",
    "$$\n",
    "\n",
    "This loss penalizes wrong confident predictions more than less confident ones:\n",
    "- If $y = 1$, we want $\\hat{y} \\to 1$, so $\\log(\\hat{y})$ is maximized.\n",
    "- If $y = 0$, we want $\\hat{y} \\to 0$, so $\\log(1 - \\hat{y})$ is maximized.\n",
    "\n",
    "For the whole dataset of $m$ examples, the cost function is:\n",
    "\n",
    "$$\n",
    "J(\\theta) = \\frac{1}{m} \\sum_{i=1}^m \\mathcal{L}^{(i)} =\n",
    "- \\frac{1}{m} \\sum_{i=1}^m \\left[ y^{(i)} \\log(\\hat{y}^{(i)}) + (1 - y^{(i)}) \\log(1 - \\hat{y}^{(i)}) \\right]\n",
    "$$\n",
    "\n",
    "The goal of training is to minimize this loss by adjusting $\\theta$ so that predictions get closer to true labels."
   ]
  },
  {
   "cell_type": "markdown",
   "id": "6096766c",
   "metadata": {},
   "source": [
    "## 3. Generating a Dataset"
   ]
  },
  {
   "cell_type": "code",
   "execution_count": 3,
   "id": "4910d075",
   "metadata": {},
   "outputs": [],
   "source": [
    "X, y = make_classification(\n",
    "    n_samples=500, n_features=2, n_redundant=0,\n",
    "    n_informative=2, random_state=42, n_clusters_per_class=1\n",
    ")\n",
    "scaler = StandardScaler()\n",
    "X = scaler.fit_transform(X)\n",
    "X_train, X_test, y_train, y_test = train_test_split(X, y, test_size=0.2, random_state=42)"
   ]
  },
  {
   "cell_type": "markdown",
   "id": "6f931a36",
   "metadata": {},
   "source": [
    "## 4. Implementing Logistic Regression"
   ]
  },
  {
   "cell_type": "code",
   "execution_count": 4,
   "id": "8289a884",
   "metadata": {},
   "outputs": [],
   "source": [
    "class LogisticRegression:\n",
    "    def __init__(self, learning_rate=0.01, n_epochs=1000):\n",
    "        self.learning_rate = learning_rate\n",
    "        self.n_epochs = n_epochs\n",
    "        self.theta = None\n",
    "        self.bias = None\n",
    "\n",
    "    def _sigmoid(self, z):\n",
    "        return 1 / (1 + np.exp(-z))\n",
    "\n",
    "    def _compute_loss(self, y, y_hat):\n",
    "        # Add small epsilon to avoid log(0)\n",
    "        epsilon = 1e-8\n",
    "        return -np.mean(y * np.log(y_hat + epsilon) + (1 - y) * np.log(1 - y_hat + epsilon))\n",
    "\n",
    "    def fit(self, X, y):\n",
    "        n_samples, n_features = X.shape\n",
    "        self.theta = np.zeros(n_features)\n",
    "        self.bias = 0\n",
    "\n",
    "        for _ in tqdm(range(self.n_epochs), desc=\"Training\"):\n",
    "            linear_output = np.dot(X, self.theta) + self.bias\n",
    "            y_hat = self._sigmoid(linear_output)\n",
    "\n",
    "            # Compute gradients\n",
    "            error = y_hat - y\n",
    "            d_theta = (1 / n_samples) * np.dot(X.T, error)\n",
    "            d_bias = (1 / n_samples) * np.sum(error)\n",
    "\n",
    "            # Gradient descent step\n",
    "            self.theta -= self.learning_rate * d_theta\n",
    "            self.bias -= self.learning_rate * d_bias\n",
    "\n",
    "    def predict_proba(self, X):\n",
    "        linear_output = np.dot(X, self.theta) + self.bias\n",
    "        return self._sigmoid(linear_output)\n",
    "\n",
    "    def predict(self, X, threshold=0.5):\n",
    "        probabilities = self.predict_proba(X)\n",
    "        return (probabilities >= threshold).astype(int)"
   ]
  },
  {
   "cell_type": "code",
   "execution_count": 5,
   "id": "48b65cb4",
   "metadata": {},
   "outputs": [
    {
     "name": "stderr",
     "output_type": "stream",
     "text": [
      "Training: 100%|██████████| 1000/1000 [00:00<00:00, 85673.22it/s]\n"
     ]
    },
    {
     "data": {
      "image/png": "[encoded data removed]",
      "text/plain": [
       "<Figure size 640x480 with 1 Axes>"
      ]
     },
     "metadata": {},
     "output_type": "display_data"
    }
   ],
   "source": [
    "model = LogisticRegression(learning_rate=0.1, n_epochs=1000)\n",
    "model.fit(X_train, y_train)\n",
    "y_pred = model.predict(X_test)\n",
    "\n",
    "def plot_decision_boundary(X, y, model):\n",
    "    x_min, x_max = X[:, 0].min() - 0.5, X[:, 0].max() + 0.5\n",
    "    y_min, y_max = X[:, 1].min() - 0.5, X[:, 1].max() + 0.5\n",
    "    xx, yy = np.meshgrid(np.linspace(x_min, x_max, 300),\n",
    "                         np.linspace(y_min, y_max, 300))\n",
    "    grid = np.c_[xx.ravel(), yy.ravel()]\n",
    "    preds = model.predict(grid).reshape(xx.shape)\n",
    "\n",
    "    plt.contourf(xx, yy, preds, alpha=0.3)\n",
    "    plt.scatter(X[:, 0], X[:, 1], c=y, edgecolor='k', cmap='bwr')\n",
    "    plt.title(\"Decision Boundary\")\n",
    "    plt.xlabel(\"Feature 1\")\n",
    "    plt.ylabel(\"Feature 2\")\n",
    "    plt.grid(True)\n",
    "    plt.show()\n",
    "\n",
    "plot_decision_boundary(X_test, y_test, model)"
   ]
  },
  {
   "cell_type": "markdown",
   "id": "5d9e2842",
   "metadata": {},
   "source": [
    "## 6. Model Evaluation"
   ]
  },
  {
   "cell_type": "code",
   "execution_count": 6,
   "id": "3650a18a",
   "metadata": {},
   "outputs": [
    {
     "name": "stdout",
     "output_type": "stream",
     "text": [
      "Test Accuracy: 0.88\n"
     ]
    }
   ],
   "source": [
    "accuracy = accuracy_score(y_test, y_pred)\n",
    "print(f\"Test Accuracy: {accuracy:.2f}\")"
   ]
  },
  {
   "cell_type": "markdown",
   "id": "704d16ad",
   "metadata": {},
   "source": [
    "## 7. Summary and Takeaways"
   ]
  },
  {
   "cell_type": "markdown",
   "id": "f3ef2cfb",
   "metadata": {},
   "source": [
    "- Logistic Regression outputs probabilities using the sigmoid function.\n",
    "- It is trained using gradient descent and binary cross-entropy loss.\n",
    "- It's simple yet powerful for linear decision boundaries.\n",
    "- It forms the basis of more complex models like neural networks."
   ]
  }
 ],
 "metadata": {
  "kernelspec": {
   "display_name": ".venv",
   "language": "python",
   "name": "python3"
  },
  "language_info": {
   "codemirror_mode": {
    "name": "ipython",
    "version": 3
   },
   "file_extension": ".py",
   "mimetype": "text/x-python",
   "name": "python",
   "nbconvert_exporter": "python",
   "pygments_lexer": "ipython3",
   "version": "3.9.6"
  }
 },
 "nbformat": 4,
 "nbformat_minor": 5
}
