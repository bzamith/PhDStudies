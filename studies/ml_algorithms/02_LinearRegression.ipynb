{
 "cells": [
  {
   "cell_type": "markdown",
   "id": "1b756107",
   "metadata": {},
   "source": [
    "# Machine Learning Algorithms - (2) Linear Regression"
   ]
  },
  {
   "cell_type": "markdown",
   "id": "ab3dd214",
   "metadata": {},
   "source": [
    "<div style=\"border: 1px solid #007acc; background-color: #e6f4ff; padding: 10px; border-radius: 5px; color: black;\">\n",
    "  <strong>📘 Info:</strong> I do not claim ownership of the content in this notebook. It is based on different tutorials and resources. Parts of the code or text may have been copy-pasted or adapted directly from those or other sources for learning purposes.\n",
    "</div>"
   ]
  },
  {
   "cell_type": "code",
   "execution_count": 1,
   "id": "a2a11f4a",
   "metadata": {},
   "outputs": [],
   "source": [
    "import warnings\n",
    "warnings.filterwarnings('ignore', category=DeprecationWarning)\n",
    "warnings.filterwarnings('ignore', category=FutureWarning)"
   ]
  },
  {
   "cell_type": "code",
   "execution_count": 2,
   "id": "db655813",
   "metadata": {},
   "outputs": [],
   "source": [
    "import matplotlib.pyplot as plt\n",
    "import numpy as np\n",
    "\n",
    "from sklearn.metrics import mean_squared_error\n",
    "from tqdm import tqdm"
   ]
  },
  {
   "cell_type": "code",
   "execution_count": 3,
   "id": "1c5492de",
   "metadata": {},
   "outputs": [],
   "source": [
    "np.random.seed(42)"
   ]
  },
  {
   "cell_type": "markdown",
   "id": "3cf8023b",
   "metadata": {},
   "source": [
    "## 1. What is Linear Regression?"
   ]
  },
  {
   "cell_type": "markdown",
   "id": "f78c04f6",
   "metadata": {},
   "source": [
    "Linear regression is one of the simplest yet most powerful **regression** algorithms in machine learning.\n",
    "It models the relationship between a dependent variable $y$ and one or more independent variables $X$ by fitting a linear equation to observed data."
   ]
  },
  {
   "cell_type": "markdown",
   "id": "ea5592ea",
   "metadata": {},
   "source": [
    "### 1.1. Assumptions\n",
    "- Linearity: The relationship between the independent variables $X$ and the dependent variable $y$ is linear.\n",
    "  - $y = \\theta_0 + \\theta_1 x_1 + \\dots + \\theta_n x_n + \\varepsilon$\n",
    "  - Implication: The model captures the trend using a straight line (or hyperplane in multivariate cases). If the relationship is non-linear, predictions and inferences may be invalid.\n",
    "  - How to check: Plot $x$ and $y$ — if a pattern emerges (e.g., curve), linearity may be violated.\n",
    "- Homoscedasticity: The variance of the residuals (errors) is constant across all levels of the independent variables.\n",
    "  - $\\text{Var}(\\varepsilon_i) = \\sigma^2 \\quad \\forall i$\n",
    "  - Implication: If residuals spread more widely at some levels of $x$, standard errors and hypothesis tests become unreliable.\n",
    "  - Violation leads to: Heteroscedasticity — inflated type I errors and inefficient estimates.\n",
    "  - How to check: Plot residuals vs. predictions — the spread should be roughly equal (no cone shape).\n",
    "- Independence: All observations are independent of one another.\n",
    "  - $\\text{Cov}(y_i, y_j) = 0 \\quad \\text{for } i \\neq j$\n",
    "  - Implication: Dependencies (e.g., time-series autocorrelation or grouped data) can bias standard errors and lead to invalid inference.\n",
    "  - How to check: For time-series, plot residuals over time or use tests like Durbin-Watson.\n",
    "- Normality: The residuals are normally distributed.\n",
    "  - $\\varepsilon_i = y_i - \\hat{y}_i \\sim \\mathcal{N}(0, \\sigma^2)$\n",
    "  - Implication: This assumption is mainly important when you're performing statistical inference.\n",
    "  - How to check: Use a histogram or Q-Q plot of residuals. A roughly bell-shaped or straight Q-Q line suggests normality.\n"
   ]
  },
  {
   "cell_type": "markdown",
   "id": "045573ad",
   "metadata": {},
   "source": [
    "### 1.2. Univariate Linear Regression\n",
    "\n",
    "The model has one feature (independent variable):\n",
    "\n",
    "$\\hat{y} = \\theta_0 + \\theta_1 x$\n",
    "\n",
    "Where:\n",
    "- $\\hat{y}$ is the predicted output\n",
    "- $\\theta_0$ is the intercept (bias term)\n",
    "- $\\theta_1$ is the weight (slope) for feature $x$"
   ]
  },
  {
   "cell_type": "markdown",
   "id": "9ee3a888",
   "metadata": {},
   "source": [
    "### 1.3. Multivariate Linear Regression\n",
    "\n",
    "The model has multiple features:\n",
    "\n",
    "$\\hat{y} = \\theta_0 + \\theta_1 x_1 + \\theta_2 x_2 + \\dots + \\theta_n x_n$\n",
    "\n",
    "Or more compactly, using vector notation:\n",
    "\n",
    "$\\hat{y} = \\theta_0 + \\mathbf{x}^\\top \\boldsymbol{\\theta}$\n",
    "\n",
    "Where:\n",
    "- $\\mathbf{x}$ is the feature vector $[x_1, x_2, \\dots, x_n]$\n",
    "- $\\boldsymbol{\\theta}$ is the parameter vector $[\\theta_1, \\theta_2, \\dots, \\theta_n]$\n",
    "- $\\theta_0$ is often included by augmenting $\\mathbf{x}$ with a 1 as its first element\n"
   ]
  },
  {
   "cell_type": "markdown",
   "id": "345bcf67",
   "metadata": {},
   "source": [
    "## 2. The Loss Function: Residual Sum of Squares (RSS)"
   ]
  },
  {
   "cell_type": "markdown",
   "id": "34ba6b28",
   "metadata": {},
   "source": [
    "To fit a line to the data, we need a way to measure how \"wrong\" our model is — that is, how far the predicted values $\\hat{y}_i$ are from the true values $y_i$.\n",
    "\n",
    "The most common loss function for linear regression is the Residual Sum of Squares (RSS):\n",
    "\n",
    "$\\text{RSS} = \\sum_{i=1}^{n} (y_i - \\hat{y}_i)^2$\n",
    "\n",
    "Where:\n",
    "- $y_i$ is the actual value\n",
    "- $\\hat{y}_i$ is the predicted value from the model\n",
    "\n",
    "Since we want to average this over all examples and avoid large gradients, we typically minimize the Mean Squared Error (MSE) instead:\n",
    "\n",
    "$\\text{MSE} = \\frac{1}{n} \\sum_{i=1}^{n} (y_i - \\hat{y}_i)^2$"
   ]
  },
  {
   "cell_type": "markdown",
   "id": "16b2e5c8",
   "metadata": {},
   "source": [
    "MSE measures the variance of the residuals, whereas Mean Absolute Error (MAE) measures the average of the residuals. Hence, MSE penalizes larger errors more than MAE, making it more sensitive to outliers."
   ]
  },
  {
   "cell_type": "markdown",
   "id": "c8d00e12",
   "metadata": {},
   "source": [
    "Why Use Squared Errors?\n",
    "\n",
    "- Squaring emphasizes larger errors (penalizes outliers more heavily).\n",
    "- It's differentiable — which is required for optimization via gradient descent.\n",
    "- It's convex in the case of linear regression — meaning there's a single global minimum.\n"
   ]
  },
  {
   "cell_type": "markdown",
   "id": "51e8e514",
   "metadata": {},
   "source": [
    "When we say we are “fitting a line,” we mean we are finding the parameters $\\theta_0, \\theta_1$ (or more generally $\\boldsymbol{\\theta}$ that minimize the total squared difference between the true values and the predicted values.\n",
    "\n",
    "This gives us a line that is as close as possible to all data points, in terms of squared distance."
   ]
  },
  {
   "cell_type": "markdown",
   "id": "b20f78be",
   "metadata": {},
   "source": [
    "## 3. Generating a Simple Dataset"
   ]
  },
  {
   "cell_type": "code",
   "execution_count": 4,
   "id": "1f70d5a0",
   "metadata": {},
   "outputs": [
    {
     "data": {
      "image/png": "[encoded data removed]",
      "text/plain": [
       "<Figure size 640x480 with 1 Axes>"
      ]
     },
     "metadata": {},
     "output_type": "display_data"
    }
   ],
   "source": [
    "# Let's start with a simple linear function with some noise\n",
    "def generate_linear_data(n_samples=100):\n",
    "    X = np.linspace(0, 10, n_samples)\n",
    "    noise = np.random.normal(0, 1, size=n_samples)\n",
    "    y = 3 + 2 * X + noise  # θ₀ = 3, θ₁ = 2\n",
    "    return X.reshape(-1, 1), y\n",
    "\n",
    "X, y = generate_linear_data()\n",
    "\n",
    "plt.scatter(X, y, label=\"Data\")\n",
    "plt.xlabel(\"X\")\n",
    "plt.ylabel(\"y\")\n",
    "plt.title(\"Generated Linear Data\")\n",
    "plt.legend()\n",
    "plt.grid(True)\n",
    "plt.show()"
   ]
  },
  {
   "cell_type": "markdown",
   "id": "fe3e88db",
   "metadata": {},
   "source": [
    "## 4. Implementing Linear Regression"
   ]
  },
  {
   "cell_type": "markdown",
   "id": "1ab59417",
   "metadata": {},
   "source": [
    "To train a linear regression model, we aim to find the best parameters ($\\theta$) that minimize the Mean Squared Error (MSE) between the predicted and true values."
   ]
  },
  {
   "cell_type": "markdown",
   "id": "adc9cc86",
   "metadata": {},
   "source": [
    "Gradient Descent is an iterative optimization algorithm used to minimize a function by updating parameters in the opposite direction of the gradient of the loss function.\n",
    "\n",
    "For linear regression, the MSE loss function is:\n",
    "\n",
    "$J(\\theta, b) = \\frac{1}{n} \\sum_{i=1}^{n} \\left( \\hat{y}_i - y_i \\right)^2 = \\frac{1}{n} \\sum_{i=1}^{n} \\left( (\\theta^\\top x_i + b) - y_i \\right)^2$\n",
    "\n",
    "We update parameters using the following rules:\n",
    "\n",
    "- $\\theta := \\theta - \\alpha \\cdot \\frac{\\partial J}{\\partial \\theta}$\n",
    "- $b := b - \\alpha \\cdot \\frac{\\partial J}{\\partial b}$\n",
    "\n",
    "Where:\n",
    "- $\\alpha$ is the learning rate\n",
    "- $\\frac{\\partial J}{\\partial \\theta}$ is the gradient of the loss with respect to the weights\n",
    "- $\\frac{\\partial J}{\\partial b}$ is the gradient with respect to the bias\n"
   ]
  },
  {
   "cell_type": "markdown",
   "id": "8a33f6b9",
   "metadata": {},
   "source": [
    "Algorithm:\n",
    "\n",
    "1. Initialize weights (`theta`) and bias (`b`) to zero.\n",
    "2. Loop for `n_iters`:\n",
    "   - Compute predictions: $\\hat{y} = X \\cdot \\theta + b$\n",
    "   - Calculate error: $\\text{error} = \\hat{y} - y$\n",
    "   - Compute gradients:\n",
    "     - $\\frac{\\partial J}{\\partial \\theta} = \\frac{1}{n} X^T \\cdot \\text{error}$\n",
    "     - $\\frac{\\partial J}{\\partial b} = \\frac{1}{n} \\sum \\text{error}$\n",
    "   - Update weights and bias using the learning rate.\n",
    "3. After convergence, use the model to make predictions with the learned parameters.\n",
    "\n",
    "This method is flexible and can be extended to multivariate regression or regularized versions like Ridge and Lasso."
   ]
  },
  {
   "cell_type": "code",
   "execution_count": 8,
   "id": "41faaa39",
   "metadata": {},
   "outputs": [],
   "source": [
    "class LinearRegression:\n",
    "    def __init__(self, learning_rate=0.01, n_epochs=1000):\n",
    "        self.learning_rate = learning_rate\n",
    "        self.n_epochs = n_epochs\n",
    "        self.theta = None\n",
    "        self.bias = None\n",
    "\n",
    "    def fit(self, X, y):\n",
    "        n_samples, n_features = X.shape\n",
    "        self.theta = np.zeros(n_features)\n",
    "        self.bias = 0\n",
    "\n",
    "        for _ in tqdm(range(self.n_epochs), desc=\"Training\"):\n",
    "            y_predicted = np.dot(X, self.theta) + self.bias\n",
    "            error = y_predicted - y\n",
    "\n",
    "            d_theta = (1 / n_samples) * np.dot(X.T, error)\n",
    "            d_bias = (1 / n_samples) * np.sum(error)\n",
    "\n",
    "            self.theta -= self.learning_rate * d_theta\n",
    "            self.bias -= self.learning_rate * d_bias\n",
    "\n",
    "    def predict(self, X):\n",
    "        return np.dot(X, self.theta) + self.bias"
   ]
  },
  {
   "cell_type": "code",
   "execution_count": 6,
   "id": "05d2140b",
   "metadata": {},
   "outputs": [
    {
     "name": "stderr",
     "output_type": "stream",
     "text": [
      "Training: 100%|██████████| 1000/1000 [00:00<00:00, 86079.38it/s]"
     ]
    },
    {
     "name": "stdout",
     "output_type": "stream",
     "text": [
      "Theta (slope): 2.04\n",
      "Bias (intercept): 2.62\n"
     ]
    },
    {
     "name": "stderr",
     "output_type": "stream",
     "text": [
      "\n"
     ]
    },
    {
     "data": {
      "image/png": "[encoded data removed]",
      "text/plain": [
       "<Figure size 640x480 with 1 Axes>"
      ]
     },
     "metadata": {},
     "output_type": "display_data"
    }
   ],
   "source": [
    "model = LinearRegression()\n",
    "model.fit(X, y)\n",
    "y_pred = model.predict(X)\n",
    "\n",
    "print(f\"Theta (slope): {model.theta[0]:.2f}\")\n",
    "print(f\"Bias (intercept): {model.bias:.2f}\")\n",
    "\n",
    "plt.scatter(X, y, label=\"Data\")\n",
    "plt.plot(X, y_pred, color='red', label=\"Linear Regression Line\")\n",
    "plt.xlabel(\"X\")\n",
    "plt.ylabel(\"y\")\n",
    "plt.legend()\n",
    "plt.title(\"Fitted Line\")\n",
    "plt.grid(True)\n",
    "plt.show()"
   ]
  },
  {
   "cell_type": "markdown",
   "id": "69357a4a",
   "metadata": {},
   "source": [
    "## 5. Model Evaluation"
   ]
  },
  {
   "cell_type": "code",
   "execution_count": 7,
   "id": "081509e9",
   "metadata": {},
   "outputs": [
    {
     "name": "stdout",
     "output_type": "stream",
     "text": [
      "Mean Squared Error (MSE): 0.83\n",
      "Root Mean Squared Error (RMSE): 0.91\n"
     ]
    }
   ],
   "source": [
    "mse = mean_squared_error(y, y_pred)\n",
    "rmse = np.sqrt(mse)\n",
    "print(f\"Mean Squared Error (MSE): {mse:.2f}\")\n",
    "print(f\"Root Mean Squared Error (RMSE): {rmse:.2f}\")"
   ]
  },
  {
   "cell_type": "markdown",
   "id": "6df687c1",
   "metadata": {},
   "source": [
    "## 6. Summary and Takeaways"
   ]
  },
  {
   "cell_type": "markdown",
   "id": "12dc8e39",
   "metadata": {},
   "source": [
    "- Linear regression models a linear relationship between X and y\n",
    "- Gradient Descent minimizes MSE by updating parameters iteratively\n",
    "- Bias-variance tradeoff explains model generalization behavior"
   ]
  }
 ],
 "metadata": {
  "kernelspec": {
   "display_name": ".venv",
   "language": "python",
   "name": "python3"
  },
  "language_info": {
   "codemirror_mode": {
    "name": "ipython",
    "version": 3
   },
   "file_extension": ".py",
   "mimetype": "text/x-python",
   "name": "python",
   "nbconvert_exporter": "python",
   "pygments_lexer": "ipython3",
   "version": "3.9.6"
  }
 },
 "nbformat": 4,
 "nbformat_minor": 5
}
